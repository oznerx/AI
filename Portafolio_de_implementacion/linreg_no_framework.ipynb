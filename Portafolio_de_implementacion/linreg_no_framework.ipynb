{
 "cells": [
  {
   "cell_type": "markdown",
   "metadata": {},
   "source": [
    "Import The Libraries"
   ]
  },
  {
   "cell_type": "code",
   "execution_count": 1,
   "metadata": {},
   "outputs": [],
   "source": [
    "import pandas as pd\n",
    "import numpy as np\n",
    "import matplotlib.pyplot as plt\n",
    "np.random.seed(42)\n",
    "from sklearn.preprocessing import StandardScaler"
   ]
  },
  {
   "cell_type": "markdown",
   "metadata": {},
   "source": [
    "Create the Linear Regression Model Class"
   ]
  },
  {
   "cell_type": "code",
   "execution_count": 2,
   "metadata": {},
   "outputs": [],
   "source": [
    "class LinearRegression:\n",
    "\n",
    "    def __init__(self, iterations, alpha):\n",
    "        self.iterations = iterations\n",
    "        self.alpha = alpha\n",
    "        self.theta = None\n",
    "    \n",
    "    def fit(self, X, y):\n",
    "        X = np.insert(X.reshape(-1, 1), 0, 1, axis=1)\n",
    "        self.theta = np.zeros(X.shape[1])\n",
    "        m = len(y)\n",
    "        \n",
    "        for i in range(self.iterations):\n",
    "            h = np.dot(X, self.theta)\n",
    "            gradient = (1/m) * np.dot(X.T, (h - y))\n",
    "            \n",
    "            self.theta -= self.alpha * gradient\n",
    "            \n",
    "            # Track the cost function\n",
    "            cost = np.mean((h - y)**2) / 2\n",
    "            if i % 1000 == 0:\n",
    "                print(f\"Iteration {i}, Cost: {cost}\")\n",
    "    \n",
    "    def predict(self, X):\n",
    "        X = np.insert(X.reshape(-1, 1), 0, 1, axis=1)\n",
    "        return np.dot(X, self.theta)\n",
    "    "
   ]
  },
  {
   "cell_type": "markdown",
   "metadata": {},
   "source": [
    "We are going to use solve the Week01_Challenge"
   ]
  },
  {
   "cell_type": "code",
   "execution_count": 3,
   "metadata": {},
   "outputs": [
    {
     "data": {
      "text/html": [
       "<div>\n",
       "<style scoped>\n",
       "    .dataframe tbody tr th:only-of-type {\n",
       "        vertical-align: middle;\n",
       "    }\n",
       "\n",
       "    .dataframe tbody tr th {\n",
       "        vertical-align: top;\n",
       "    }\n",
       "\n",
       "    .dataframe thead th {\n",
       "        text-align: right;\n",
       "    }\n",
       "</style>\n",
       "<table border=\"1\" class=\"dataframe\">\n",
       "  <thead>\n",
       "    <tr style=\"text-align: right;\">\n",
       "      <th></th>\n",
       "      <th>Celsius</th>\n",
       "      <th>Valks</th>\n",
       "    </tr>\n",
       "  </thead>\n",
       "  <tbody>\n",
       "    <tr>\n",
       "      <th>0</th>\n",
       "      <td>61.4720</td>\n",
       "      <td>-139.740</td>\n",
       "    </tr>\n",
       "    <tr>\n",
       "      <th>1</th>\n",
       "      <td>70.5790</td>\n",
       "      <td>-156.600</td>\n",
       "    </tr>\n",
       "    <tr>\n",
       "      <th>2</th>\n",
       "      <td>-7.3013</td>\n",
       "      <td>73.269</td>\n",
       "    </tr>\n",
       "    <tr>\n",
       "      <th>3</th>\n",
       "      <td>71.3380</td>\n",
       "      <td>-165.420</td>\n",
       "    </tr>\n",
       "    <tr>\n",
       "      <th>4</th>\n",
       "      <td>43.2360</td>\n",
       "      <td>-75.835</td>\n",
       "    </tr>\n",
       "  </tbody>\n",
       "</table>\n",
       "</div>"
      ],
      "text/plain": [
       "   Celsius    Valks\n",
       "0  61.4720 -139.740\n",
       "1  70.5790 -156.600\n",
       "2  -7.3013   73.269\n",
       "3  71.3380 -165.420\n",
       "4  43.2360  -75.835"
      ]
     },
     "execution_count": 3,
     "metadata": {},
     "output_type": "execute_result"
    }
   ],
   "source": [
    "df = pd.read_csv('Valhalla23.csv')\n",
    "df.head()"
   ]
  },
  {
   "cell_type": "markdown",
   "metadata": {},
   "source": [
    "Split the data into train and test sets"
   ]
  },
  {
   "cell_type": "code",
   "execution_count": 4,
   "metadata": {},
   "outputs": [],
   "source": [
    "train_size = 0.8\n",
    "train = df[:int(len(df)*train_size)]\n",
    "test = df[int(len(df)*train_size):]"
   ]
  },
  {
   "cell_type": "markdown",
   "metadata": {},
   "source": [
    "Get and scale the X and Y values"
   ]
  },
  {
   "cell_type": "code",
   "execution_count": 5,
   "metadata": {},
   "outputs": [],
   "source": [
    "X_train, y_train = train[\"Celsius\"].values, train[\"Valks\"].values\n",
    "X_test, y_test = test[\"Celsius\"].values, test[\"Valks\"].values\n",
    "\n",
    "# Normalize the data\n",
    "scaler_X = StandardScaler()\n",
    "scaler_y = StandardScaler()\n",
    "\n",
    "X_train_scaled = scaler_X.fit_transform(X_train.reshape(-1, 1))\n",
    "X_test_scaled = scaler_X.transform(X_test.reshape(-1, 1))\n",
    "y_train_scaled = scaler_y.fit_transform(y_train.reshape(-1, 1)).ravel()\n",
    "y_test_scaled = scaler_y.transform(y_test.reshape(-1, 1)).ravel()"
   ]
  },
  {
   "cell_type": "markdown",
   "metadata": {},
   "source": [
    "Create and train the model"
   ]
  },
  {
   "cell_type": "markdown",
   "metadata": {},
   "source": [
    "The initial value of alpha will be 0.01 so i can increase the number of iterations. "
   ]
  },
  {
   "cell_type": "code",
   "execution_count": 6,
   "metadata": {},
   "outputs": [
    {
     "name": "stdout",
     "output_type": "stream",
     "text": [
      "Iteration 0, Cost: 0.4999999999999999\n",
      "Iteration 1000, Cost: 0.0025798964683106966\n",
      "Iteration 2000, Cost: 0.0025798955412406938\n",
      "Iteration 3000, Cost: 0.002579895541240691\n",
      "Iteration 4000, Cost: 0.002579895541240692\n",
      "Iteration 5000, Cost: 0.002579895541240692\n",
      "Iteration 6000, Cost: 0.002579895541240692\n",
      "Iteration 7000, Cost: 0.002579895541240692\n",
      "Iteration 8000, Cost: 0.002579895541240692\n",
      "Iteration 9000, Cost: 0.002579895541240692\n"
     ]
    }
   ],
   "source": [
    "model = LinearRegression(iterations=10000, alpha=0.01)\n",
    "model.fit(X_train_scaled, y_train_scaled)"
   ]
  },
  {
   "cell_type": "markdown",
   "metadata": {},
   "source": [
    "Make predictions and get the cost function of the test data"
   ]
  },
  {
   "cell_type": "code",
   "execution_count": 7,
   "metadata": {},
   "outputs": [
    {
     "name": "stdout",
     "output_type": "stream",
     "text": [
      "RMSE for test data: 119.20040285098025\n",
      "Cost for test data: 0.003986036063576564\n"
     ]
    }
   ],
   "source": [
    "y_pred_scaled = model.predict(X_test_scaled)\n",
    "y_pred = scaler_y.inverse_transform(y_pred_scaled.reshape(-1, 1))\n",
    "\n",
    "# get the rmse error\n",
    "rmse = np.sqrt(np.mean((y_pred - y_test)**2))\n",
    "\n",
    "# get the cost function for the test set\n",
    "X_test_scaled = np.insert(X_test_scaled.reshape(-1, 1), 0, 1, axis=1)\n",
    "h = np.dot(X_test_scaled, model.theta)\n",
    "cost = np.mean((h - y_test_scaled)**2) / 2\n",
    "\n",
    "print(f\"RMSE for test data: {rmse}\")\n",
    "print(f\"Cost for test data: {cost}\")"
   ]
  },
  {
   "cell_type": "markdown",
   "metadata": {},
   "source": [
    "Plot the predictions"
   ]
  },
  {
   "cell_type": "code",
   "execution_count": 8,
   "metadata": {},
   "outputs": [
    {
     "data": {
      "image/png": "[encoded data removed]",
      "text/plain": [
       "<Figure size 640x480 with 1 Axes>"
      ]
     },
     "metadata": {},
     "output_type": "display_data"
    }
   ],
   "source": [
    "plt.scatter(X_test, y_test, color='gray')\n",
    "plt.plot(X_test, y_pred, color='purple', linewidth=2)\n",
    "plt.title(f'RMSE: {rmse}')\n",
    "plt.show()"
   ]
  },
  {
   "cell_type": "code",
   "execution_count": 9,
   "metadata": {},
   "outputs": [
    {
     "name": "stdout",
     "output_type": "stream",
     "text": [
      "Learned parameters (theta): [ 1.10422088e-16 -9.97416768e-01]\n"
     ]
    }
   ],
   "source": [
    "print(f\"Learned parameters (theta): {model.theta}\")"
   ]
  }
 ],
 "metadata": {
  "kernelspec": {
   "display_name": "Python 3",
   "language": "python",
   "name": "python3"
  },
  "language_info": {
   "codemirror_mode": {
    "name": "ipython",
    "version": 3
   },
   "file_extension": ".py",
   "mimetype": "text/x-python",
   "name": "python",
   "nbconvert_exporter": "python",
   "pygments_lexer": "ipython3",
   "version": "3.10.11"
  }
 },
 "nbformat": 4,
 "nbformat_minor": 2
}
