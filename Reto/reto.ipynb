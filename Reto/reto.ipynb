{
  "cells": [
    {
      "cell_type": "markdown",
      "metadata": {
        "id": "UVSJzitfGkEN"
      },
      "source": [
        "### Import libraries"
      ]
    },
    {
      "cell_type": "code",
      "execution_count": 92,
      "metadata": {
        "id": "y0Ul8CMZGkEU"
      },
      "outputs": [],
      "source": [
        "import pandas as pd\n",
        "from sklearn.metrics import accuracy_score\n",
        "from catboost import CatBoostClassifier\n",
        "import numpy as np\n",
        "from catboost import Pool\n",
        "from sklearn.model_selection import GridSearchCV\n",
        "import matplotlib.pyplot as plt\n",
        "import seaborn as sns\n",
        "from sklearn.metrics import confusion_matrix, classification_report\n",
        "from sklearn.metrics import accuracy_score\n",
        "from sklearn.linear_model import LogisticRegression\n",
        "from sklearn.ensemble import RandomForestClassifier\n",
        "from sklearn.preprocessing import StandardScaler\n",
        "from sklearn.metrics import accuracy_score, roc_auc_score, confusion_matrix\n",
        "from catboost import CatBoostClassifier , cv, Pool\n",
        "from sklearn.tree import DecisionTreeClassifier\n",
        "from sklearn.neighbors import KNeighborsClassifier\n",
        "from sklearn.linear_model import LogisticRegression\n",
        "from sklearn.model_selection import cross_val_score, cross_val_predict\n",
        "from sklearn.svm import SVC"
      ]
    },
    {
      "cell_type": "markdown",
      "metadata": {
        "id": "LbzexatsGkEX"
      },
      "source": [
        "### Exploratory Analysis"
      ]
    },
    {
      "cell_type": "code",
      "execution_count": 159,
      "metadata": {
        "id": "FSA1wEGDGkEX"
      },
      "outputs": [],
      "source": [
        "df = pd.read_csv('train.csv', index_col=0)"
      ]
    },
    {
      "cell_type": "markdown",
      "metadata": {
        "id": "aBdr_BelMlWj"
      },
      "source": [
        "The first 5 rows of the dataset to understand its structure"
      ]
    },
    {
      "cell_type": "code",
      "execution_count": 94,
      "metadata": {
        "colab": {
          "base_uri": "https://localhost:8080/"
        },
        "id": "LFtbVkOMMdv3",
        "outputId": "c6df3a59-8c1a-46e7-b943-58568e7da96c"
      },
      "outputs": [
        {
          "data": {
            "text/html": [
              "<div>\n",
              "<style scoped>\n",
              "    .dataframe tbody tr th:only-of-type {\n",
              "        vertical-align: middle;\n",
              "    }\n",
              "\n",
              "    .dataframe tbody tr th {\n",
              "        vertical-align: top;\n",
              "    }\n",
              "\n",
              "    .dataframe thead th {\n",
              "        text-align: right;\n",
              "    }\n",
              "</style>\n",
              "<table border=\"1\" class=\"dataframe\">\n",
              "  <thead>\n",
              "    <tr style=\"text-align: right;\">\n",
              "      <th></th>\n",
              "      <th>Survived</th>\n",
              "      <th>Pclass</th>\n",
              "      <th>Name</th>\n",
              "      <th>Sex</th>\n",
              "      <th>Age</th>\n",
              "      <th>SibSp</th>\n",
              "      <th>Parch</th>\n",
              "      <th>Ticket</th>\n",
              "      <th>Fare</th>\n",
              "      <th>Cabin</th>\n",
              "      <th>Embarked</th>\n",
              "    </tr>\n",
              "    <tr>\n",
              "      <th>PassengerId</th>\n",
              "      <th></th>\n",
              "      <th></th>\n",
              "      <th></th>\n",
              "      <th></th>\n",
              "      <th></th>\n",
              "      <th></th>\n",
              "      <th></th>\n",
              "      <th></th>\n",
              "      <th></th>\n",
              "      <th></th>\n",
              "      <th></th>\n",
              "    </tr>\n",
              "  </thead>\n",
              "  <tbody>\n",
              "    <tr>\n",
              "      <th>1</th>\n",
              "      <td>0</td>\n",
              "      <td>3</td>\n",
              "      <td>Braund, Mr. Owen Harris</td>\n",
              "      <td>male</td>\n",
              "      <td>22.0</td>\n",
              "      <td>1</td>\n",
              "      <td>0</td>\n",
              "      <td>A/5 21171</td>\n",
              "      <td>7.2500</td>\n",
              "      <td>NaN</td>\n",
              "      <td>S</td>\n",
              "    </tr>\n",
              "    <tr>\n",
              "      <th>2</th>\n",
              "      <td>1</td>\n",
              "      <td>1</td>\n",
              "      <td>Cumings, Mrs. John Bradley (Florence Briggs Th...</td>\n",
              "      <td>female</td>\n",
              "      <td>38.0</td>\n",
              "      <td>1</td>\n",
              "      <td>0</td>\n",
              "      <td>PC 17599</td>\n",
              "      <td>71.2833</td>\n",
              "      <td>C85</td>\n",
              "      <td>C</td>\n",
              "    </tr>\n",
              "    <tr>\n",
              "      <th>3</th>\n",
              "      <td>1</td>\n",
              "      <td>3</td>\n",
              "      <td>Heikkinen, Miss. Laina</td>\n",
              "      <td>female</td>\n",
              "      <td>26.0</td>\n",
              "      <td>0</td>\n",
              "      <td>0</td>\n",
              "      <td>STON/O2. 3101282</td>\n",
              "      <td>7.9250</td>\n",
              "      <td>NaN</td>\n",
              "      <td>S</td>\n",
              "    </tr>\n",
              "    <tr>\n",
              "      <th>4</th>\n",
              "      <td>1</td>\n",
              "      <td>1</td>\n",
              "      <td>Futrelle, Mrs. Jacques Heath (Lily May Peel)</td>\n",
              "      <td>female</td>\n",
              "      <td>35.0</td>\n",
              "      <td>1</td>\n",
              "      <td>0</td>\n",
              "      <td>113803</td>\n",
              "      <td>53.1000</td>\n",
              "      <td>C123</td>\n",
              "      <td>S</td>\n",
              "    </tr>\n",
              "    <tr>\n",
              "      <th>5</th>\n",
              "      <td>0</td>\n",
              "      <td>3</td>\n",
              "      <td>Allen, Mr. William Henry</td>\n",
              "      <td>male</td>\n",
              "      <td>35.0</td>\n",
              "      <td>0</td>\n",
              "      <td>0</td>\n",
              "      <td>373450</td>\n",
              "      <td>8.0500</td>\n",
              "      <td>NaN</td>\n",
              "      <td>S</td>\n",
              "    </tr>\n",
              "  </tbody>\n",
              "</table>\n",
              "</div>"
            ],
            "text/plain": [
              "             Survived  Pclass  \\\n",
              "PassengerId                     \n",
              "1                   0       3   \n",
              "2                   1       1   \n",
              "3                   1       3   \n",
              "4                   1       1   \n",
              "5                   0       3   \n",
              "\n",
              "                                                          Name     Sex   Age  \\\n",
              "PassengerId                                                                    \n",
              "1                                      Braund, Mr. Owen Harris    male  22.0   \n",
              "2            Cumings, Mrs. John Bradley (Florence Briggs Th...  female  38.0   \n",
              "3                                       Heikkinen, Miss. Laina  female  26.0   \n",
              "4                 Futrelle, Mrs. Jacques Heath (Lily May Peel)  female  35.0   \n",
              "5                                     Allen, Mr. William Henry    male  35.0   \n",
              "\n",
              "             SibSp  Parch            Ticket     Fare Cabin Embarked  \n",
              "PassengerId                                                          \n",
              "1                1      0         A/5 21171   7.2500   NaN        S  \n",
              "2                1      0          PC 17599  71.2833   C85        C  \n",
              "3                0      0  STON/O2. 3101282   7.9250   NaN        S  \n",
              "4                1      0            113803  53.1000  C123        S  \n",
              "5                0      0            373450   8.0500   NaN        S  "
            ]
          },
          "execution_count": 94,
          "metadata": {},
          "output_type": "execute_result"
        }
      ],
      "source": [
        "df.head()"
      ]
    },
    {
      "cell_type": "markdown",
      "metadata": {
        "id": "IvHDa2YhM0lt"
      },
      "source": [
        "Stats for numerical variables"
      ]
    },
    {
      "cell_type": "code",
      "execution_count": 95,
      "metadata": {
        "colab": {
          "base_uri": "https://localhost:8080/"
        },
        "id": "ANb2tSbCMv5t",
        "outputId": "88a17ede-8d5f-4ace-aebc-cb1078688888"
      },
      "outputs": [
        {
          "data": {
            "text/html": [
              "<div>\n",
              "<style scoped>\n",
              "    .dataframe tbody tr th:only-of-type {\n",
              "        vertical-align: middle;\n",
              "    }\n",
              "\n",
              "    .dataframe tbody tr th {\n",
              "        vertical-align: top;\n",
              "    }\n",
              "\n",
              "    .dataframe thead th {\n",
              "        text-align: right;\n",
              "    }\n",
              "</style>\n",
              "<table border=\"1\" class=\"dataframe\">\n",
              "  <thead>\n",
              "    <tr style=\"text-align: right;\">\n",
              "      <th></th>\n",
              "      <th>Survived</th>\n",
              "      <th>Pclass</th>\n",
              "      <th>Age</th>\n",
              "      <th>SibSp</th>\n",
              "      <th>Parch</th>\n",
              "      <th>Fare</th>\n",
              "    </tr>\n",
              "  </thead>\n",
              "  <tbody>\n",
              "    <tr>\n",
              "      <th>count</th>\n",
              "      <td>891.000000</td>\n",
              "      <td>891.000000</td>\n",
              "      <td>714.000000</td>\n",
              "      <td>891.000000</td>\n",
              "      <td>891.000000</td>\n",
              "      <td>891.000000</td>\n",
              "    </tr>\n",
              "    <tr>\n",
              "      <th>mean</th>\n",
              "      <td>0.383838</td>\n",
              "      <td>2.308642</td>\n",
              "      <td>29.699118</td>\n",
              "      <td>0.523008</td>\n",
              "      <td>0.381594</td>\n",
              "      <td>32.204208</td>\n",
              "    </tr>\n",
              "    <tr>\n",
              "      <th>std</th>\n",
              "      <td>0.486592</td>\n",
              "      <td>0.836071</td>\n",
              "      <td>14.526497</td>\n",
              "      <td>1.102743</td>\n",
              "      <td>0.806057</td>\n",
              "      <td>49.693429</td>\n",
              "    </tr>\n",
              "    <tr>\n",
              "      <th>min</th>\n",
              "      <td>0.000000</td>\n",
              "      <td>1.000000</td>\n",
              "      <td>0.420000</td>\n",
              "      <td>0.000000</td>\n",
              "      <td>0.000000</td>\n",
              "      <td>0.000000</td>\n",
              "    </tr>\n",
              "    <tr>\n",
              "      <th>25%</th>\n",
              "      <td>0.000000</td>\n",
              "      <td>2.000000</td>\n",
              "      <td>20.125000</td>\n",
              "      <td>0.000000</td>\n",
              "      <td>0.000000</td>\n",
              "      <td>7.910400</td>\n",
              "    </tr>\n",
              "    <tr>\n",
              "      <th>50%</th>\n",
              "      <td>0.000000</td>\n",
              "      <td>3.000000</td>\n",
              "      <td>28.000000</td>\n",
              "      <td>0.000000</td>\n",
              "      <td>0.000000</td>\n",
              "      <td>14.454200</td>\n",
              "    </tr>\n",
              "    <tr>\n",
              "      <th>75%</th>\n",
              "      <td>1.000000</td>\n",
              "      <td>3.000000</td>\n",
              "      <td>38.000000</td>\n",
              "      <td>1.000000</td>\n",
              "      <td>0.000000</td>\n",
              "      <td>31.000000</td>\n",
              "    </tr>\n",
              "    <tr>\n",
              "      <th>max</th>\n",
              "      <td>1.000000</td>\n",
              "      <td>3.000000</td>\n",
              "      <td>80.000000</td>\n",
              "      <td>8.000000</td>\n",
              "      <td>6.000000</td>\n",
              "      <td>512.329200</td>\n",
              "    </tr>\n",
              "  </tbody>\n",
              "</table>\n",
              "</div>"
            ],
            "text/plain": [
              "         Survived      Pclass         Age       SibSp       Parch        Fare\n",
              "count  891.000000  891.000000  714.000000  891.000000  891.000000  891.000000\n",
              "mean     0.383838    2.308642   29.699118    0.523008    0.381594   32.204208\n",
              "std      0.486592    0.836071   14.526497    1.102743    0.806057   49.693429\n",
              "min      0.000000    1.000000    0.420000    0.000000    0.000000    0.000000\n",
              "25%      0.000000    2.000000   20.125000    0.000000    0.000000    7.910400\n",
              "50%      0.000000    3.000000   28.000000    0.000000    0.000000   14.454200\n",
              "75%      1.000000    3.000000   38.000000    1.000000    0.000000   31.000000\n",
              "max      1.000000    3.000000   80.000000    8.000000    6.000000  512.329200"
            ]
          },
          "execution_count": 95,
          "metadata": {},
          "output_type": "execute_result"
        }
      ],
      "source": [
        "df.describe()"
      ]
    },
    {
      "cell_type": "markdown",
      "metadata": {
        "id": "SXKLoNwINFWN"
      },
      "source": [
        "Percentage of missing values in the columns"
      ]
    },
    {
      "cell_type": "code",
      "execution_count": 96,
      "metadata": {
        "colab": {
          "base_uri": "https://localhost:8080/"
        },
        "id": "mnm2ofAGM_7P",
        "outputId": "4f8ca004-0ab7-47d6-9d67-80a96ee21aa4"
      },
      "outputs": [
        {
          "data": {
            "text/plain": [
              "Age         19.87\n",
              "Cabin       77.10\n",
              "Embarked     0.22\n",
              "dtype: float64"
            ]
          },
          "execution_count": 96,
          "metadata": {},
          "output_type": "execute_result"
        }
      ],
      "source": [
        "missing_values = df.isnull().mean().round(4) * 100\n",
        "missing_values = missing_values[missing_values > 0]\n",
        "missing_values"
      ]
    },
    {
      "cell_type": "markdown",
      "metadata": {
        "id": "X6uQq1L9NR9Y"
      },
      "source": [
        "Distribution of the variable: 'Survived'"
      ]
    },
    {
      "cell_type": "code",
      "execution_count": 97,
      "metadata": {
        "colab": {
          "base_uri": "https://localhost:8080/",
          "height": 492
        },
        "id": "cAI_nRB0NN5W",
        "outputId": "e9ddc254-1622-4a14-85ff-ba58b3abf53d"
      },
      "outputs": [
        {
          "data": {
            "image/png": "[encoded data removed]",
            "text/plain": [
              "<Figure size 640x480 with 1 Axes>"
            ]
          },
          "metadata": {},
          "output_type": "display_data"
        }
      ],
      "source": [
        "sns.countplot(x='Survived', data=df)\n",
        "plt.title('Survival Distribution (0 = No, 1 = Yes)')\n",
        "plt.show()"
      ]
    },
    {
      "cell_type": "markdown",
      "metadata": {
        "id": "xghbjzlzNk8j"
      },
      "source": [
        "Distribution of varieble: 'Pclass'"
      ]
    },
    {
      "cell_type": "code",
      "execution_count": 98,
      "metadata": {
        "colab": {
          "base_uri": "https://localhost:8080/",
          "height": 492
        },
        "id": "Gv3bD7vPNbPr",
        "outputId": "0f7402e3-9395-48ee-c23f-f712d587aca9"
      },
      "outputs": [
        {
          "data": {
            "image/png": "[encoded data removed]",
            "text/plain": [
              "<Figure size 640x480 with 1 Axes>"
            ]
          },
          "metadata": {},
          "output_type": "display_data"
        }
      ],
      "source": [
        "sns.countplot(x='Pclass', data=df)\n",
        "plt.title('Passenger Class Distribution')\n",
        "plt.show()"
      ]
    },
    {
      "cell_type": "markdown",
      "metadata": {
        "id": "LSmMHpDwNxq5"
      },
      "source": [
        "Age distribution"
      ]
    },
    {
      "cell_type": "code",
      "execution_count": 99,
      "metadata": {
        "colab": {
          "base_uri": "https://localhost:8080/",
          "height": 492
        },
        "id": "xfxBFP07NuUp",
        "outputId": "22115c2a-2e14-4f54-c989-8707d04535f4"
      },
      "outputs": [
        {
          "data": {
            "image/png": "[encoded data removed]",
            "text/plain": [
              "<Figure size 640x480 with 1 Axes>"
            ]
          },
          "metadata": {},
          "output_type": "display_data"
        }
      ],
      "source": [
        "sns.histplot(df['Age'].dropna(), kde=True, bins=30)\n",
        "plt.title('Age Distribution')\n",
        "plt.show()"
      ]
    },
    {
      "cell_type": "markdown",
      "metadata": {
        "id": "zNdO-Ls-N48E"
      },
      "source": [
        "Survival comparison by gender"
      ]
    },
    {
      "cell_type": "code",
      "execution_count": 100,
      "metadata": {
        "colab": {
          "base_uri": "https://localhost:8080/",
          "height": 492
        },
        "id": "bfGXK6WnN3EZ",
        "outputId": "e0f8bc53-ed22-4ff2-edb4-ab2fb4032422"
      },
      "outputs": [
        {
          "data": {
            "image/png": "[encoded data removed]",
            "text/plain": [
              "<Figure size 640x480 with 1 Axes>"
            ]
          },
          "metadata": {},
          "output_type": "display_data"
        }
      ],
      "source": [
        "custom_palette = ['darkcyan', 'aquamarine']\n",
        "sns.countplot(x='Survived', hue='Sex', data=df, palette=custom_palette)\n",
        "plt.title('Survival by Gender')\n",
        "plt.show()"
      ]
    },
    {
      "cell_type": "markdown",
      "metadata": {
        "id": "PkwCKxmFOCSZ"
      },
      "source": [
        "Survival comparison by class"
      ]
    },
    {
      "cell_type": "code",
      "execution_count": 101,
      "metadata": {
        "colab": {
          "base_uri": "https://localhost:8080/",
          "height": 492
        },
        "id": "S1a98pACOAfk",
        "outputId": "4a8f9622-cdce-4145-c6b2-f60e5a3740b5"
      },
      "outputs": [
        {
          "data": {
            "image/png": "[encoded data removed]",
            "text/plain": [
              "<Figure size 640x480 with 1 Axes>"
            ]
          },
          "metadata": {},
          "output_type": "display_data"
        }
      ],
      "source": [
        "custom_palette = ['darkcyan', 'aquamarine', 'lightslategrey']\n",
        "sns.countplot(x='Survived', hue='Pclass', data=df, palette=custom_palette)\n",
        "plt.title('Survival by Class')\n",
        "plt.show()"
      ]
    },
    {
      "cell_type": "markdown",
      "metadata": {
        "id": "LFg7GjXDOKMx"
      },
      "source": [
        "Analysis of the fare paid"
      ]
    },
    {
      "cell_type": "code",
      "execution_count": 102,
      "metadata": {
        "colab": {
          "base_uri": "https://localhost:8080/",
          "height": 492
        },
        "id": "AYNO01DmOIDY",
        "outputId": "9003b6d6-5f25-4185-83cf-8f5ffdfb3186"
      },
      "outputs": [
        {
          "data": {
            "image/png": "[encoded data removed]",
            "text/plain": [
              "<Figure size 640x480 with 1 Axes>"
            ]
          },
          "metadata": {},
          "output_type": "display_data"
        }
      ],
      "source": [
        "sns.histplot(df['Fare'], kde=True, bins=30)\n",
        "plt.title('Fare Distribution')\n",
        "plt.show()"
      ]
    },
    {
      "cell_type": "markdown",
      "metadata": {
        "id": "LlVpo7afOSWy"
      },
      "source": [
        "Survival comparison by embarkation port"
      ]
    },
    {
      "cell_type": "code",
      "execution_count": 103,
      "metadata": {
        "colab": {
          "base_uri": "https://localhost:8080/",
          "height": 492
        },
        "id": "latbf25JOQw8",
        "outputId": "91b07036-8351-45e9-e4fb-1834c86aab1f"
      },
      "outputs": [
        {
          "data": {
            "image/png": "[encoded data removed]",
            "text/plain": [
              "<Figure size 640x480 with 1 Axes>"
            ]
          },
          "metadata": {},
          "output_type": "display_data"
        }
      ],
      "source": [
        "custom_palette = ['darkcyan', 'aquamarine', 'lightslategrey']\n",
        "sns.countplot(x='Survived', hue='Embarked', data=df, palette=custom_palette)\n",
        "plt.title('Survival by Embarkation Port')\n",
        "plt.show()"
      ]
    },
    {
      "cell_type": "markdown",
      "metadata": {
        "id": "kSm1X23fOmy3"
      },
      "source": [
        "Correlation matrix between numerical variables"
      ]
    },
    {
      "cell_type": "code",
      "execution_count": 104,
      "metadata": {
        "colab": {
          "base_uri": "https://localhost:8080/",
          "height": 719
        },
        "id": "_eVmftm0LegW",
        "outputId": "c324c55d-2949-4168-e55e-a6f92337d47b"
      },
      "outputs": [
        {
          "data": {
            "image/png": "[encoded data removed]",
            "text/plain": [
              "<Figure size 1000x800 with 2 Axes>"
            ]
          },
          "metadata": {},
          "output_type": "display_data"
        }
      ],
      "source": [
        "plt.figure(figsize=(10, 8))\n",
        "numeric_cols = df.select_dtypes(include=['float64', 'int64']).columns\n",
        "sns.heatmap(df[numeric_cols].corr(), annot=True, cmap='Blues')\n",
        "plt.title('Correlation Matrix')\n",
        "plt.show()"
      ]
    },
    {
      "cell_type": "markdown",
      "metadata": {
        "id": "-TDq7fR7GkEY"
      },
      "source": [
        "#### Cleaning the data"
      ]
    },
    {
      "cell_type": "code",
      "execution_count": 105,
      "metadata": {
        "colab": {
          "base_uri": "https://localhost:8080/"
        },
        "id": "SAHKWWJ6GkEY",
        "outputId": "1cf3b6e7-0264-49b6-bad6-4eecc7b6d676"
      },
      "outputs": [
        {
          "name": "stdout",
          "output_type": "stream",
          "text": [
            "<class 'pandas.core.frame.DataFrame'>\n",
            "Int64Index: 891 entries, 1 to 891\n",
            "Data columns (total 11 columns):\n",
            " #   Column    Non-Null Count  Dtype  \n",
            "---  ------    --------------  -----  \n",
            " 0   Survived  891 non-null    int64  \n",
            " 1   Pclass    891 non-null    int64  \n",
            " 2   Name      891 non-null    object \n",
            " 3   Sex       891 non-null    object \n",
            " 4   Age       714 non-null    float64\n",
            " 5   SibSp     891 non-null    int64  \n",
            " 6   Parch     891 non-null    int64  \n",
            " 7   Ticket    891 non-null    object \n",
            " 8   Fare      891 non-null    float64\n",
            " 9   Cabin     204 non-null    object \n",
            " 10  Embarked  889 non-null    object \n",
            "dtypes: float64(2), int64(4), object(5)\n",
            "memory usage: 83.5+ KB\n"
          ]
        }
      ],
      "source": [
        "df.info()"
      ]
    },
    {
      "cell_type": "markdown",
      "metadata": {
        "id": "MarYjtuIGkEa"
      },
      "source": [
        "Look at the distributions of the features to decide with wich method we will fill the null values"
      ]
    },
    {
      "cell_type": "code",
      "execution_count": 106,
      "metadata": {
        "colab": {
          "base_uri": "https://localhost:8080/",
          "height": 468
        },
        "id": "9AKMerSRGkEb",
        "outputId": "71f3feda-ffa9-4163-eb54-6a747e176a42"
      },
      "outputs": [
        {
          "data": {
            "text/plain": [
              "<AxesSubplot: >"
            ]
          },
          "execution_count": 106,
          "metadata": {},
          "output_type": "execute_result"
        },
        {
          "data": {
            "image/png": "[encoded data removed]",
            "text/plain": [
              "<Figure size 640x480 with 1 Axes>"
            ]
          },
          "metadata": {},
          "output_type": "display_data"
        }
      ],
      "source": [
        "df[\"Age\"].hist(bins=50, color='darkcyan', alpha=0.7)"
      ]
    },
    {
      "cell_type": "markdown",
      "metadata": {
        "id": "q-CrOeI2GkEb"
      },
      "source": [
        "We will use the median to fill the null values in Age"
      ]
    },
    {
      "cell_type": "code",
      "execution_count": 107,
      "metadata": {
        "colab": {
          "base_uri": "https://localhost:8080/",
          "height": 469
        },
        "id": "EuKcN6L_GkEc",
        "outputId": "5483379a-2839-48fd-b642-75498c8943f1"
      },
      "outputs": [
        {
          "data": {
            "text/plain": [
              "<AxesSubplot: >"
            ]
          },
          "execution_count": 107,
          "metadata": {},
          "output_type": "execute_result"
        },
        {
          "data": {
            "image/png": "[encoded data removed]",
            "text/plain": [
              "<Figure size 640x480 with 1 Axes>"
            ]
          },
          "metadata": {},
          "output_type": "display_data"
        }
      ],
      "source": [
        "df[\"Fare\"].hist(bins=50, color='darkcyan', alpha=0.7)"
      ]
    },
    {
      "cell_type": "markdown",
      "metadata": {
        "id": "e27QWHqiGkEc"
      },
      "source": [
        "We will use the median to fill the null values in Fare"
      ]
    },
    {
      "cell_type": "code",
      "execution_count": 108,
      "metadata": {
        "colab": {
          "base_uri": "https://localhost:8080/",
          "height": 468
        },
        "id": "gzk6WK3jGkEc",
        "outputId": "ade22286-c94e-44b0-ed4c-f80ae3a68ecb"
      },
      "outputs": [
        {
          "data": {
            "text/plain": [
              "<AxesSubplot: >"
            ]
          },
          "execution_count": 108,
          "metadata": {},
          "output_type": "execute_result"
        },
        {
          "data": {
            "image/png": "[encoded data removed]",
            "text/plain": [
              "<Figure size 640x480 with 1 Axes>"
            ]
          },
          "metadata": {},
          "output_type": "display_data"
        }
      ],
      "source": [
        "df[\"Embarked\"].hist(bins=50, color='darkcyan', alpha=0.7)"
      ]
    },
    {
      "cell_type": "markdown",
      "metadata": {
        "id": "tGX1FxyHGkEd"
      },
      "source": [
        "We will use mode to fill the null values in Embarked"
      ]
    },
    {
      "cell_type": "markdown",
      "metadata": {},
      "source": [
        "FIX THIS: Sabemos que hay un 77.1% de datos faltantes en la columna de 'cabin', intentamos rellenarlo usando un modelo de knn pero no tuvimos un accuracy bueno, despues decidimos probar con random forest, y despues de varios intentos más decidimos eliminar la columna de 'cabin' ya que no obtuvimos los resultados esperados para rellenar esta columna y no aportaba algo bueno a nuestros resultados por lo que lo mejor es mejor no usar la columna."
      ]
    },
    {
      "cell_type": "markdown",
      "metadata": {},
      "source": [
        "#### Model Selection"
      ]
    },
    {
      "cell_type": "markdown",
      "metadata": {},
      "source": [
        "Due the nature of the problem (lots of categorical variables) we will include CatBoost into the comparison of models."
      ]
    },
    {
      "cell_type": "code",
      "execution_count": 109,
      "metadata": {},
      "outputs": [],
      "source": [
        "def basic_preprocess_data(data):\n",
        "    data.drop(['Name', 'Ticket', 'Cabin'], axis=1, inplace=True)\n",
        "    data['Age'].fillna(data['Age'].median(), inplace=True)\n",
        "    data['Embarked'].fillna(data['Embarked'].mode()[0], inplace=True)\n",
        "    data['Fare'].fillna(data['Fare'].median(), inplace=True)\n",
        "    data['Sex'] = data['Sex'].map({'female': 1, 'male': 0})\n",
        "    data = pd.get_dummies(data, columns=['Embarked'])\n",
        "    return data\n",
        "\n",
        "def compare_models(train, test, X_train, y_train, X_test, y_test):\n",
        "\n",
        "    train.columns = train.columns.str.lower()\n",
        "    test.columns = test.columns.str.lower()\n",
        "\n",
        "    features = X_train\n",
        "    target = y_train\n",
        "\n",
        "    train_for_cat = train.copy()\n",
        "    test_for_cat = test.copy()\n",
        "    train_features_for_cat = train_for_cat.drop('survived', axis=1)\n",
        "    train_target_for_cat = train_for_cat['survived']\n",
        "    test_features_for_cat = test_for_cat.drop('survived', axis=1)\n",
        "    test_target_for_cat = test_for_cat['survived']\n",
        "\n",
        "    features_index = np.where(train_features_for_cat.dtypes != float)[0]\n",
        "\n",
        "    cat = CatBoostClassifier(loss_function='Logloss',\n",
        "                         eval_metric='Accuracy',\n",
        "                         random_seed=42,\n",
        "                         verbose=False)\n",
        "\n",
        "    cat.fit(train_features_for_cat, train_target_for_cat, cat_features=features_index)\n",
        "\n",
        "    x_train_for_cat = train_features_for_cat\n",
        "    x_test_for_cat = test_features_for_cat\n",
        "    y_train_for_cat = train_target_for_cat\n",
        "    y_test_for_cat = test_target_for_cat\n",
        "\n",
        "    cat_features_index = np.where(train_features_for_cat.dtypes != float)[0]\n",
        "\n",
        "    dct_with_models = {}\n",
        "\n",
        "    for label_model, model in {'RF': [RandomForestClassifier(random_state=42), 'no_scaler'],\n",
        "                            'DT': [DecisionTreeClassifier(random_state=42), 'no_scaler'],\n",
        "                            'LR': [LogisticRegression(random_state=42), 'need_scaler'],\n",
        "                            'KNB': [KNeighborsClassifier(), 'need_scaler'],\n",
        "                            'SVC': [SVC(random_state=42, probability=True), 'need_scaler'],\n",
        "                            'CAT': [CatBoostClassifier(loss_function='Logloss', eval_metric='Accuracy', verbose=False, use_best_model=True, random_seed=42), 'cat']}.items():\n",
        "        \n",
        "        \n",
        "        if model[1] == 'need_scaler':\n",
        "            scaled_features = StandardScaler().fit_transform(features)\n",
        "            scores = cross_val_score(model[0], scaled_features, target, cv=9, scoring='accuracy')\n",
        "            scaler = StandardScaler()\n",
        "            scaled_train = scaler.fit_transform(X_train)\n",
        "            scaled_test = scaler.transform(X_test)\n",
        "            model[0].fit(scaled_train, y_train)\n",
        "            dct_with_models[f'{label_model}_overall_accuracy_for_model_for_dataset'] = np.mean(scores)\n",
        "            dct_with_models[f'{label_model}_accuracy_for_x_test_with_default_params'] = accuracy_score(y_test, model[0].predict(scaled_test))    \n",
        "            dct_with_models[f'{label_model}_roc_auc_for_x_test_with_default_params'] = roc_auc_score(y_test, model[0].predict_proba(scaled_test)[:,1])\n",
        "            \n",
        "        elif model[1] == 'no_scaler':\n",
        "            scores = cross_val_score(model[0], features, target, cv=9, scoring='accuracy')\n",
        "            model[0].fit(X_train, y_train)\n",
        "            dct_with_models[f'{label_model}_overall_accuracy_for_model_for_dataset'] = np.mean(scores)\n",
        "            dct_with_models[f'{label_model}_accuracy_for_x_test_with_default_params'] = accuracy_score(y_test, model[0].predict(X_test))    \n",
        "            dct_with_models[f'{label_model}_roc_auc_for_x_test_with_default_params'] = roc_auc_score(y_test, model[0].predict_proba(X_test)[:,1])\n",
        "        \n",
        "        elif model[1] == 'cat':\n",
        "            scores = cv(Pool(train_features_for_cat, train_target_for_cat, cat_features=cat_features_index),\n",
        "                        {\"loss_function\": \"Logloss\",\n",
        "                        \"eval_metric\": \"Accuracy\",\n",
        "                        \"verbose\": False,\n",
        "                        \"random_seed\": 42},\n",
        "                        fold_count=5)       \n",
        "            model[0].fit(x_train_for_cat, y_train_for_cat,\n",
        "                        cat_features=cat_features_index,\n",
        "                        eval_set=(x_test_for_cat, y_test_for_cat),\n",
        "                        verbose=True,\n",
        "                        plot=False)\n",
        "            dct_with_models[f'{label_model}_overall_accuracy_for_model_for_dataset'] = scores['test-Accuracy-mean'].mean()\n",
        "            dct_with_models[f'{label_model}_accuracy_for_x_test_with_default_params'] = accuracy_score(y_test_for_cat, model[0].predict(x_test_for_cat))    \n",
        "            dct_with_models[f'{label_model}_roc_auc_for_x_test_with_default_params'] = roc_auc_score(y_test_for_cat, model[0].predict_proba(x_test_for_cat)[:,1]) \n",
        "    model = []\n",
        "    overall_accuracy_for_dataset = []\n",
        "    accuracy_for_x_test_with_default_params = []\n",
        "    roc_auc_for_x_test_with_default_params = []\n",
        "\n",
        "    for name_model in ['DT', 'RF', 'LR', 'KNB', 'SVC', 'CAT']:\n",
        "        model.append(name_model)\n",
        "        overall_accuracy_for_dataset.append(dct_with_models[f'{name_model}_overall_accuracy_for_model_for_dataset'])\n",
        "        accuracy_for_x_test_with_default_params.append(dct_with_models[f'{name_model}_accuracy_for_x_test_with_default_params'])\n",
        "        roc_auc_for_x_test_with_default_params.append(dct_with_models[f'{name_model}_roc_auc_for_x_test_with_default_params']) \n",
        "\n",
        "    results = {\n",
        "    'Model' : model,\n",
        "    'OVERALL ACCURACY FOR TRAIN DATASET' : pd.Series(overall_accuracy_for_dataset),\n",
        "    'ROC_AUC FOR X_TEST WITH DEFAULT PARAMS' : pd.Series(roc_auc_for_x_test_with_default_params),\n",
        "    'ACCURACY FOR X_TEST WITH DEFAULT PARAMS' : pd.Series(accuracy_for_x_test_with_default_params)}\n",
        "\n",
        "    display(pd.DataFrame(results).style.highlight_max(color='green'))"
      ]
    },
    {
      "cell_type": "code",
      "execution_count": 110,
      "metadata": {},
      "outputs": [
        {
          "data": {
            "text/plain": [
              "(891, 891)"
            ]
          },
          "execution_count": 110,
          "metadata": {},
          "output_type": "execute_result"
        }
      ],
      "source": [
        "train = pd.read_csv(\"train.csv\", index_col=0)\n",
        "train = basic_preprocess_data(train)\n",
        "\n",
        "y_train = train['Survived']\n",
        "X_train = train.drop('Survived', axis=1)\n",
        "\n",
        "len(X_train), len(y_train)"
      ]
    },
    {
      "cell_type": "code",
      "execution_count": 111,
      "metadata": {},
      "outputs": [],
      "source": [
        "test = pd.read_csv('test_with_survived.csv', index_col=0)\n",
        "test = basic_preprocess_data(test)\n",
        "\n",
        "y_test = test['Survived']\n",
        "X_test = test.drop([\"Survived\"], axis=1)"
      ]
    },
    {
      "cell_type": "code",
      "execution_count": 112,
      "metadata": {},
      "outputs": [
        {
          "name": "stdout",
          "output_type": "stream",
          "text": [
            "Training on fold [0/5]\n",
            "\n",
            "bestTest = 0.8100558659\n",
            "bestIteration = 13\n",
            "\n",
            "Training on fold [1/5]\n",
            "\n",
            "bestTest = 0.8882681564\n",
            "bestIteration = 60\n",
            "\n",
            "Training on fold [2/5]\n",
            "\n",
            "bestTest = 0.8595505618\n",
            "bestIteration = 1\n",
            "\n",
            "Training on fold [3/5]\n",
            "\n",
            "bestTest = 0.7865168539\n",
            "bestIteration = 130\n",
            "\n",
            "Training on fold [4/5]\n",
            "\n",
            "bestTest = 0.8192090395\n",
            "bestIteration = 188\n",
            "\n",
            "Learning rate set to 0.030798\n",
            "0:\tlearn: 0.8226712\ttest: 0.7775120\tbest: 0.7775120 (0)\ttotal: 60.3ms\tremaining: 1m\n",
            "1:\tlearn: 0.8193042\ttest: 0.7751196\tbest: 0.7775120 (0)\ttotal: 155ms\tremaining: 1m 17s\n",
            "2:\tlearn: 0.8204265\ttest: 0.7727273\tbest: 0.7775120 (0)\ttotal: 232ms\tremaining: 1m 17s\n",
            "3:\tlearn: 0.8193042\ttest: 0.7751196\tbest: 0.7775120 (0)\ttotal: 319ms\tremaining: 1m 19s\n",
            "4:\tlearn: 0.8170595\ttest: 0.7751196\tbest: 0.7775120 (0)\ttotal: 379ms\tremaining: 1m 15s\n",
            "5:\tlearn: 0.8260382\ttest: 0.7751196\tbest: 0.7775120 (0)\ttotal: 471ms\tremaining: 1m 18s\n",
            "6:\tlearn: 0.8226712\ttest: 0.7727273\tbest: 0.7775120 (0)\ttotal: 555ms\tremaining: 1m 18s\n",
            "7:\tlearn: 0.8249158\ttest: 0.7751196\tbest: 0.7775120 (0)\ttotal: 644ms\tremaining: 1m 19s\n",
            "8:\tlearn: 0.8249158\ttest: 0.7751196\tbest: 0.7775120 (0)\ttotal: 729ms\tremaining: 1m 20s\n",
            "9:\tlearn: 0.8237935\ttest: 0.7751196\tbest: 0.7775120 (0)\ttotal: 862ms\tremaining: 1m 25s\n",
            "10:\tlearn: 0.8237935\ttest: 0.7799043\tbest: 0.7799043 (10)\ttotal: 1.03s\tremaining: 1m 33s\n",
            "11:\tlearn: 0.8271605\ttest: 0.7846890\tbest: 0.7846890 (11)\ttotal: 1.16s\tremaining: 1m 35s\n",
            "12:\tlearn: 0.8260382\ttest: 0.7846890\tbest: 0.7846890 (11)\ttotal: 1.35s\tremaining: 1m 42s\n",
            "13:\tlearn: 0.8260382\ttest: 0.7846890\tbest: 0.7846890 (11)\ttotal: 1.49s\tremaining: 1m 45s\n",
            "14:\tlearn: 0.8260382\ttest: 0.7846890\tbest: 0.7846890 (11)\ttotal: 1.61s\tremaining: 1m 45s\n",
            "15:\tlearn: 0.8260382\ttest: 0.7846890\tbest: 0.7846890 (11)\ttotal: 1.71s\tremaining: 1m 45s\n",
            "16:\tlearn: 0.8282828\ttest: 0.7846890\tbest: 0.7846890 (11)\ttotal: 1.85s\tremaining: 1m 47s\n",
            "17:\tlearn: 0.8282828\ttest: 0.7846890\tbest: 0.7846890 (11)\ttotal: 1.94s\tremaining: 1m 45s\n",
            "18:\tlearn: 0.8260382\ttest: 0.7870813\tbest: 0.7870813 (18)\ttotal: 2.02s\tremaining: 1m 44s\n",
            "19:\tlearn: 0.8260382\ttest: 0.7846890\tbest: 0.7870813 (18)\ttotal: 2.1s\tremaining: 1m 42s\n",
            "20:\tlearn: 0.8282828\ttest: 0.7846890\tbest: 0.7870813 (18)\ttotal: 2.18s\tremaining: 1m 41s\n",
            "21:\tlearn: 0.8282828\ttest: 0.7870813\tbest: 0.7870813 (18)\ttotal: 2.26s\tremaining: 1m 40s\n",
            "22:\tlearn: 0.8282828\ttest: 0.7870813\tbest: 0.7870813 (18)\ttotal: 2.35s\tremaining: 1m 39s\n",
            "23:\tlearn: 0.8271605\ttest: 0.7870813\tbest: 0.7870813 (18)\ttotal: 2.43s\tremaining: 1m 38s\n",
            "24:\tlearn: 0.8271605\ttest: 0.7870813\tbest: 0.7870813 (18)\ttotal: 2.49s\tremaining: 1m 37s\n",
            "25:\tlearn: 0.8282828\ttest: 0.7870813\tbest: 0.7870813 (18)\ttotal: 2.59s\tremaining: 1m 37s\n",
            "26:\tlearn: 0.8305275\ttest: 0.7822967\tbest: 0.7870813 (18)\ttotal: 2.68s\tremaining: 1m 36s\n",
            "27:\tlearn: 0.8327722\ttest: 0.7799043\tbest: 0.7870813 (18)\ttotal: 2.77s\tremaining: 1m 36s\n",
            "28:\tlearn: 0.8316498\ttest: 0.7822967\tbest: 0.7870813 (18)\ttotal: 2.94s\tremaining: 1m 38s\n",
            "29:\tlearn: 0.8316498\ttest: 0.7846890\tbest: 0.7870813 (18)\ttotal: 3.04s\tremaining: 1m 38s\n",
            "30:\tlearn: 0.8316498\ttest: 0.7799043\tbest: 0.7870813 (18)\ttotal: 3.12s\tremaining: 1m 37s\n",
            "31:\tlearn: 0.8327722\ttest: 0.7799043\tbest: 0.7870813 (18)\ttotal: 3.35s\tremaining: 1m 41s\n",
            "32:\tlearn: 0.8338945\ttest: 0.7822967\tbest: 0.7870813 (18)\ttotal: 3.5s\tremaining: 1m 42s\n",
            "33:\tlearn: 0.8327722\ttest: 0.7870813\tbest: 0.7870813 (18)\ttotal: 3.61s\tremaining: 1m 42s\n",
            "34:\tlearn: 0.8327722\ttest: 0.7870813\tbest: 0.7870813 (18)\ttotal: 3.73s\tremaining: 1m 42s\n",
            "35:\tlearn: 0.8338945\ttest: 0.7870813\tbest: 0.7870813 (18)\ttotal: 3.91s\tremaining: 1m 44s\n",
            "36:\tlearn: 0.8338945\ttest: 0.7870813\tbest: 0.7870813 (18)\ttotal: 4.01s\tremaining: 1m 44s\n",
            "37:\tlearn: 0.8327722\ttest: 0.7870813\tbest: 0.7870813 (18)\ttotal: 4.09s\tremaining: 1m 43s\n",
            "38:\tlearn: 0.8338945\ttest: 0.7870813\tbest: 0.7870813 (18)\ttotal: 4.19s\tremaining: 1m 43s\n",
            "39:\tlearn: 0.8338945\ttest: 0.7870813\tbest: 0.7870813 (18)\ttotal: 4.29s\tremaining: 1m 42s\n",
            "40:\tlearn: 0.8338945\ttest: 0.7870813\tbest: 0.7870813 (18)\ttotal: 4.37s\tremaining: 1m 42s\n",
            "41:\tlearn: 0.8338945\ttest: 0.7870813\tbest: 0.7870813 (18)\ttotal: 4.46s\tremaining: 1m 41s\n",
            "42:\tlearn: 0.8361392\ttest: 0.7870813\tbest: 0.7870813 (18)\ttotal: 4.56s\tremaining: 1m 41s\n",
            "43:\tlearn: 0.8372615\ttest: 0.7870813\tbest: 0.7870813 (18)\ttotal: 4.65s\tremaining: 1m 41s\n",
            "44:\tlearn: 0.8383838\ttest: 0.7870813\tbest: 0.7870813 (18)\ttotal: 4.74s\tremaining: 1m 40s\n",
            "45:\tlearn: 0.8383838\ttest: 0.7870813\tbest: 0.7870813 (18)\ttotal: 4.83s\tremaining: 1m 40s\n",
            "46:\tlearn: 0.8383838\ttest: 0.7870813\tbest: 0.7870813 (18)\ttotal: 4.92s\tremaining: 1m 39s\n",
            "47:\tlearn: 0.8383838\ttest: 0.7870813\tbest: 0.7870813 (18)\ttotal: 5.01s\tremaining: 1m 39s\n",
            "48:\tlearn: 0.8383838\ttest: 0.7870813\tbest: 0.7870813 (18)\ttotal: 5.09s\tremaining: 1m 38s\n",
            "49:\tlearn: 0.8383838\ttest: 0.7870813\tbest: 0.7870813 (18)\ttotal: 5.19s\tremaining: 1m 38s\n",
            "50:\tlearn: 0.8395062\ttest: 0.7870813\tbest: 0.7870813 (18)\ttotal: 5.29s\tremaining: 1m 38s\n",
            "51:\tlearn: 0.8428732\ttest: 0.7894737\tbest: 0.7894737 (51)\ttotal: 5.38s\tremaining: 1m 38s\n",
            "52:\tlearn: 0.8417508\ttest: 0.7870813\tbest: 0.7894737 (51)\ttotal: 5.47s\tremaining: 1m 37s\n",
            "53:\tlearn: 0.8417508\ttest: 0.7870813\tbest: 0.7894737 (51)\ttotal: 5.56s\tremaining: 1m 37s\n",
            "54:\tlearn: 0.8439955\ttest: 0.7894737\tbest: 0.7894737 (51)\ttotal: 5.59s\tremaining: 1m 36s\n",
            "55:\tlearn: 0.8439955\ttest: 0.7894737\tbest: 0.7894737 (51)\ttotal: 5.82s\tremaining: 1m 38s\n",
            "56:\tlearn: 0.8439955\ttest: 0.7894737\tbest: 0.7894737 (51)\ttotal: 6.11s\tremaining: 1m 41s\n",
            "57:\tlearn: 0.8451178\ttest: 0.7894737\tbest: 0.7894737 (51)\ttotal: 6.27s\tremaining: 1m 41s\n",
            "58:\tlearn: 0.8451178\ttest: 0.7894737\tbest: 0.7894737 (51)\ttotal: 6.4s\tremaining: 1m 42s\n",
            "59:\tlearn: 0.8451178\ttest: 0.7894737\tbest: 0.7894737 (51)\ttotal: 6.49s\tremaining: 1m 41s\n",
            "60:\tlearn: 0.8451178\ttest: 0.7894737\tbest: 0.7894737 (51)\ttotal: 6.59s\tremaining: 1m 41s\n",
            "61:\tlearn: 0.8451178\ttest: 0.7894737\tbest: 0.7894737 (51)\ttotal: 6.68s\tremaining: 1m 41s\n",
            "62:\tlearn: 0.8451178\ttest: 0.7894737\tbest: 0.7894737 (51)\ttotal: 6.76s\tremaining: 1m 40s\n",
            "63:\tlearn: 0.8417508\ttest: 0.7870813\tbest: 0.7894737 (51)\ttotal: 6.85s\tremaining: 1m 40s\n",
            "64:\tlearn: 0.8451178\ttest: 0.7894737\tbest: 0.7894737 (51)\ttotal: 6.94s\tremaining: 1m 39s\n",
            "65:\tlearn: 0.8451178\ttest: 0.7894737\tbest: 0.7894737 (51)\ttotal: 7.02s\tremaining: 1m 39s\n",
            "66:\tlearn: 0.8451178\ttest: 0.7894737\tbest: 0.7894737 (51)\ttotal: 7.1s\tremaining: 1m 38s\n",
            "67:\tlearn: 0.8462402\ttest: 0.7894737\tbest: 0.7894737 (51)\ttotal: 7.18s\tremaining: 1m 38s\n",
            "68:\tlearn: 0.8484848\ttest: 0.7894737\tbest: 0.7894737 (51)\ttotal: 7.25s\tremaining: 1m 37s\n",
            "69:\tlearn: 0.8484848\ttest: 0.7894737\tbest: 0.7894737 (51)\ttotal: 7.33s\tremaining: 1m 37s\n",
            "70:\tlearn: 0.8518519\ttest: 0.7846890\tbest: 0.7894737 (51)\ttotal: 7.4s\tremaining: 1m 36s\n",
            "71:\tlearn: 0.8507295\ttest: 0.7846890\tbest: 0.7894737 (51)\ttotal: 7.41s\tremaining: 1m 35s\n",
            "72:\tlearn: 0.8518519\ttest: 0.7846890\tbest: 0.7894737 (51)\ttotal: 7.49s\tremaining: 1m 35s\n",
            "73:\tlearn: 0.8496072\ttest: 0.7846890\tbest: 0.7894737 (51)\ttotal: 7.56s\tremaining: 1m 34s\n",
            "74:\tlearn: 0.8518519\ttest: 0.7846890\tbest: 0.7894737 (51)\ttotal: 7.69s\tremaining: 1m 34s\n",
            "75:\tlearn: 0.8518519\ttest: 0.7846890\tbest: 0.7894737 (51)\ttotal: 7.74s\tremaining: 1m 34s\n",
            "76:\tlearn: 0.8518519\ttest: 0.7846890\tbest: 0.7894737 (51)\ttotal: 7.82s\tremaining: 1m 33s\n",
            "77:\tlearn: 0.8540965\ttest: 0.7846890\tbest: 0.7894737 (51)\ttotal: 7.9s\tremaining: 1m 33s\n",
            "78:\tlearn: 0.8529742\ttest: 0.7846890\tbest: 0.7894737 (51)\ttotal: 7.92s\tremaining: 1m 32s\n",
            "79:\tlearn: 0.8529742\ttest: 0.7846890\tbest: 0.7894737 (51)\ttotal: 7.99s\tremaining: 1m 31s\n",
            "80:\tlearn: 0.8529742\ttest: 0.7846890\tbest: 0.7894737 (51)\ttotal: 8.07s\tremaining: 1m 31s\n",
            "81:\tlearn: 0.8540965\ttest: 0.7846890\tbest: 0.7894737 (51)\ttotal: 8.23s\tremaining: 1m 32s\n",
            "82:\tlearn: 0.8529742\ttest: 0.7846890\tbest: 0.7894737 (51)\ttotal: 8.38s\tremaining: 1m 32s\n",
            "83:\tlearn: 0.8529742\ttest: 0.7846890\tbest: 0.7894737 (51)\ttotal: 8.48s\tremaining: 1m 32s\n",
            "84:\tlearn: 0.8529742\ttest: 0.7846890\tbest: 0.7894737 (51)\ttotal: 8.64s\tremaining: 1m 33s\n",
            "85:\tlearn: 0.8529742\ttest: 0.7846890\tbest: 0.7894737 (51)\ttotal: 8.74s\tremaining: 1m 32s\n",
            "86:\tlearn: 0.8540965\ttest: 0.7846890\tbest: 0.7894737 (51)\ttotal: 8.82s\tremaining: 1m 32s\n",
            "87:\tlearn: 0.8529742\ttest: 0.7846890\tbest: 0.7894737 (51)\ttotal: 8.89s\tremaining: 1m 32s\n",
            "88:\tlearn: 0.8529742\ttest: 0.7846890\tbest: 0.7894737 (51)\ttotal: 8.99s\tremaining: 1m 32s\n",
            "89:\tlearn: 0.8540965\ttest: 0.7846890\tbest: 0.7894737 (51)\ttotal: 9.08s\tremaining: 1m 31s\n",
            "90:\tlearn: 0.8540965\ttest: 0.7846890\tbest: 0.7894737 (51)\ttotal: 9.17s\tremaining: 1m 31s\n",
            "91:\tlearn: 0.8540965\ttest: 0.7846890\tbest: 0.7894737 (51)\ttotal: 9.25s\tremaining: 1m 31s\n",
            "92:\tlearn: 0.8529742\ttest: 0.7822967\tbest: 0.7894737 (51)\ttotal: 9.32s\tremaining: 1m 30s\n",
            "93:\tlearn: 0.8529742\ttest: 0.7822967\tbest: 0.7894737 (51)\ttotal: 9.41s\tremaining: 1m 30s\n",
            "94:\tlearn: 0.8529742\ttest: 0.7846890\tbest: 0.7894737 (51)\ttotal: 9.47s\tremaining: 1m 30s\n",
            "95:\tlearn: 0.8529742\ttest: 0.7846890\tbest: 0.7894737 (51)\ttotal: 9.55s\tremaining: 1m 29s\n",
            "96:\tlearn: 0.8529742\ttest: 0.7846890\tbest: 0.7894737 (51)\ttotal: 9.62s\tremaining: 1m 29s\n",
            "97:\tlearn: 0.8529742\ttest: 0.7846890\tbest: 0.7894737 (51)\ttotal: 9.71s\tremaining: 1m 29s\n",
            "98:\tlearn: 0.8529742\ttest: 0.7822967\tbest: 0.7894737 (51)\ttotal: 9.8s\tremaining: 1m 29s\n",
            "99:\tlearn: 0.8529742\ttest: 0.7846890\tbest: 0.7894737 (51)\ttotal: 9.89s\tremaining: 1m 29s\n",
            "100:\tlearn: 0.8529742\ttest: 0.7846890\tbest: 0.7894737 (51)\ttotal: 9.98s\tremaining: 1m 28s\n",
            "101:\tlearn: 0.8529742\ttest: 0.7822967\tbest: 0.7894737 (51)\ttotal: 10.1s\tremaining: 1m 28s\n",
            "102:\tlearn: 0.8529742\ttest: 0.7846890\tbest: 0.7894737 (51)\ttotal: 10.2s\tremaining: 1m 28s\n",
            "103:\tlearn: 0.8529742\ttest: 0.7846890\tbest: 0.7894737 (51)\ttotal: 10.2s\tremaining: 1m 27s\n",
            "104:\tlearn: 0.8529742\ttest: 0.7822967\tbest: 0.7894737 (51)\ttotal: 10.3s\tremaining: 1m 27s\n",
            "105:\tlearn: 0.8529742\ttest: 0.7822967\tbest: 0.7894737 (51)\ttotal: 10.3s\tremaining: 1m 27s\n",
            "106:\tlearn: 0.8529742\ttest: 0.7822967\tbest: 0.7894737 (51)\ttotal: 10.4s\tremaining: 1m 27s\n",
            "107:\tlearn: 0.8529742\ttest: 0.7822967\tbest: 0.7894737 (51)\ttotal: 10.5s\tremaining: 1m 26s\n",
            "108:\tlearn: 0.8529742\ttest: 0.7822967\tbest: 0.7894737 (51)\ttotal: 10.7s\tremaining: 1m 27s\n",
            "109:\tlearn: 0.8529742\ttest: 0.7846890\tbest: 0.7894737 (51)\ttotal: 10.9s\tremaining: 1m 28s\n",
            "110:\tlearn: 0.8529742\ttest: 0.7822967\tbest: 0.7894737 (51)\ttotal: 11s\tremaining: 1m 28s\n",
            "111:\tlearn: 0.8529742\ttest: 0.7822967\tbest: 0.7894737 (51)\ttotal: 11.1s\tremaining: 1m 28s\n",
            "112:\tlearn: 0.8529742\ttest: 0.7822967\tbest: 0.7894737 (51)\ttotal: 11.2s\tremaining: 1m 28s\n",
            "113:\tlearn: 0.8529742\ttest: 0.7822967\tbest: 0.7894737 (51)\ttotal: 11.3s\tremaining: 1m 27s\n",
            "114:\tlearn: 0.8529742\ttest: 0.7846890\tbest: 0.7894737 (51)\ttotal: 11.4s\tremaining: 1m 27s\n",
            "115:\tlearn: 0.8529742\ttest: 0.7870813\tbest: 0.7894737 (51)\ttotal: 11.5s\tremaining: 1m 27s\n",
            "116:\tlearn: 0.8529742\ttest: 0.7870813\tbest: 0.7894737 (51)\ttotal: 11.6s\tremaining: 1m 27s\n",
            "117:\tlearn: 0.8529742\ttest: 0.7870813\tbest: 0.7894737 (51)\ttotal: 11.7s\tremaining: 1m 27s\n",
            "118:\tlearn: 0.8529742\ttest: 0.7870813\tbest: 0.7894737 (51)\ttotal: 11.7s\tremaining: 1m 26s\n",
            "119:\tlearn: 0.8529742\ttest: 0.7870813\tbest: 0.7894737 (51)\ttotal: 11.8s\tremaining: 1m 26s\n",
            "120:\tlearn: 0.8529742\ttest: 0.7870813\tbest: 0.7894737 (51)\ttotal: 11.9s\tremaining: 1m 26s\n",
            "121:\tlearn: 0.8540965\ttest: 0.7894737\tbest: 0.7894737 (51)\ttotal: 12s\tremaining: 1m 26s\n",
            "122:\tlearn: 0.8529742\ttest: 0.7870813\tbest: 0.7894737 (51)\ttotal: 12.1s\tremaining: 1m 26s\n",
            "123:\tlearn: 0.8529742\ttest: 0.7894737\tbest: 0.7894737 (51)\ttotal: 12.2s\tremaining: 1m 25s\n",
            "124:\tlearn: 0.8529742\ttest: 0.7894737\tbest: 0.7894737 (51)\ttotal: 12.2s\tremaining: 1m 25s\n",
            "125:\tlearn: 0.8540965\ttest: 0.7894737\tbest: 0.7894737 (51)\ttotal: 12.3s\tremaining: 1m 25s\n",
            "126:\tlearn: 0.8540965\ttest: 0.7870813\tbest: 0.7894737 (51)\ttotal: 12.4s\tremaining: 1m 24s\n",
            "127:\tlearn: 0.8540965\ttest: 0.7894737\tbest: 0.7894737 (51)\ttotal: 12.4s\tremaining: 1m 24s\n",
            "128:\tlearn: 0.8563412\ttest: 0.7870813\tbest: 0.7894737 (51)\ttotal: 12.5s\tremaining: 1m 24s\n",
            "129:\tlearn: 0.8563412\ttest: 0.7918660\tbest: 0.7918660 (129)\ttotal: 12.6s\tremaining: 1m 24s\n",
            "130:\tlearn: 0.8552189\ttest: 0.7918660\tbest: 0.7918660 (129)\ttotal: 12.6s\tremaining: 1m 23s\n",
            "131:\tlearn: 0.8563412\ttest: 0.7966507\tbest: 0.7966507 (131)\ttotal: 12.7s\tremaining: 1m 23s\n",
            "132:\tlearn: 0.8563412\ttest: 0.7966507\tbest: 0.7966507 (131)\ttotal: 12.8s\tremaining: 1m 23s\n",
            "133:\tlearn: 0.8563412\ttest: 0.7942584\tbest: 0.7966507 (131)\ttotal: 12.8s\tremaining: 1m 22s\n",
            "134:\tlearn: 0.8552189\ttest: 0.7942584\tbest: 0.7966507 (131)\ttotal: 12.9s\tremaining: 1m 22s\n",
            "135:\tlearn: 0.8552189\ttest: 0.7942584\tbest: 0.7966507 (131)\ttotal: 13.1s\tremaining: 1m 23s\n",
            "136:\tlearn: 0.8540965\ttest: 0.7942584\tbest: 0.7966507 (131)\ttotal: 13.3s\tremaining: 1m 23s\n",
            "137:\tlearn: 0.8540965\ttest: 0.7942584\tbest: 0.7966507 (131)\ttotal: 13.4s\tremaining: 1m 23s\n",
            "138:\tlearn: 0.8552189\ttest: 0.7966507\tbest: 0.7966507 (131)\ttotal: 13.6s\tremaining: 1m 23s\n",
            "139:\tlearn: 0.8540965\ttest: 0.7918660\tbest: 0.7966507 (131)\ttotal: 13.6s\tremaining: 1m 23s\n",
            "140:\tlearn: 0.8540965\ttest: 0.7942584\tbest: 0.7966507 (131)\ttotal: 13.7s\tremaining: 1m 23s\n",
            "141:\tlearn: 0.8540965\ttest: 0.7942584\tbest: 0.7966507 (131)\ttotal: 13.7s\tremaining: 1m 23s\n",
            "142:\tlearn: 0.8540965\ttest: 0.7942584\tbest: 0.7966507 (131)\ttotal: 13.8s\tremaining: 1m 22s\n",
            "143:\tlearn: 0.8540965\ttest: 0.7942584\tbest: 0.7966507 (131)\ttotal: 13.9s\tremaining: 1m 22s\n",
            "144:\tlearn: 0.8540965\ttest: 0.7918660\tbest: 0.7966507 (131)\ttotal: 14s\tremaining: 1m 22s\n",
            "145:\tlearn: 0.8540965\ttest: 0.7918660\tbest: 0.7966507 (131)\ttotal: 14.1s\tremaining: 1m 22s\n",
            "146:\tlearn: 0.8540965\ttest: 0.7942584\tbest: 0.7966507 (131)\ttotal: 14.2s\tremaining: 1m 22s\n",
            "147:\tlearn: 0.8540965\ttest: 0.7942584\tbest: 0.7966507 (131)\ttotal: 14.3s\tremaining: 1m 22s\n",
            "148:\tlearn: 0.8540965\ttest: 0.7942584\tbest: 0.7966507 (131)\ttotal: 14.4s\tremaining: 1m 22s\n",
            "149:\tlearn: 0.8540965\ttest: 0.7942584\tbest: 0.7966507 (131)\ttotal: 14.4s\tremaining: 1m 21s\n",
            "150:\tlearn: 0.8540965\ttest: 0.7942584\tbest: 0.7966507 (131)\ttotal: 14.5s\tremaining: 1m 21s\n",
            "151:\tlearn: 0.8540965\ttest: 0.7942584\tbest: 0.7966507 (131)\ttotal: 14.5s\tremaining: 1m 21s\n",
            "152:\tlearn: 0.8540965\ttest: 0.7942584\tbest: 0.7966507 (131)\ttotal: 14.6s\tremaining: 1m 20s\n",
            "153:\tlearn: 0.8563412\ttest: 0.7942584\tbest: 0.7966507 (131)\ttotal: 14.7s\tremaining: 1m 20s\n",
            "154:\tlearn: 0.8585859\ttest: 0.7942584\tbest: 0.7966507 (131)\ttotal: 14.8s\tremaining: 1m 20s\n",
            "155:\tlearn: 0.8574635\ttest: 0.7966507\tbest: 0.7966507 (131)\ttotal: 14.9s\tremaining: 1m 20s\n",
            "156:\tlearn: 0.8597082\ttest: 0.7918660\tbest: 0.7966507 (131)\ttotal: 14.9s\tremaining: 1m 20s\n",
            "157:\tlearn: 0.8597082\ttest: 0.7918660\tbest: 0.7966507 (131)\ttotal: 15s\tremaining: 1m 20s\n",
            "158:\tlearn: 0.8585859\ttest: 0.7918660\tbest: 0.7966507 (131)\ttotal: 15.1s\tremaining: 1m 19s\n",
            "159:\tlearn: 0.8597082\ttest: 0.7918660\tbest: 0.7966507 (131)\ttotal: 15.2s\tremaining: 1m 19s\n",
            "160:\tlearn: 0.8608305\ttest: 0.7918660\tbest: 0.7966507 (131)\ttotal: 15.3s\tremaining: 1m 19s\n",
            "161:\tlearn: 0.8597082\ttest: 0.7918660\tbest: 0.7966507 (131)\ttotal: 15.4s\tremaining: 1m 19s\n",
            "162:\tlearn: 0.8597082\ttest: 0.7918660\tbest: 0.7966507 (131)\ttotal: 15.6s\tremaining: 1m 20s\n",
            "163:\tlearn: 0.8608305\ttest: 0.7918660\tbest: 0.7966507 (131)\ttotal: 15.9s\tremaining: 1m 21s\n",
            "164:\tlearn: 0.8608305\ttest: 0.7918660\tbest: 0.7966507 (131)\ttotal: 16.1s\tremaining: 1m 21s\n",
            "165:\tlearn: 0.8608305\ttest: 0.7918660\tbest: 0.7966507 (131)\ttotal: 16.2s\tremaining: 1m 21s\n",
            "166:\tlearn: 0.8608305\ttest: 0.7918660\tbest: 0.7966507 (131)\ttotal: 16.2s\tremaining: 1m 20s\n",
            "167:\tlearn: 0.8619529\ttest: 0.7918660\tbest: 0.7966507 (131)\ttotal: 16.3s\tremaining: 1m 20s\n",
            "168:\tlearn: 0.8619529\ttest: 0.7918660\tbest: 0.7966507 (131)\ttotal: 16.4s\tremaining: 1m 20s\n",
            "169:\tlearn: 0.8608305\ttest: 0.7918660\tbest: 0.7966507 (131)\ttotal: 16.5s\tremaining: 1m 20s\n",
            "170:\tlearn: 0.8619529\ttest: 0.7918660\tbest: 0.7966507 (131)\ttotal: 16.5s\tremaining: 1m 20s\n",
            "171:\tlearn: 0.8619529\ttest: 0.7918660\tbest: 0.7966507 (131)\ttotal: 16.6s\tremaining: 1m 19s\n",
            "172:\tlearn: 0.8619529\ttest: 0.7918660\tbest: 0.7966507 (131)\ttotal: 16.7s\tremaining: 1m 19s\n",
            "173:\tlearn: 0.8619529\ttest: 0.7918660\tbest: 0.7966507 (131)\ttotal: 16.7s\tremaining: 1m 19s\n",
            "174:\tlearn: 0.8619529\ttest: 0.7894737\tbest: 0.7966507 (131)\ttotal: 16.8s\tremaining: 1m 19s\n",
            "175:\tlearn: 0.8619529\ttest: 0.7918660\tbest: 0.7966507 (131)\ttotal: 16.9s\tremaining: 1m 18s\n",
            "176:\tlearn: 0.8619529\ttest: 0.7918660\tbest: 0.7966507 (131)\ttotal: 16.9s\tremaining: 1m 18s\n",
            "177:\tlearn: 0.8619529\ttest: 0.7918660\tbest: 0.7966507 (131)\ttotal: 17s\tremaining: 1m 18s\n",
            "178:\tlearn: 0.8608305\ttest: 0.7918660\tbest: 0.7966507 (131)\ttotal: 17.1s\tremaining: 1m 18s\n",
            "179:\tlearn: 0.8619529\ttest: 0.7918660\tbest: 0.7966507 (131)\ttotal: 17.1s\tremaining: 1m 18s\n",
            "180:\tlearn: 0.8641975\ttest: 0.7894737\tbest: 0.7966507 (131)\ttotal: 17.2s\tremaining: 1m 17s\n",
            "181:\tlearn: 0.8641975\ttest: 0.7894737\tbest: 0.7966507 (131)\ttotal: 17.3s\tremaining: 1m 17s\n",
            "182:\tlearn: 0.8653199\ttest: 0.7894737\tbest: 0.7966507 (131)\ttotal: 17.3s\tremaining: 1m 17s\n",
            "183:\tlearn: 0.8653199\ttest: 0.7894737\tbest: 0.7966507 (131)\ttotal: 17.4s\tremaining: 1m 17s\n",
            "184:\tlearn: 0.8653199\ttest: 0.7894737\tbest: 0.7966507 (131)\ttotal: 17.5s\tremaining: 1m 16s\n",
            "185:\tlearn: 0.8664422\ttest: 0.7894737\tbest: 0.7966507 (131)\ttotal: 17.5s\tremaining: 1m 16s\n",
            "186:\tlearn: 0.8664422\ttest: 0.7870813\tbest: 0.7966507 (131)\ttotal: 17.6s\tremaining: 1m 16s\n",
            "187:\tlearn: 0.8664422\ttest: 0.7870813\tbest: 0.7966507 (131)\ttotal: 17.7s\tremaining: 1m 16s\n",
            "188:\tlearn: 0.8664422\ttest: 0.7894737\tbest: 0.7966507 (131)\ttotal: 17.8s\tremaining: 1m 16s\n",
            "189:\tlearn: 0.8664422\ttest: 0.7894737\tbest: 0.7966507 (131)\ttotal: 17.8s\tremaining: 1m 15s\n",
            "190:\tlearn: 0.8653199\ttest: 0.7870813\tbest: 0.7966507 (131)\ttotal: 17.9s\tremaining: 1m 15s\n",
            "191:\tlearn: 0.8664422\ttest: 0.7918660\tbest: 0.7966507 (131)\ttotal: 18s\tremaining: 1m 15s\n",
            "192:\tlearn: 0.8653199\ttest: 0.7918660\tbest: 0.7966507 (131)\ttotal: 18s\tremaining: 1m 15s\n",
            "193:\tlearn: 0.8664422\ttest: 0.7918660\tbest: 0.7966507 (131)\ttotal: 18.4s\tremaining: 1m 16s\n",
            "194:\tlearn: 0.8675645\ttest: 0.7918660\tbest: 0.7966507 (131)\ttotal: 18.5s\tremaining: 1m 16s\n",
            "195:\tlearn: 0.8675645\ttest: 0.7918660\tbest: 0.7966507 (131)\ttotal: 18.6s\tremaining: 1m 16s\n",
            "196:\tlearn: 0.8686869\ttest: 0.7942584\tbest: 0.7966507 (131)\ttotal: 18.7s\tremaining: 1m 16s\n",
            "197:\tlearn: 0.8686869\ttest: 0.7942584\tbest: 0.7966507 (131)\ttotal: 18.8s\tremaining: 1m 16s\n",
            "198:\tlearn: 0.8686869\ttest: 0.7942584\tbest: 0.7966507 (131)\ttotal: 18.9s\tremaining: 1m 16s\n",
            "199:\tlearn: 0.8686869\ttest: 0.7966507\tbest: 0.7966507 (131)\ttotal: 19s\tremaining: 1m 16s\n",
            "200:\tlearn: 0.8698092\ttest: 0.7966507\tbest: 0.7966507 (131)\ttotal: 19.1s\tremaining: 1m 15s\n",
            "201:\tlearn: 0.8698092\ttest: 0.7966507\tbest: 0.7966507 (131)\ttotal: 19.1s\tremaining: 1m 15s\n",
            "202:\tlearn: 0.8698092\ttest: 0.7942584\tbest: 0.7966507 (131)\ttotal: 19.2s\tremaining: 1m 15s\n",
            "203:\tlearn: 0.8709315\ttest: 0.7942584\tbest: 0.7966507 (131)\ttotal: 19.3s\tremaining: 1m 15s\n",
            "204:\tlearn: 0.8709315\ttest: 0.7942584\tbest: 0.7966507 (131)\ttotal: 19.3s\tremaining: 1m 15s\n",
            "205:\tlearn: 0.8698092\ttest: 0.7990431\tbest: 0.7990431 (205)\ttotal: 19.4s\tremaining: 1m 14s\n",
            "206:\tlearn: 0.8709315\ttest: 0.7966507\tbest: 0.7990431 (205)\ttotal: 19.5s\tremaining: 1m 14s\n",
            "207:\tlearn: 0.8731762\ttest: 0.7966507\tbest: 0.7990431 (205)\ttotal: 19.6s\tremaining: 1m 14s\n",
            "208:\tlearn: 0.8731762\ttest: 0.7966507\tbest: 0.7990431 (205)\ttotal: 19.6s\tremaining: 1m 14s\n",
            "209:\tlearn: 0.8742985\ttest: 0.7966507\tbest: 0.7990431 (205)\ttotal: 19.7s\tremaining: 1m 14s\n",
            "210:\tlearn: 0.8731762\ttest: 0.7966507\tbest: 0.7990431 (205)\ttotal: 19.8s\tremaining: 1m 13s\n",
            "211:\tlearn: 0.8731762\ttest: 0.7966507\tbest: 0.7990431 (205)\ttotal: 19.9s\tremaining: 1m 13s\n",
            "212:\tlearn: 0.8742985\ttest: 0.7966507\tbest: 0.7990431 (205)\ttotal: 19.9s\tremaining: 1m 13s\n",
            "213:\tlearn: 0.8742985\ttest: 0.7966507\tbest: 0.7990431 (205)\ttotal: 20s\tremaining: 1m 13s\n",
            "214:\tlearn: 0.8742985\ttest: 0.7966507\tbest: 0.7990431 (205)\ttotal: 20.1s\tremaining: 1m 13s\n",
            "215:\tlearn: 0.8742985\ttest: 0.7966507\tbest: 0.7990431 (205)\ttotal: 20.2s\tremaining: 1m 13s\n",
            "216:\tlearn: 0.8742985\ttest: 0.7966507\tbest: 0.7990431 (205)\ttotal: 20.2s\tremaining: 1m 12s\n",
            "217:\tlearn: 0.8754209\ttest: 0.7966507\tbest: 0.7990431 (205)\ttotal: 20.3s\tremaining: 1m 12s\n",
            "218:\tlearn: 0.8754209\ttest: 0.7966507\tbest: 0.7990431 (205)\ttotal: 20.4s\tremaining: 1m 12s\n",
            "219:\tlearn: 0.8754209\ttest: 0.7966507\tbest: 0.7990431 (205)\ttotal: 20.4s\tremaining: 1m 12s\n",
            "220:\tlearn: 0.8754209\ttest: 0.7966507\tbest: 0.7990431 (205)\ttotal: 20.5s\tremaining: 1m 12s\n",
            "221:\tlearn: 0.8754209\ttest: 0.7966507\tbest: 0.7990431 (205)\ttotal: 20.9s\tremaining: 1m 13s\n",
            "222:\tlearn: 0.8754209\ttest: 0.7966507\tbest: 0.7990431 (205)\ttotal: 21.1s\tremaining: 1m 13s\n",
            "223:\tlearn: 0.8754209\ttest: 0.7942584\tbest: 0.7990431 (205)\ttotal: 21.2s\tremaining: 1m 13s\n",
            "224:\tlearn: 0.8754209\ttest: 0.7966507\tbest: 0.7990431 (205)\ttotal: 21.3s\tremaining: 1m 13s\n",
            "225:\tlearn: 0.8754209\ttest: 0.7966507\tbest: 0.7990431 (205)\ttotal: 21.3s\tremaining: 1m 13s\n",
            "226:\tlearn: 0.8754209\ttest: 0.7942584\tbest: 0.7990431 (205)\ttotal: 21.4s\tremaining: 1m 12s\n",
            "227:\tlearn: 0.8754209\ttest: 0.7942584\tbest: 0.7990431 (205)\ttotal: 21.5s\tremaining: 1m 12s\n",
            "228:\tlearn: 0.8754209\ttest: 0.7942584\tbest: 0.7990431 (205)\ttotal: 21.5s\tremaining: 1m 12s\n",
            "229:\tlearn: 0.8754209\ttest: 0.7942584\tbest: 0.7990431 (205)\ttotal: 21.6s\tremaining: 1m 12s\n",
            "230:\tlearn: 0.8765432\ttest: 0.7942584\tbest: 0.7990431 (205)\ttotal: 21.7s\tremaining: 1m 12s\n",
            "231:\tlearn: 0.8765432\ttest: 0.7966507\tbest: 0.7990431 (205)\ttotal: 21.7s\tremaining: 1m 11s\n",
            "232:\tlearn: 0.8765432\ttest: 0.7990431\tbest: 0.7990431 (205)\ttotal: 21.8s\tremaining: 1m 11s\n",
            "233:\tlearn: 0.8765432\ttest: 0.7990431\tbest: 0.7990431 (205)\ttotal: 21.8s\tremaining: 1m 11s\n",
            "234:\tlearn: 0.8765432\ttest: 0.7990431\tbest: 0.7990431 (205)\ttotal: 21.9s\tremaining: 1m 11s\n",
            "235:\tlearn: 0.8765432\ttest: 0.7990431\tbest: 0.7990431 (205)\ttotal: 22s\tremaining: 1m 11s\n",
            "236:\tlearn: 0.8765432\ttest: 0.7942584\tbest: 0.7990431 (205)\ttotal: 22.1s\tremaining: 1m 11s\n",
            "237:\tlearn: 0.8765432\ttest: 0.7942584\tbest: 0.7990431 (205)\ttotal: 22.1s\tremaining: 1m 10s\n",
            "238:\tlearn: 0.8776655\ttest: 0.7942584\tbest: 0.7990431 (205)\ttotal: 22.2s\tremaining: 1m 10s\n",
            "239:\tlearn: 0.8776655\ttest: 0.7942584\tbest: 0.7990431 (205)\ttotal: 22.2s\tremaining: 1m 10s\n",
            "240:\tlearn: 0.8776655\ttest: 0.7894737\tbest: 0.7990431 (205)\ttotal: 22.3s\tremaining: 1m 10s\n",
            "241:\tlearn: 0.8776655\ttest: 0.7894737\tbest: 0.7990431 (205)\ttotal: 22.4s\tremaining: 1m 10s\n",
            "242:\tlearn: 0.8776655\ttest: 0.7870813\tbest: 0.7990431 (205)\ttotal: 22.5s\tremaining: 1m 10s\n",
            "243:\tlearn: 0.8776655\ttest: 0.7870813\tbest: 0.7990431 (205)\ttotal: 22.6s\tremaining: 1m 9s\n",
            "244:\tlearn: 0.8776655\ttest: 0.7870813\tbest: 0.7990431 (205)\ttotal: 22.6s\tremaining: 1m 9s\n",
            "245:\tlearn: 0.8776655\ttest: 0.7870813\tbest: 0.7990431 (205)\ttotal: 22.7s\tremaining: 1m 9s\n",
            "246:\tlearn: 0.8776655\ttest: 0.7894737\tbest: 0.7990431 (205)\ttotal: 22.8s\tremaining: 1m 9s\n",
            "247:\tlearn: 0.8765432\ttest: 0.7894737\tbest: 0.7990431 (205)\ttotal: 22.9s\tremaining: 1m 9s\n",
            "248:\tlearn: 0.8776655\ttest: 0.7894737\tbest: 0.7990431 (205)\ttotal: 22.9s\tremaining: 1m 9s\n",
            "249:\tlearn: 0.8776655\ttest: 0.7894737\tbest: 0.7990431 (205)\ttotal: 23s\tremaining: 1m 9s\n",
            "250:\tlearn: 0.8776655\ttest: 0.7846890\tbest: 0.7990431 (205)\ttotal: 23.2s\tremaining: 1m 9s\n",
            "251:\tlearn: 0.8765432\ttest: 0.7846890\tbest: 0.7990431 (205)\ttotal: 23.4s\tremaining: 1m 9s\n",
            "252:\tlearn: 0.8765432\ttest: 0.7846890\tbest: 0.7990431 (205)\ttotal: 23.5s\tremaining: 1m 9s\n",
            "253:\tlearn: 0.8765432\ttest: 0.7846890\tbest: 0.7990431 (205)\ttotal: 23.6s\tremaining: 1m 9s\n",
            "254:\tlearn: 0.8754209\ttest: 0.7846890\tbest: 0.7990431 (205)\ttotal: 23.7s\tremaining: 1m 9s\n",
            "255:\tlearn: 0.8765432\ttest: 0.7846890\tbest: 0.7990431 (205)\ttotal: 23.8s\tremaining: 1m 9s\n",
            "256:\tlearn: 0.8765432\ttest: 0.7846890\tbest: 0.7990431 (205)\ttotal: 23.9s\tremaining: 1m 9s\n",
            "257:\tlearn: 0.8765432\ttest: 0.7846890\tbest: 0.7990431 (205)\ttotal: 24s\tremaining: 1m 8s\n",
            "258:\tlearn: 0.8765432\ttest: 0.7846890\tbest: 0.7990431 (205)\ttotal: 24.1s\tremaining: 1m 8s\n",
            "259:\tlearn: 0.8765432\ttest: 0.7846890\tbest: 0.7990431 (205)\ttotal: 24.1s\tremaining: 1m 8s\n",
            "260:\tlearn: 0.8765432\ttest: 0.7846890\tbest: 0.7990431 (205)\ttotal: 24.3s\tremaining: 1m 8s\n",
            "261:\tlearn: 0.8754209\ttest: 0.7846890\tbest: 0.7990431 (205)\ttotal: 24.3s\tremaining: 1m 8s\n",
            "262:\tlearn: 0.8776655\ttest: 0.7870813\tbest: 0.7990431 (205)\ttotal: 24.4s\tremaining: 1m 8s\n",
            "263:\tlearn: 0.8776655\ttest: 0.7870813\tbest: 0.7990431 (205)\ttotal: 24.5s\tremaining: 1m 8s\n",
            "264:\tlearn: 0.8776655\ttest: 0.7870813\tbest: 0.7990431 (205)\ttotal: 24.6s\tremaining: 1m 8s\n",
            "265:\tlearn: 0.8776655\ttest: 0.7870813\tbest: 0.7990431 (205)\ttotal: 24.6s\tremaining: 1m 7s\n",
            "266:\tlearn: 0.8776655\ttest: 0.7870813\tbest: 0.7990431 (205)\ttotal: 24.7s\tremaining: 1m 7s\n",
            "267:\tlearn: 0.8787879\ttest: 0.7870813\tbest: 0.7990431 (205)\ttotal: 24.8s\tremaining: 1m 7s\n",
            "268:\tlearn: 0.8787879\ttest: 0.7870813\tbest: 0.7990431 (205)\ttotal: 24.9s\tremaining: 1m 7s\n",
            "269:\tlearn: 0.8787879\ttest: 0.7870813\tbest: 0.7990431 (205)\ttotal: 24.9s\tremaining: 1m 7s\n",
            "270:\tlearn: 0.8787879\ttest: 0.7894737\tbest: 0.7990431 (205)\ttotal: 25s\tremaining: 1m 7s\n",
            "271:\tlearn: 0.8787879\ttest: 0.7894737\tbest: 0.7990431 (205)\ttotal: 25.1s\tremaining: 1m 7s\n",
            "272:\tlearn: 0.8787879\ttest: 0.7894737\tbest: 0.7990431 (205)\ttotal: 25.1s\tremaining: 1m 6s\n",
            "273:\tlearn: 0.8787879\ttest: 0.7870813\tbest: 0.7990431 (205)\ttotal: 25.2s\tremaining: 1m 6s\n",
            "274:\tlearn: 0.8787879\ttest: 0.7870813\tbest: 0.7990431 (205)\ttotal: 25.3s\tremaining: 1m 6s\n",
            "275:\tlearn: 0.8799102\ttest: 0.7894737\tbest: 0.7990431 (205)\ttotal: 25.4s\tremaining: 1m 6s\n",
            "276:\tlearn: 0.8810325\ttest: 0.7870813\tbest: 0.7990431 (205)\ttotal: 25.4s\tremaining: 1m 6s\n",
            "277:\tlearn: 0.8810325\ttest: 0.7870813\tbest: 0.7990431 (205)\ttotal: 25.6s\tremaining: 1m 6s\n",
            "278:\tlearn: 0.8810325\ttest: 0.7870813\tbest: 0.7990431 (205)\ttotal: 25.8s\tremaining: 1m 6s\n",
            "279:\tlearn: 0.8821549\ttest: 0.7894737\tbest: 0.7990431 (205)\ttotal: 25.9s\tremaining: 1m 6s\n",
            "280:\tlearn: 0.8810325\ttest: 0.7894737\tbest: 0.7990431 (205)\ttotal: 26s\tremaining: 1m 6s\n",
            "281:\tlearn: 0.8832772\ttest: 0.7870813\tbest: 0.7990431 (205)\ttotal: 26.1s\tremaining: 1m 6s\n",
            "282:\tlearn: 0.8832772\ttest: 0.7870813\tbest: 0.7990431 (205)\ttotal: 26.2s\tremaining: 1m 6s\n",
            "283:\tlearn: 0.8832772\ttest: 0.7870813\tbest: 0.7990431 (205)\ttotal: 26.3s\tremaining: 1m 6s\n",
            "284:\tlearn: 0.8832772\ttest: 0.7870813\tbest: 0.7990431 (205)\ttotal: 26.3s\tremaining: 1m 6s\n",
            "285:\tlearn: 0.8832772\ttest: 0.7870813\tbest: 0.7990431 (205)\ttotal: 26.4s\tremaining: 1m 5s\n",
            "286:\tlearn: 0.8832772\ttest: 0.7846890\tbest: 0.7990431 (205)\ttotal: 26.5s\tremaining: 1m 5s\n",
            "287:\tlearn: 0.8832772\ttest: 0.7846890\tbest: 0.7990431 (205)\ttotal: 26.6s\tremaining: 1m 5s\n",
            "288:\tlearn: 0.8832772\ttest: 0.7846890\tbest: 0.7990431 (205)\ttotal: 26.7s\tremaining: 1m 5s\n",
            "289:\tlearn: 0.8832772\ttest: 0.7822967\tbest: 0.7990431 (205)\ttotal: 26.8s\tremaining: 1m 5s\n",
            "290:\tlearn: 0.8832772\ttest: 0.7822967\tbest: 0.7990431 (205)\ttotal: 26.9s\tremaining: 1m 5s\n",
            "291:\tlearn: 0.8832772\ttest: 0.7822967\tbest: 0.7990431 (205)\ttotal: 26.9s\tremaining: 1m 5s\n",
            "292:\tlearn: 0.8832772\ttest: 0.7822967\tbest: 0.7990431 (205)\ttotal: 27s\tremaining: 1m 5s\n",
            "293:\tlearn: 0.8832772\ttest: 0.7822967\tbest: 0.7990431 (205)\ttotal: 27.1s\tremaining: 1m 5s\n",
            "294:\tlearn: 0.8843996\ttest: 0.7822967\tbest: 0.7990431 (205)\ttotal: 27.2s\tremaining: 1m 5s\n",
            "295:\tlearn: 0.8843996\ttest: 0.7822967\tbest: 0.7990431 (205)\ttotal: 27.3s\tremaining: 1m 4s\n",
            "296:\tlearn: 0.8843996\ttest: 0.7822967\tbest: 0.7990431 (205)\ttotal: 27.4s\tremaining: 1m 4s\n",
            "297:\tlearn: 0.8843996\ttest: 0.7822967\tbest: 0.7990431 (205)\ttotal: 27.5s\tremaining: 1m 4s\n",
            "298:\tlearn: 0.8843996\ttest: 0.7822967\tbest: 0.7990431 (205)\ttotal: 27.6s\tremaining: 1m 4s\n",
            "299:\tlearn: 0.8843996\ttest: 0.7822967\tbest: 0.7990431 (205)\ttotal: 27.7s\tremaining: 1m 4s\n",
            "300:\tlearn: 0.8843996\ttest: 0.7822967\tbest: 0.7990431 (205)\ttotal: 27.8s\tremaining: 1m 4s\n",
            "301:\tlearn: 0.8855219\ttest: 0.7822967\tbest: 0.7990431 (205)\ttotal: 27.9s\tremaining: 1m 4s\n",
            "302:\tlearn: 0.8843996\ttest: 0.7822967\tbest: 0.7990431 (205)\ttotal: 28.2s\tremaining: 1m 4s\n",
            "303:\tlearn: 0.8843996\ttest: 0.7822967\tbest: 0.7990431 (205)\ttotal: 28.4s\tremaining: 1m 5s\n",
            "304:\tlearn: 0.8843996\ttest: 0.7822967\tbest: 0.7990431 (205)\ttotal: 28.6s\tremaining: 1m 5s\n",
            "305:\tlearn: 0.8843996\ttest: 0.7822967\tbest: 0.7990431 (205)\ttotal: 28.8s\tremaining: 1m 5s\n",
            "306:\tlearn: 0.8843996\ttest: 0.7822967\tbest: 0.7990431 (205)\ttotal: 28.9s\tremaining: 1m 5s\n",
            "307:\tlearn: 0.8843996\ttest: 0.7822967\tbest: 0.7990431 (205)\ttotal: 29s\tremaining: 1m 5s\n",
            "308:\tlearn: 0.8843996\ttest: 0.7846890\tbest: 0.7990431 (205)\ttotal: 29.1s\tremaining: 1m 5s\n",
            "309:\tlearn: 0.8843996\ttest: 0.7846890\tbest: 0.7990431 (205)\ttotal: 29.2s\tremaining: 1m 5s\n",
            "310:\tlearn: 0.8855219\ttest: 0.7846890\tbest: 0.7990431 (205)\ttotal: 29.4s\tremaining: 1m 5s\n",
            "311:\tlearn: 0.8855219\ttest: 0.7846890\tbest: 0.7990431 (205)\ttotal: 29.4s\tremaining: 1m 4s\n",
            "312:\tlearn: 0.8855219\ttest: 0.7846890\tbest: 0.7990431 (205)\ttotal: 29.5s\tremaining: 1m 4s\n",
            "313:\tlearn: 0.8855219\ttest: 0.7846890\tbest: 0.7990431 (205)\ttotal: 29.6s\tremaining: 1m 4s\n",
            "314:\tlearn: 0.8855219\ttest: 0.7822967\tbest: 0.7990431 (205)\ttotal: 29.7s\tremaining: 1m 4s\n",
            "315:\tlearn: 0.8866442\ttest: 0.7822967\tbest: 0.7990431 (205)\ttotal: 29.7s\tremaining: 1m 4s\n",
            "316:\tlearn: 0.8877666\ttest: 0.7822967\tbest: 0.7990431 (205)\ttotal: 29.8s\tremaining: 1m 4s\n",
            "317:\tlearn: 0.8877666\ttest: 0.7822967\tbest: 0.7990431 (205)\ttotal: 29.9s\tremaining: 1m 4s\n",
            "318:\tlearn: 0.8877666\ttest: 0.7822967\tbest: 0.7990431 (205)\ttotal: 30s\tremaining: 1m 3s\n",
            "319:\tlearn: 0.8877666\ttest: 0.7822967\tbest: 0.7990431 (205)\ttotal: 30.1s\tremaining: 1m 3s\n",
            "320:\tlearn: 0.8877666\ttest: 0.7822967\tbest: 0.7990431 (205)\ttotal: 30.1s\tremaining: 1m 3s\n",
            "321:\tlearn: 0.8877666\ttest: 0.7822967\tbest: 0.7990431 (205)\ttotal: 30.2s\tremaining: 1m 3s\n",
            "322:\tlearn: 0.8877666\ttest: 0.7822967\tbest: 0.7990431 (205)\ttotal: 30.3s\tremaining: 1m 3s\n",
            "323:\tlearn: 0.8877666\ttest: 0.7822967\tbest: 0.7990431 (205)\ttotal: 30.4s\tremaining: 1m 3s\n",
            "324:\tlearn: 0.8877666\ttest: 0.7822967\tbest: 0.7990431 (205)\ttotal: 30.4s\tremaining: 1m 3s\n",
            "325:\tlearn: 0.8877666\ttest: 0.7822967\tbest: 0.7990431 (205)\ttotal: 30.5s\tremaining: 1m 3s\n",
            "326:\tlearn: 0.8877666\ttest: 0.7822967\tbest: 0.7990431 (205)\ttotal: 30.7s\tremaining: 1m 3s\n",
            "327:\tlearn: 0.8877666\ttest: 0.7822967\tbest: 0.7990431 (205)\ttotal: 30.9s\tremaining: 1m 3s\n",
            "328:\tlearn: 0.8877666\ttest: 0.7822967\tbest: 0.7990431 (205)\ttotal: 31s\tremaining: 1m 3s\n",
            "329:\tlearn: 0.8877666\ttest: 0.7822967\tbest: 0.7990431 (205)\ttotal: 31.1s\tremaining: 1m 3s\n",
            "330:\tlearn: 0.8888889\ttest: 0.7822967\tbest: 0.7990431 (205)\ttotal: 31.2s\tremaining: 1m 2s\n",
            "331:\tlearn: 0.8888889\ttest: 0.7822967\tbest: 0.7990431 (205)\ttotal: 31.2s\tremaining: 1m 2s\n",
            "332:\tlearn: 0.8888889\ttest: 0.7822967\tbest: 0.7990431 (205)\ttotal: 31.3s\tremaining: 1m 2s\n",
            "333:\tlearn: 0.8900112\ttest: 0.7822967\tbest: 0.7990431 (205)\ttotal: 31.4s\tremaining: 1m 2s\n",
            "334:\tlearn: 0.8900112\ttest: 0.7822967\tbest: 0.7990431 (205)\ttotal: 31.5s\tremaining: 1m 2s\n",
            "335:\tlearn: 0.8888889\ttest: 0.7822967\tbest: 0.7990431 (205)\ttotal: 31.5s\tremaining: 1m 2s\n",
            "336:\tlearn: 0.8900112\ttest: 0.7822967\tbest: 0.7990431 (205)\ttotal: 31.6s\tremaining: 1m 2s\n",
            "337:\tlearn: 0.8911336\ttest: 0.7822967\tbest: 0.7990431 (205)\ttotal: 31.7s\tremaining: 1m 2s\n",
            "338:\tlearn: 0.8911336\ttest: 0.7822967\tbest: 0.7990431 (205)\ttotal: 31.8s\tremaining: 1m 1s\n",
            "339:\tlearn: 0.8911336\ttest: 0.7822967\tbest: 0.7990431 (205)\ttotal: 31.8s\tremaining: 1m 1s\n",
            "340:\tlearn: 0.8922559\ttest: 0.7846890\tbest: 0.7990431 (205)\ttotal: 31.9s\tremaining: 1m 1s\n",
            "341:\tlearn: 0.8922559\ttest: 0.7846890\tbest: 0.7990431 (205)\ttotal: 32s\tremaining: 1m 1s\n",
            "342:\tlearn: 0.8911336\ttest: 0.7822967\tbest: 0.7990431 (205)\ttotal: 32s\tremaining: 1m 1s\n",
            "343:\tlearn: 0.8922559\ttest: 0.7822967\tbest: 0.7990431 (205)\ttotal: 32.1s\tremaining: 1m 1s\n",
            "344:\tlearn: 0.8922559\ttest: 0.7822967\tbest: 0.7990431 (205)\ttotal: 32.2s\tremaining: 1m 1s\n",
            "345:\tlearn: 0.8900112\ttest: 0.7822967\tbest: 0.7990431 (205)\ttotal: 32.3s\tremaining: 1m\n",
            "346:\tlearn: 0.8900112\ttest: 0.7846890\tbest: 0.7990431 (205)\ttotal: 32.3s\tremaining: 1m\n",
            "347:\tlearn: 0.8933782\ttest: 0.7846890\tbest: 0.7990431 (205)\ttotal: 32.4s\tremaining: 1m\n",
            "348:\tlearn: 0.8945006\ttest: 0.7846890\tbest: 0.7990431 (205)\ttotal: 32.5s\tremaining: 1m\n",
            "349:\tlearn: 0.8945006\ttest: 0.7846890\tbest: 0.7990431 (205)\ttotal: 32.6s\tremaining: 1m\n",
            "350:\tlearn: 0.8945006\ttest: 0.7846890\tbest: 0.7990431 (205)\ttotal: 32.6s\tremaining: 1m\n",
            "351:\tlearn: 0.8945006\ttest: 0.7846890\tbest: 0.7990431 (205)\ttotal: 32.7s\tremaining: 1m\n",
            "352:\tlearn: 0.8945006\ttest: 0.7846890\tbest: 0.7990431 (205)\ttotal: 32.8s\tremaining: 1m\n",
            "353:\tlearn: 0.8945006\ttest: 0.7846890\tbest: 0.7990431 (205)\ttotal: 32.9s\tremaining: 60s\n",
            "354:\tlearn: 0.8945006\ttest: 0.7846890\tbest: 0.7990431 (205)\ttotal: 33s\tremaining: 1m\n",
            "355:\tlearn: 0.8945006\ttest: 0.7846890\tbest: 0.7990431 (205)\ttotal: 33.2s\tremaining: 1m\n",
            "356:\tlearn: 0.8945006\ttest: 0.7870813\tbest: 0.7990431 (205)\ttotal: 33.3s\tremaining: 1m\n",
            "357:\tlearn: 0.8945006\ttest: 0.7870813\tbest: 0.7990431 (205)\ttotal: 33.4s\tremaining: 59.9s\n",
            "358:\tlearn: 0.8945006\ttest: 0.7870813\tbest: 0.7990431 (205)\ttotal: 33.5s\tremaining: 59.8s\n",
            "359:\tlearn: 0.8945006\ttest: 0.7870813\tbest: 0.7990431 (205)\ttotal: 33.6s\tremaining: 59.7s\n",
            "360:\tlearn: 0.8945006\ttest: 0.7870813\tbest: 0.7990431 (205)\ttotal: 33.7s\tremaining: 59.6s\n",
            "361:\tlearn: 0.8933782\ttest: 0.7870813\tbest: 0.7990431 (205)\ttotal: 33.8s\tremaining: 59.5s\n",
            "362:\tlearn: 0.8945006\ttest: 0.7870813\tbest: 0.7990431 (205)\ttotal: 33.8s\tremaining: 59.4s\n",
            "363:\tlearn: 0.8945006\ttest: 0.7870813\tbest: 0.7990431 (205)\ttotal: 33.9s\tremaining: 59.3s\n",
            "364:\tlearn: 0.8945006\ttest: 0.7870813\tbest: 0.7990431 (205)\ttotal: 34s\tremaining: 59.1s\n",
            "365:\tlearn: 0.8945006\ttest: 0.7870813\tbest: 0.7990431 (205)\ttotal: 34.1s\tremaining: 59s\n",
            "366:\tlearn: 0.8978676\ttest: 0.7870813\tbest: 0.7990431 (205)\ttotal: 34.1s\tremaining: 58.9s\n",
            "367:\tlearn: 0.8989899\ttest: 0.7846890\tbest: 0.7990431 (205)\ttotal: 34.2s\tremaining: 58.8s\n",
            "368:\tlearn: 0.8989899\ttest: 0.7846890\tbest: 0.7990431 (205)\ttotal: 34.3s\tremaining: 58.6s\n",
            "369:\tlearn: 0.8978676\ttest: 0.7846890\tbest: 0.7990431 (205)\ttotal: 34.4s\tremaining: 58.5s\n",
            "370:\tlearn: 0.8978676\ttest: 0.7846890\tbest: 0.7990431 (205)\ttotal: 34.5s\tremaining: 58.4s\n",
            "371:\tlearn: 0.8989899\ttest: 0.7846890\tbest: 0.7990431 (205)\ttotal: 34.5s\tremaining: 58.3s\n",
            "372:\tlearn: 0.8989899\ttest: 0.7846890\tbest: 0.7990431 (205)\ttotal: 34.6s\tremaining: 58.2s\n",
            "373:\tlearn: 0.9001122\ttest: 0.7846890\tbest: 0.7990431 (205)\ttotal: 34.7s\tremaining: 58.1s\n",
            "374:\tlearn: 0.8989899\ttest: 0.7846890\tbest: 0.7990431 (205)\ttotal: 34.8s\tremaining: 57.9s\n",
            "375:\tlearn: 0.8978676\ttest: 0.7846890\tbest: 0.7990431 (205)\ttotal: 34.8s\tremaining: 57.8s\n",
            "376:\tlearn: 0.8978676\ttest: 0.7846890\tbest: 0.7990431 (205)\ttotal: 34.9s\tremaining: 57.7s\n",
            "377:\tlearn: 0.9001122\ttest: 0.7846890\tbest: 0.7990431 (205)\ttotal: 35s\tremaining: 57.6s\n",
            "378:\tlearn: 0.9001122\ttest: 0.7846890\tbest: 0.7990431 (205)\ttotal: 35.1s\tremaining: 57.6s\n",
            "379:\tlearn: 0.9001122\ttest: 0.7846890\tbest: 0.7990431 (205)\ttotal: 35.2s\tremaining: 57.5s\n",
            "380:\tlearn: 0.9001122\ttest: 0.7846890\tbest: 0.7990431 (205)\ttotal: 35.3s\tremaining: 57.4s\n",
            "381:\tlearn: 0.9001122\ttest: 0.7846890\tbest: 0.7990431 (205)\ttotal: 35.6s\tremaining: 57.6s\n",
            "382:\tlearn: 0.9001122\ttest: 0.7846890\tbest: 0.7990431 (205)\ttotal: 35.8s\tremaining: 57.7s\n",
            "383:\tlearn: 0.9001122\ttest: 0.7846890\tbest: 0.7990431 (205)\ttotal: 35.9s\tremaining: 57.6s\n",
            "384:\tlearn: 0.9012346\ttest: 0.7846890\tbest: 0.7990431 (205)\ttotal: 36s\tremaining: 57.5s\n",
            "385:\tlearn: 0.9012346\ttest: 0.7846890\tbest: 0.7990431 (205)\ttotal: 36.1s\tremaining: 57.5s\n",
            "386:\tlearn: 0.9012346\ttest: 0.7846890\tbest: 0.7990431 (205)\ttotal: 36.3s\tremaining: 57.4s\n",
            "387:\tlearn: 0.9001122\ttest: 0.7846890\tbest: 0.7990431 (205)\ttotal: 36.4s\tremaining: 57.3s\n",
            "388:\tlearn: 0.9012346\ttest: 0.7870813\tbest: 0.7990431 (205)\ttotal: 36.4s\tremaining: 57.2s\n",
            "389:\tlearn: 0.9023569\ttest: 0.7846890\tbest: 0.7990431 (205)\ttotal: 36.5s\tremaining: 57.1s\n",
            "390:\tlearn: 0.9012346\ttest: 0.7846890\tbest: 0.7990431 (205)\ttotal: 36.6s\tremaining: 57s\n",
            "391:\tlearn: 0.9023569\ttest: 0.7846890\tbest: 0.7990431 (205)\ttotal: 36.7s\tremaining: 56.9s\n",
            "392:\tlearn: 0.9023569\ttest: 0.7846890\tbest: 0.7990431 (205)\ttotal: 36.8s\tremaining: 56.8s\n",
            "393:\tlearn: 0.9012346\ttest: 0.7870813\tbest: 0.7990431 (205)\ttotal: 36.8s\tremaining: 56.7s\n",
            "394:\tlearn: 0.9012346\ttest: 0.7894737\tbest: 0.7990431 (205)\ttotal: 36.9s\tremaining: 56.5s\n",
            "395:\tlearn: 0.9023569\ttest: 0.7870813\tbest: 0.7990431 (205)\ttotal: 37s\tremaining: 56.4s\n",
            "396:\tlearn: 0.9023569\ttest: 0.7894737\tbest: 0.7990431 (205)\ttotal: 37.1s\tremaining: 56.4s\n",
            "397:\tlearn: 0.9034792\ttest: 0.7846890\tbest: 0.7990431 (205)\ttotal: 37.2s\tremaining: 56.3s\n",
            "398:\tlearn: 0.9023569\ttest: 0.7846890\tbest: 0.7990431 (205)\ttotal: 37.3s\tremaining: 56.2s\n",
            "399:\tlearn: 0.9012346\ttest: 0.7846890\tbest: 0.7990431 (205)\ttotal: 37.4s\tremaining: 56.1s\n",
            "400:\tlearn: 0.9012346\ttest: 0.7846890\tbest: 0.7990431 (205)\ttotal: 37.4s\tremaining: 55.9s\n",
            "401:\tlearn: 0.9012346\ttest: 0.7846890\tbest: 0.7990431 (205)\ttotal: 37.5s\tremaining: 55.8s\n",
            "402:\tlearn: 0.9012346\ttest: 0.7846890\tbest: 0.7990431 (205)\ttotal: 37.6s\tremaining: 55.7s\n",
            "403:\tlearn: 0.9023569\ttest: 0.7822967\tbest: 0.7990431 (205)\ttotal: 37.7s\tremaining: 55.6s\n",
            "404:\tlearn: 0.9023569\ttest: 0.7822967\tbest: 0.7990431 (205)\ttotal: 37.8s\tremaining: 55.5s\n",
            "405:\tlearn: 0.9034792\ttest: 0.7822967\tbest: 0.7990431 (205)\ttotal: 38s\tremaining: 55.6s\n",
            "406:\tlearn: 0.9034792\ttest: 0.7822967\tbest: 0.7990431 (205)\ttotal: 38.2s\tremaining: 55.7s\n",
            "407:\tlearn: 0.9068462\ttest: 0.7822967\tbest: 0.7990431 (205)\ttotal: 38.4s\tremaining: 55.7s\n",
            "408:\tlearn: 0.9068462\ttest: 0.7822967\tbest: 0.7990431 (205)\ttotal: 38.5s\tremaining: 55.6s\n",
            "409:\tlearn: 0.9068462\ttest: 0.7822967\tbest: 0.7990431 (205)\ttotal: 38.6s\tremaining: 55.5s\n",
            "410:\tlearn: 0.9068462\ttest: 0.7846890\tbest: 0.7990431 (205)\ttotal: 38.6s\tremaining: 55.4s\n",
            "411:\tlearn: 0.9068462\ttest: 0.7846890\tbest: 0.7990431 (205)\ttotal: 38.8s\tremaining: 55.3s\n",
            "412:\tlearn: 0.9068462\ttest: 0.7846890\tbest: 0.7990431 (205)\ttotal: 38.9s\tremaining: 55.2s\n",
            "413:\tlearn: 0.9068462\ttest: 0.7846890\tbest: 0.7990431 (205)\ttotal: 38.9s\tremaining: 55.1s\n",
            "414:\tlearn: 0.9090909\ttest: 0.7799043\tbest: 0.7990431 (205)\ttotal: 39s\tremaining: 55s\n",
            "415:\tlearn: 0.9090909\ttest: 0.7799043\tbest: 0.7990431 (205)\ttotal: 39.1s\tremaining: 54.9s\n",
            "416:\tlearn: 0.9102132\ttest: 0.7799043\tbest: 0.7990431 (205)\ttotal: 39.2s\tremaining: 54.7s\n",
            "417:\tlearn: 0.9090909\ttest: 0.7799043\tbest: 0.7990431 (205)\ttotal: 39.2s\tremaining: 54.6s\n",
            "418:\tlearn: 0.9090909\ttest: 0.7799043\tbest: 0.7990431 (205)\ttotal: 39.3s\tremaining: 54.5s\n",
            "419:\tlearn: 0.9090909\ttest: 0.7799043\tbest: 0.7990431 (205)\ttotal: 39.4s\tremaining: 54.4s\n",
            "420:\tlearn: 0.9090909\ttest: 0.7799043\tbest: 0.7990431 (205)\ttotal: 39.5s\tremaining: 54.3s\n",
            "421:\tlearn: 0.9102132\ttest: 0.7799043\tbest: 0.7990431 (205)\ttotal: 39.5s\tremaining: 54.2s\n",
            "422:\tlearn: 0.9124579\ttest: 0.7799043\tbest: 0.7990431 (205)\ttotal: 39.6s\tremaining: 54s\n",
            "423:\tlearn: 0.9124579\ttest: 0.7799043\tbest: 0.7990431 (205)\ttotal: 39.7s\tremaining: 53.9s\n",
            "424:\tlearn: 0.9124579\ttest: 0.7799043\tbest: 0.7990431 (205)\ttotal: 39.8s\tremaining: 53.8s\n",
            "425:\tlearn: 0.9135802\ttest: 0.7799043\tbest: 0.7990431 (205)\ttotal: 39.9s\tremaining: 53.7s\n",
            "426:\tlearn: 0.9135802\ttest: 0.7822967\tbest: 0.7990431 (205)\ttotal: 39.9s\tremaining: 53.6s\n",
            "427:\tlearn: 0.9135802\ttest: 0.7822967\tbest: 0.7990431 (205)\ttotal: 40s\tremaining: 53.5s\n",
            "428:\tlearn: 0.9135802\ttest: 0.7799043\tbest: 0.7990431 (205)\ttotal: 40.1s\tremaining: 53.4s\n",
            "429:\tlearn: 0.9135802\ttest: 0.7799043\tbest: 0.7990431 (205)\ttotal: 40.2s\tremaining: 53.2s\n",
            "430:\tlearn: 0.9135802\ttest: 0.7799043\tbest: 0.7990431 (205)\ttotal: 40.2s\tremaining: 53.1s\n",
            "431:\tlearn: 0.9135802\ttest: 0.7799043\tbest: 0.7990431 (205)\ttotal: 40.4s\tremaining: 53.2s\n",
            "432:\tlearn: 0.9135802\ttest: 0.7822967\tbest: 0.7990431 (205)\ttotal: 40.7s\tremaining: 53.3s\n",
            "433:\tlearn: 0.9147026\ttest: 0.7822967\tbest: 0.7990431 (205)\ttotal: 40.9s\tremaining: 53.3s\n",
            "434:\tlearn: 0.9147026\ttest: 0.7822967\tbest: 0.7990431 (205)\ttotal: 41s\tremaining: 53.3s\n",
            "435:\tlearn: 0.9147026\ttest: 0.7822967\tbest: 0.7990431 (205)\ttotal: 41.2s\tremaining: 53.3s\n",
            "436:\tlearn: 0.9147026\ttest: 0.7822967\tbest: 0.7990431 (205)\ttotal: 41.3s\tremaining: 53.2s\n",
            "437:\tlearn: 0.9147026\ttest: 0.7822967\tbest: 0.7990431 (205)\ttotal: 41.4s\tremaining: 53.1s\n",
            "438:\tlearn: 0.9147026\ttest: 0.7846890\tbest: 0.7990431 (205)\ttotal: 41.5s\tremaining: 53s\n",
            "439:\tlearn: 0.9147026\ttest: 0.7822967\tbest: 0.7990431 (205)\ttotal: 41.6s\tremaining: 52.9s\n",
            "440:\tlearn: 0.9147026\ttest: 0.7822967\tbest: 0.7990431 (205)\ttotal: 41.6s\tremaining: 52.8s\n",
            "441:\tlearn: 0.9147026\ttest: 0.7822967\tbest: 0.7990431 (205)\ttotal: 41.7s\tremaining: 52.7s\n",
            "442:\tlearn: 0.9147026\ttest: 0.7822967\tbest: 0.7990431 (205)\ttotal: 41.8s\tremaining: 52.6s\n",
            "443:\tlearn: 0.9147026\ttest: 0.7822967\tbest: 0.7990431 (205)\ttotal: 41.9s\tremaining: 52.5s\n",
            "444:\tlearn: 0.9147026\ttest: 0.7822967\tbest: 0.7990431 (205)\ttotal: 42s\tremaining: 52.3s\n",
            "445:\tlearn: 0.9147026\ttest: 0.7822967\tbest: 0.7990431 (205)\ttotal: 42s\tremaining: 52.2s\n",
            "446:\tlearn: 0.9147026\ttest: 0.7822967\tbest: 0.7990431 (205)\ttotal: 42.1s\tremaining: 52.1s\n",
            "447:\tlearn: 0.9147026\ttest: 0.7822967\tbest: 0.7990431 (205)\ttotal: 42.2s\tremaining: 52s\n",
            "448:\tlearn: 0.9147026\ttest: 0.7822967\tbest: 0.7990431 (205)\ttotal: 42.3s\tremaining: 51.9s\n",
            "449:\tlearn: 0.9147026\ttest: 0.7822967\tbest: 0.7990431 (205)\ttotal: 42.4s\tremaining: 51.8s\n",
            "450:\tlearn: 0.9147026\ttest: 0.7822967\tbest: 0.7990431 (205)\ttotal: 42.4s\tremaining: 51.6s\n",
            "451:\tlearn: 0.9147026\ttest: 0.7822967\tbest: 0.7990431 (205)\ttotal: 42.5s\tremaining: 51.5s\n",
            "452:\tlearn: 0.9147026\ttest: 0.7822967\tbest: 0.7990431 (205)\ttotal: 42.6s\tremaining: 51.4s\n",
            "453:\tlearn: 0.9147026\ttest: 0.7822967\tbest: 0.7990431 (205)\ttotal: 42.7s\tremaining: 51.3s\n",
            "454:\tlearn: 0.9158249\ttest: 0.7822967\tbest: 0.7990431 (205)\ttotal: 42.7s\tremaining: 51.2s\n",
            "455:\tlearn: 0.9158249\ttest: 0.7799043\tbest: 0.7990431 (205)\ttotal: 42.9s\tremaining: 51.1s\n",
            "456:\tlearn: 0.9158249\ttest: 0.7799043\tbest: 0.7990431 (205)\ttotal: 43.1s\tremaining: 51.2s\n",
            "457:\tlearn: 0.9158249\ttest: 0.7799043\tbest: 0.7990431 (205)\ttotal: 43.2s\tremaining: 51.1s\n",
            "458:\tlearn: 0.9158249\ttest: 0.7799043\tbest: 0.7990431 (205)\ttotal: 43.3s\tremaining: 51s\n",
            "459:\tlearn: 0.9158249\ttest: 0.7799043\tbest: 0.7990431 (205)\ttotal: 43.5s\tremaining: 51s\n",
            "460:\tlearn: 0.9158249\ttest: 0.7799043\tbest: 0.7990431 (205)\ttotal: 43.6s\tremaining: 50.9s\n",
            "461:\tlearn: 0.9158249\ttest: 0.7822967\tbest: 0.7990431 (205)\ttotal: 43.7s\tremaining: 50.8s\n",
            "462:\tlearn: 0.9158249\ttest: 0.7822967\tbest: 0.7990431 (205)\ttotal: 43.8s\tremaining: 50.8s\n",
            "463:\tlearn: 0.9158249\ttest: 0.7822967\tbest: 0.7990431 (205)\ttotal: 43.9s\tremaining: 50.7s\n",
            "464:\tlearn: 0.9158249\ttest: 0.7822967\tbest: 0.7990431 (205)\ttotal: 44s\tremaining: 50.6s\n",
            "465:\tlearn: 0.9158249\ttest: 0.7822967\tbest: 0.7990431 (205)\ttotal: 44.1s\tremaining: 50.5s\n",
            "466:\tlearn: 0.9169473\ttest: 0.7846890\tbest: 0.7990431 (205)\ttotal: 44.2s\tremaining: 50.4s\n",
            "467:\tlearn: 0.9169473\ttest: 0.7846890\tbest: 0.7990431 (205)\ttotal: 44.2s\tremaining: 50.3s\n",
            "468:\tlearn: 0.9169473\ttest: 0.7846890\tbest: 0.7990431 (205)\ttotal: 44.3s\tremaining: 50.2s\n",
            "469:\tlearn: 0.9169473\ttest: 0.7846890\tbest: 0.7990431 (205)\ttotal: 44.4s\tremaining: 50.1s\n",
            "470:\tlearn: 0.9169473\ttest: 0.7846890\tbest: 0.7990431 (205)\ttotal: 44.5s\tremaining: 50s\n",
            "471:\tlearn: 0.9180696\ttest: 0.7846890\tbest: 0.7990431 (205)\ttotal: 44.6s\tremaining: 49.9s\n",
            "472:\tlearn: 0.9169473\ttest: 0.7822967\tbest: 0.7990431 (205)\ttotal: 44.7s\tremaining: 49.8s\n",
            "473:\tlearn: 0.9169473\ttest: 0.7822967\tbest: 0.7990431 (205)\ttotal: 44.8s\tremaining: 49.8s\n",
            "474:\tlearn: 0.9180696\ttest: 0.7822967\tbest: 0.7990431 (205)\ttotal: 44.9s\tremaining: 49.7s\n",
            "475:\tlearn: 0.9169473\ttest: 0.7822967\tbest: 0.7990431 (205)\ttotal: 45s\tremaining: 49.6s\n",
            "476:\tlearn: 0.9169473\ttest: 0.7822967\tbest: 0.7990431 (205)\ttotal: 45.1s\tremaining: 49.5s\n",
            "477:\tlearn: 0.9169473\ttest: 0.7822967\tbest: 0.7990431 (205)\ttotal: 45.4s\tremaining: 49.5s\n",
            "478:\tlearn: 0.9180696\ttest: 0.7822967\tbest: 0.7990431 (205)\ttotal: 45.6s\tremaining: 49.6s\n",
            "479:\tlearn: 0.9169473\ttest: 0.7822967\tbest: 0.7990431 (205)\ttotal: 45.7s\tremaining: 49.5s\n",
            "480:\tlearn: 0.9180696\ttest: 0.7822967\tbest: 0.7990431 (205)\ttotal: 45.8s\tremaining: 49.4s\n",
            "481:\tlearn: 0.9191919\ttest: 0.7846890\tbest: 0.7990431 (205)\ttotal: 45.9s\tremaining: 49.3s\n",
            "482:\tlearn: 0.9203143\ttest: 0.7822967\tbest: 0.7990431 (205)\ttotal: 46s\tremaining: 49.2s\n",
            "483:\tlearn: 0.9191919\ttest: 0.7846890\tbest: 0.7990431 (205)\ttotal: 46.1s\tremaining: 49.1s\n",
            "484:\tlearn: 0.9191919\ttest: 0.7846890\tbest: 0.7990431 (205)\ttotal: 46.1s\tremaining: 49s\n",
            "485:\tlearn: 0.9191919\ttest: 0.7846890\tbest: 0.7990431 (205)\ttotal: 46.2s\tremaining: 48.9s\n",
            "486:\tlearn: 0.9191919\ttest: 0.7846890\tbest: 0.7990431 (205)\ttotal: 46.3s\tremaining: 48.8s\n",
            "487:\tlearn: 0.9191919\ttest: 0.7846890\tbest: 0.7990431 (205)\ttotal: 46.4s\tremaining: 48.7s\n",
            "488:\tlearn: 0.9191919\ttest: 0.7846890\tbest: 0.7990431 (205)\ttotal: 46.5s\tremaining: 48.6s\n",
            "489:\tlearn: 0.9191919\ttest: 0.7846890\tbest: 0.7990431 (205)\ttotal: 46.6s\tremaining: 48.5s\n",
            "490:\tlearn: 0.9191919\ttest: 0.7846890\tbest: 0.7990431 (205)\ttotal: 46.6s\tremaining: 48.3s\n",
            "491:\tlearn: 0.9191919\ttest: 0.7846890\tbest: 0.7990431 (205)\ttotal: 46.7s\tremaining: 48.3s\n",
            "492:\tlearn: 0.9191919\ttest: 0.7822967\tbest: 0.7990431 (205)\ttotal: 46.9s\tremaining: 48.2s\n",
            "493:\tlearn: 0.9191919\ttest: 0.7822967\tbest: 0.7990431 (205)\ttotal: 47s\tremaining: 48.1s\n",
            "494:\tlearn: 0.9191919\ttest: 0.7822967\tbest: 0.7990431 (205)\ttotal: 47.1s\tremaining: 48s\n",
            "495:\tlearn: 0.9191919\ttest: 0.7822967\tbest: 0.7990431 (205)\ttotal: 47.2s\tremaining: 47.9s\n",
            "496:\tlearn: 0.9191919\ttest: 0.7822967\tbest: 0.7990431 (205)\ttotal: 47.3s\tremaining: 47.8s\n",
            "497:\tlearn: 0.9191919\ttest: 0.7822967\tbest: 0.7990431 (205)\ttotal: 47.4s\tremaining: 47.7s\n",
            "498:\tlearn: 0.9191919\ttest: 0.7822967\tbest: 0.7990431 (205)\ttotal: 47.4s\tremaining: 47.6s\n",
            "499:\tlearn: 0.9203143\ttest: 0.7822967\tbest: 0.7990431 (205)\ttotal: 47.5s\tremaining: 47.5s\n",
            "500:\tlearn: 0.9203143\ttest: 0.7822967\tbest: 0.7990431 (205)\ttotal: 47.6s\tremaining: 47.4s\n",
            "501:\tlearn: 0.9214366\ttest: 0.7822967\tbest: 0.7990431 (205)\ttotal: 47.9s\tremaining: 47.5s\n",
            "502:\tlearn: 0.9214366\ttest: 0.7822967\tbest: 0.7990431 (205)\ttotal: 48.1s\tremaining: 47.5s\n",
            "503:\tlearn: 0.9214366\ttest: 0.7822967\tbest: 0.7990431 (205)\ttotal: 48.2s\tremaining: 47.5s\n",
            "504:\tlearn: 0.9214366\ttest: 0.7822967\tbest: 0.7990431 (205)\ttotal: 48.3s\tremaining: 47.4s\n",
            "505:\tlearn: 0.9214366\ttest: 0.7822967\tbest: 0.7990431 (205)\ttotal: 48.4s\tremaining: 47.3s\n",
            "506:\tlearn: 0.9214366\ttest: 0.7822967\tbest: 0.7990431 (205)\ttotal: 48.5s\tremaining: 47.2s\n",
            "507:\tlearn: 0.9214366\ttest: 0.7822967\tbest: 0.7990431 (205)\ttotal: 48.6s\tremaining: 47.1s\n",
            "508:\tlearn: 0.9214366\ttest: 0.7822967\tbest: 0.7990431 (205)\ttotal: 48.7s\tremaining: 47s\n",
            "509:\tlearn: 0.9214366\ttest: 0.7822967\tbest: 0.7990431 (205)\ttotal: 48.8s\tremaining: 46.9s\n",
            "510:\tlearn: 0.9214366\ttest: 0.7822967\tbest: 0.7990431 (205)\ttotal: 48.9s\tremaining: 46.8s\n",
            "511:\tlearn: 0.9214366\ttest: 0.7822967\tbest: 0.7990431 (205)\ttotal: 49s\tremaining: 46.7s\n",
            "512:\tlearn: 0.9214366\ttest: 0.7822967\tbest: 0.7990431 (205)\ttotal: 49s\tremaining: 46.5s\n",
            "513:\tlearn: 0.9214366\ttest: 0.7846890\tbest: 0.7990431 (205)\ttotal: 49.1s\tremaining: 46.4s\n",
            "514:\tlearn: 0.9214366\ttest: 0.7799043\tbest: 0.7990431 (205)\ttotal: 49.2s\tremaining: 46.3s\n",
            "515:\tlearn: 0.9214366\ttest: 0.7822967\tbest: 0.7990431 (205)\ttotal: 49.3s\tremaining: 46.2s\n",
            "516:\tlearn: 0.9214366\ttest: 0.7822967\tbest: 0.7990431 (205)\ttotal: 49.3s\tremaining: 46.1s\n",
            "517:\tlearn: 0.9214366\ttest: 0.7822967\tbest: 0.7990431 (205)\ttotal: 49.4s\tremaining: 46s\n",
            "518:\tlearn: 0.9214366\ttest: 0.7799043\tbest: 0.7990431 (205)\ttotal: 49.5s\tremaining: 45.9s\n",
            "519:\tlearn: 0.9214366\ttest: 0.7799043\tbest: 0.7990431 (205)\ttotal: 49.6s\tremaining: 45.8s\n",
            "520:\tlearn: 0.9214366\ttest: 0.7799043\tbest: 0.7990431 (205)\ttotal: 49.6s\tremaining: 45.6s\n",
            "521:\tlearn: 0.9214366\ttest: 0.7799043\tbest: 0.7990431 (205)\ttotal: 49.7s\tremaining: 45.6s\n",
            "522:\tlearn: 0.9214366\ttest: 0.7799043\tbest: 0.7990431 (205)\ttotal: 49.8s\tremaining: 45.4s\n",
            "523:\tlearn: 0.9214366\ttest: 0.7799043\tbest: 0.7990431 (205)\ttotal: 49.9s\tremaining: 45.3s\n",
            "524:\tlearn: 0.9214366\ttest: 0.7799043\tbest: 0.7990431 (205)\ttotal: 50s\tremaining: 45.2s\n",
            "525:\tlearn: 0.9214366\ttest: 0.7799043\tbest: 0.7990431 (205)\ttotal: 50.1s\tremaining: 45.1s\n",
            "526:\tlearn: 0.9203143\ttest: 0.7799043\tbest: 0.7990431 (205)\ttotal: 50.4s\tremaining: 45.2s\n",
            "527:\tlearn: 0.9203143\ttest: 0.7799043\tbest: 0.7990431 (205)\ttotal: 50.6s\tremaining: 45.2s\n",
            "528:\tlearn: 0.9203143\ttest: 0.7799043\tbest: 0.7990431 (205)\ttotal: 50.7s\tremaining: 45.1s\n",
            "529:\tlearn: 0.9203143\ttest: 0.7751196\tbest: 0.7990431 (205)\ttotal: 50.8s\tremaining: 45.1s\n",
            "530:\tlearn: 0.9203143\ttest: 0.7822967\tbest: 0.7990431 (205)\ttotal: 50.9s\tremaining: 45s\n",
            "531:\tlearn: 0.9203143\ttest: 0.7822967\tbest: 0.7990431 (205)\ttotal: 51s\tremaining: 44.9s\n",
            "532:\tlearn: 0.9203143\ttest: 0.7822967\tbest: 0.7990431 (205)\ttotal: 51.1s\tremaining: 44.7s\n",
            "533:\tlearn: 0.9203143\ttest: 0.7822967\tbest: 0.7990431 (205)\ttotal: 51.2s\tremaining: 44.6s\n",
            "534:\tlearn: 0.9203143\ttest: 0.7822967\tbest: 0.7990431 (205)\ttotal: 51.2s\tremaining: 44.5s\n",
            "535:\tlearn: 0.9203143\ttest: 0.7822967\tbest: 0.7990431 (205)\ttotal: 51.3s\tremaining: 44.4s\n",
            "536:\tlearn: 0.9203143\ttest: 0.7822967\tbest: 0.7990431 (205)\ttotal: 51.4s\tremaining: 44.3s\n",
            "537:\tlearn: 0.9203143\ttest: 0.7822967\tbest: 0.7990431 (205)\ttotal: 51.5s\tremaining: 44.2s\n",
            "538:\tlearn: 0.9203143\ttest: 0.7822967\tbest: 0.7990431 (205)\ttotal: 51.5s\tremaining: 44.1s\n",
            "539:\tlearn: 0.9203143\ttest: 0.7822967\tbest: 0.7990431 (205)\ttotal: 51.6s\tremaining: 44s\n",
            "540:\tlearn: 0.9203143\ttest: 0.7822967\tbest: 0.7990431 (205)\ttotal: 51.7s\tremaining: 43.9s\n",
            "541:\tlearn: 0.9203143\ttest: 0.7775120\tbest: 0.7990431 (205)\ttotal: 51.8s\tremaining: 43.7s\n",
            "542:\tlearn: 0.9203143\ttest: 0.7775120\tbest: 0.7990431 (205)\ttotal: 51.8s\tremaining: 43.6s\n",
            "543:\tlearn: 0.9203143\ttest: 0.7775120\tbest: 0.7990431 (205)\ttotal: 51.9s\tremaining: 43.5s\n",
            "544:\tlearn: 0.9203143\ttest: 0.7775120\tbest: 0.7990431 (205)\ttotal: 52s\tremaining: 43.4s\n",
            "545:\tlearn: 0.9203143\ttest: 0.7775120\tbest: 0.7990431 (205)\ttotal: 52.1s\tremaining: 43.3s\n",
            "546:\tlearn: 0.9203143\ttest: 0.7775120\tbest: 0.7990431 (205)\ttotal: 52.2s\tremaining: 43.2s\n",
            "547:\tlearn: 0.9203143\ttest: 0.7775120\tbest: 0.7990431 (205)\ttotal: 52.2s\tremaining: 43.1s\n",
            "548:\tlearn: 0.9214366\ttest: 0.7775120\tbest: 0.7990431 (205)\ttotal: 52.3s\tremaining: 43s\n",
            "549:\tlearn: 0.9214366\ttest: 0.7775120\tbest: 0.7990431 (205)\ttotal: 52.4s\tremaining: 42.9s\n",
            "550:\tlearn: 0.9214366\ttest: 0.7775120\tbest: 0.7990431 (205)\ttotal: 52.5s\tremaining: 42.8s\n",
            "551:\tlearn: 0.9214366\ttest: 0.7775120\tbest: 0.7990431 (205)\ttotal: 52.8s\tremaining: 42.9s\n",
            "552:\tlearn: 0.9236813\ttest: 0.7775120\tbest: 0.7990431 (205)\ttotal: 53s\tremaining: 42.9s\n",
            "553:\tlearn: 0.9236813\ttest: 0.7775120\tbest: 0.7990431 (205)\ttotal: 53.1s\tremaining: 42.8s\n",
            "554:\tlearn: 0.9236813\ttest: 0.7775120\tbest: 0.7990431 (205)\ttotal: 53.3s\tremaining: 42.7s\n",
            "555:\tlearn: 0.9225589\ttest: 0.7775120\tbest: 0.7990431 (205)\ttotal: 53.3s\tremaining: 42.6s\n",
            "556:\tlearn: 0.9236813\ttest: 0.7775120\tbest: 0.7990431 (205)\ttotal: 53.4s\tremaining: 42.5s\n",
            "557:\tlearn: 0.9236813\ttest: 0.7775120\tbest: 0.7990431 (205)\ttotal: 53.5s\tremaining: 42.4s\n",
            "558:\tlearn: 0.9236813\ttest: 0.7775120\tbest: 0.7990431 (205)\ttotal: 53.6s\tremaining: 42.3s\n",
            "559:\tlearn: 0.9236813\ttest: 0.7775120\tbest: 0.7990431 (205)\ttotal: 53.8s\tremaining: 42.2s\n",
            "560:\tlearn: 0.9236813\ttest: 0.7775120\tbest: 0.7990431 (205)\ttotal: 53.9s\tremaining: 42.1s\n",
            "561:\tlearn: 0.9236813\ttest: 0.7775120\tbest: 0.7990431 (205)\ttotal: 53.9s\tremaining: 42s\n",
            "562:\tlearn: 0.9236813\ttest: 0.7775120\tbest: 0.7990431 (205)\ttotal: 54s\tremaining: 41.9s\n",
            "563:\tlearn: 0.9248036\ttest: 0.7775120\tbest: 0.7990431 (205)\ttotal: 54.1s\tremaining: 41.8s\n",
            "564:\tlearn: 0.9248036\ttest: 0.7775120\tbest: 0.7990431 (205)\ttotal: 54.2s\tremaining: 41.7s\n",
            "565:\tlearn: 0.9248036\ttest: 0.7775120\tbest: 0.7990431 (205)\ttotal: 54.2s\tremaining: 41.6s\n",
            "566:\tlearn: 0.9248036\ttest: 0.7775120\tbest: 0.7990431 (205)\ttotal: 54.3s\tremaining: 41.5s\n",
            "567:\tlearn: 0.9248036\ttest: 0.7775120\tbest: 0.7990431 (205)\ttotal: 54.4s\tremaining: 41.4s\n",
            "568:\tlearn: 0.9248036\ttest: 0.7775120\tbest: 0.7990431 (205)\ttotal: 54.5s\tremaining: 41.3s\n",
            "569:\tlearn: 0.9248036\ttest: 0.7775120\tbest: 0.7990431 (205)\ttotal: 54.5s\tremaining: 41.1s\n",
            "570:\tlearn: 0.9248036\ttest: 0.7775120\tbest: 0.7990431 (205)\ttotal: 54.6s\tremaining: 41s\n",
            "571:\tlearn: 0.9248036\ttest: 0.7775120\tbest: 0.7990431 (205)\ttotal: 54.7s\tremaining: 40.9s\n",
            "572:\tlearn: 0.9248036\ttest: 0.7775120\tbest: 0.7990431 (205)\ttotal: 54.8s\tremaining: 40.8s\n",
            "573:\tlearn: 0.9248036\ttest: 0.7775120\tbest: 0.7990431 (205)\ttotal: 54.9s\tremaining: 40.7s\n",
            "574:\tlearn: 0.9236813\ttest: 0.7775120\tbest: 0.7990431 (205)\ttotal: 55s\tremaining: 40.6s\n",
            "575:\tlearn: 0.9236813\ttest: 0.7775120\tbest: 0.7990431 (205)\ttotal: 55.2s\tremaining: 40.7s\n",
            "576:\tlearn: 0.9236813\ttest: 0.7775120\tbest: 0.7990431 (205)\ttotal: 55.4s\tremaining: 40.6s\n",
            "577:\tlearn: 0.9236813\ttest: 0.7775120\tbest: 0.7990431 (205)\ttotal: 55.5s\tremaining: 40.5s\n",
            "578:\tlearn: 0.9259259\ttest: 0.7775120\tbest: 0.7990431 (205)\ttotal: 55.6s\tremaining: 40.4s\n",
            "579:\tlearn: 0.9259259\ttest: 0.7775120\tbest: 0.7990431 (205)\ttotal: 55.7s\tremaining: 40.3s\n",
            "580:\tlearn: 0.9259259\ttest: 0.7775120\tbest: 0.7990431 (205)\ttotal: 55.8s\tremaining: 40.2s\n",
            "581:\tlearn: 0.9259259\ttest: 0.7775120\tbest: 0.7990431 (205)\ttotal: 55.8s\tremaining: 40.1s\n",
            "582:\tlearn: 0.9259259\ttest: 0.7775120\tbest: 0.7990431 (205)\ttotal: 55.9s\tremaining: 40s\n",
            "583:\tlearn: 0.9259259\ttest: 0.7775120\tbest: 0.7990431 (205)\ttotal: 56s\tremaining: 39.9s\n",
            "584:\tlearn: 0.9259259\ttest: 0.7775120\tbest: 0.7990431 (205)\ttotal: 56.1s\tremaining: 39.8s\n",
            "585:\tlearn: 0.9270483\ttest: 0.7775120\tbest: 0.7990431 (205)\ttotal: 56.2s\tremaining: 39.7s\n",
            "586:\tlearn: 0.9270483\ttest: 0.7775120\tbest: 0.7990431 (205)\ttotal: 56.3s\tremaining: 39.6s\n",
            "587:\tlearn: 0.9259259\ttest: 0.7775120\tbest: 0.7990431 (205)\ttotal: 56.4s\tremaining: 39.5s\n",
            "588:\tlearn: 0.9270483\ttest: 0.7775120\tbest: 0.7990431 (205)\ttotal: 56.5s\tremaining: 39.4s\n",
            "589:\tlearn: 0.9270483\ttest: 0.7775120\tbest: 0.7990431 (205)\ttotal: 56.5s\tremaining: 39.3s\n",
            "590:\tlearn: 0.9270483\ttest: 0.7775120\tbest: 0.7990431 (205)\ttotal: 56.6s\tremaining: 39.2s\n",
            "591:\tlearn: 0.9270483\ttest: 0.7799043\tbest: 0.7990431 (205)\ttotal: 56.7s\tremaining: 39.1s\n",
            "592:\tlearn: 0.9259259\ttest: 0.7799043\tbest: 0.7990431 (205)\ttotal: 56.8s\tremaining: 39s\n",
            "593:\tlearn: 0.9259259\ttest: 0.7799043\tbest: 0.7990431 (205)\ttotal: 56.9s\tremaining: 38.9s\n",
            "594:\tlearn: 0.9259259\ttest: 0.7799043\tbest: 0.7990431 (205)\ttotal: 56.9s\tremaining: 38.8s\n",
            "595:\tlearn: 0.9259259\ttest: 0.7799043\tbest: 0.7990431 (205)\ttotal: 57s\tremaining: 38.7s\n",
            "596:\tlearn: 0.9259259\ttest: 0.7799043\tbest: 0.7990431 (205)\ttotal: 57.1s\tremaining: 38.5s\n",
            "597:\tlearn: 0.9259259\ttest: 0.7799043\tbest: 0.7990431 (205)\ttotal: 57.2s\tremaining: 38.4s\n",
            "598:\tlearn: 0.9259259\ttest: 0.7799043\tbest: 0.7990431 (205)\ttotal: 57.3s\tremaining: 38.3s\n",
            "599:\tlearn: 0.9259259\ttest: 0.7799043\tbest: 0.7990431 (205)\ttotal: 57.3s\tremaining: 38.2s\n",
            "600:\tlearn: 0.9259259\ttest: 0.7799043\tbest: 0.7990431 (205)\ttotal: 57.4s\tremaining: 38.1s\n",
            "601:\tlearn: 0.9259259\ttest: 0.7799043\tbest: 0.7990431 (205)\ttotal: 57.6s\tremaining: 38.1s\n",
            "602:\tlearn: 0.9259259\ttest: 0.7799043\tbest: 0.7990431 (205)\ttotal: 57.8s\tremaining: 38s\n",
            "603:\tlearn: 0.9259259\ttest: 0.7799043\tbest: 0.7990431 (205)\ttotal: 57.9s\tremaining: 38s\n",
            "604:\tlearn: 0.9259259\ttest: 0.7799043\tbest: 0.7990431 (205)\ttotal: 58s\tremaining: 37.9s\n",
            "605:\tlearn: 0.9259259\ttest: 0.7799043\tbest: 0.7990431 (205)\ttotal: 58.1s\tremaining: 37.8s\n",
            "606:\tlearn: 0.9259259\ttest: 0.7775120\tbest: 0.7990431 (205)\ttotal: 58.2s\tremaining: 37.7s\n",
            "607:\tlearn: 0.9259259\ttest: 0.7775120\tbest: 0.7990431 (205)\ttotal: 58.3s\tremaining: 37.6s\n",
            "608:\tlearn: 0.9259259\ttest: 0.7799043\tbest: 0.7990431 (205)\ttotal: 58.4s\tremaining: 37.5s\n",
            "609:\tlearn: 0.9259259\ttest: 0.7775120\tbest: 0.7990431 (205)\ttotal: 58.4s\tremaining: 37.4s\n",
            "610:\tlearn: 0.9259259\ttest: 0.7799043\tbest: 0.7990431 (205)\ttotal: 58.5s\tremaining: 37.3s\n",
            "611:\tlearn: 0.9259259\ttest: 0.7799043\tbest: 0.7990431 (205)\ttotal: 58.6s\tremaining: 37.2s\n",
            "612:\tlearn: 0.9259259\ttest: 0.7799043\tbest: 0.7990431 (205)\ttotal: 58.7s\tremaining: 37.1s\n",
            "613:\tlearn: 0.9259259\ttest: 0.7799043\tbest: 0.7990431 (205)\ttotal: 58.8s\tremaining: 37s\n",
            "614:\tlearn: 0.9259259\ttest: 0.7799043\tbest: 0.7990431 (205)\ttotal: 58.9s\tremaining: 36.9s\n",
            "615:\tlearn: 0.9270483\ttest: 0.7799043\tbest: 0.7990431 (205)\ttotal: 59s\tremaining: 36.8s\n",
            "616:\tlearn: 0.9281706\ttest: 0.7799043\tbest: 0.7990431 (205)\ttotal: 59s\tremaining: 36.6s\n",
            "617:\tlearn: 0.9281706\ttest: 0.7799043\tbest: 0.7990431 (205)\ttotal: 59.1s\tremaining: 36.5s\n",
            "618:\tlearn: 0.9281706\ttest: 0.7799043\tbest: 0.7990431 (205)\ttotal: 59.2s\tremaining: 36.4s\n",
            "619:\tlearn: 0.9281706\ttest: 0.7799043\tbest: 0.7990431 (205)\ttotal: 59.3s\tremaining: 36.3s\n",
            "620:\tlearn: 0.9281706\ttest: 0.7799043\tbest: 0.7990431 (205)\ttotal: 59.4s\tremaining: 36.2s\n",
            "621:\tlearn: 0.9281706\ttest: 0.7799043\tbest: 0.7990431 (205)\ttotal: 59.4s\tremaining: 36.1s\n",
            "622:\tlearn: 0.9281706\ttest: 0.7799043\tbest: 0.7990431 (205)\ttotal: 59.5s\tremaining: 36s\n",
            "623:\tlearn: 0.9281706\ttest: 0.7799043\tbest: 0.7990431 (205)\ttotal: 59.6s\tremaining: 35.9s\n",
            "624:\tlearn: 0.9281706\ttest: 0.7799043\tbest: 0.7990431 (205)\ttotal: 59.7s\tremaining: 35.8s\n",
            "625:\tlearn: 0.9281706\ttest: 0.7799043\tbest: 0.7990431 (205)\ttotal: 59.8s\tremaining: 35.7s\n",
            "626:\tlearn: 0.9281706\ttest: 0.7799043\tbest: 0.7990431 (205)\ttotal: 59.8s\tremaining: 35.6s\n",
            "627:\tlearn: 0.9281706\ttest: 0.7799043\tbest: 0.7990431 (205)\ttotal: 1m\tremaining: 35.6s\n",
            "628:\tlearn: 0.9281706\ttest: 0.7799043\tbest: 0.7990431 (205)\ttotal: 1m\tremaining: 35.5s\n",
            "629:\tlearn: 0.9281706\ttest: 0.7799043\tbest: 0.7990431 (205)\ttotal: 1m\tremaining: 35.4s\n",
            "630:\tlearn: 0.9281706\ttest: 0.7799043\tbest: 0.7990431 (205)\ttotal: 1m\tremaining: 35.3s\n",
            "631:\tlearn: 0.9281706\ttest: 0.7799043\tbest: 0.7990431 (205)\ttotal: 1m\tremaining: 35.2s\n",
            "632:\tlearn: 0.9281706\ttest: 0.7799043\tbest: 0.7990431 (205)\ttotal: 1m\tremaining: 35.1s\n",
            "633:\tlearn: 0.9292929\ttest: 0.7799043\tbest: 0.7990431 (205)\ttotal: 1m\tremaining: 35s\n",
            "634:\tlearn: 0.9292929\ttest: 0.7799043\tbest: 0.7990431 (205)\ttotal: 1m\tremaining: 34.9s\n",
            "635:\tlearn: 0.9292929\ttest: 0.7799043\tbest: 0.7990431 (205)\ttotal: 1m\tremaining: 34.8s\n",
            "636:\tlearn: 0.9292929\ttest: 0.7799043\tbest: 0.7990431 (205)\ttotal: 1m\tremaining: 34.7s\n",
            "637:\tlearn: 0.9292929\ttest: 0.7799043\tbest: 0.7990431 (205)\ttotal: 1m 1s\tremaining: 34.6s\n",
            "638:\tlearn: 0.9315376\ttest: 0.7799043\tbest: 0.7990431 (205)\ttotal: 1m 1s\tremaining: 34.5s\n",
            "639:\tlearn: 0.9315376\ttest: 0.7799043\tbest: 0.7990431 (205)\ttotal: 1m 1s\tremaining: 34.4s\n",
            "640:\tlearn: 0.9315376\ttest: 0.7799043\tbest: 0.7990431 (205)\ttotal: 1m 1s\tremaining: 34.3s\n",
            "641:\tlearn: 0.9315376\ttest: 0.7799043\tbest: 0.7990431 (205)\ttotal: 1m 1s\tremaining: 34.2s\n",
            "642:\tlearn: 0.9315376\ttest: 0.7799043\tbest: 0.7990431 (205)\ttotal: 1m 1s\tremaining: 34.1s\n",
            "643:\tlearn: 0.9326599\ttest: 0.7799043\tbest: 0.7990431 (205)\ttotal: 1m 1s\tremaining: 34s\n",
            "644:\tlearn: 0.9326599\ttest: 0.7799043\tbest: 0.7990431 (205)\ttotal: 1m 1s\tremaining: 33.9s\n",
            "645:\tlearn: 0.9326599\ttest: 0.7799043\tbest: 0.7990431 (205)\ttotal: 1m 1s\tremaining: 33.8s\n",
            "646:\tlearn: 0.9326599\ttest: 0.7799043\tbest: 0.7990431 (205)\ttotal: 1m 1s\tremaining: 33.7s\n",
            "647:\tlearn: 0.9326599\ttest: 0.7799043\tbest: 0.7990431 (205)\ttotal: 1m 1s\tremaining: 33.6s\n",
            "648:\tlearn: 0.9326599\ttest: 0.7799043\tbest: 0.7990431 (205)\ttotal: 1m 1s\tremaining: 33.5s\n",
            "649:\tlearn: 0.9337823\ttest: 0.7799043\tbest: 0.7990431 (205)\ttotal: 1m 2s\tremaining: 33.4s\n",
            "650:\tlearn: 0.9337823\ttest: 0.7799043\tbest: 0.7990431 (205)\ttotal: 1m 2s\tremaining: 33.3s\n",
            "651:\tlearn: 0.9337823\ttest: 0.7799043\tbest: 0.7990431 (205)\ttotal: 1m 2s\tremaining: 33.2s\n",
            "652:\tlearn: 0.9337823\ttest: 0.7799043\tbest: 0.7990431 (205)\ttotal: 1m 2s\tremaining: 33.1s\n",
            "653:\tlearn: 0.9349046\ttest: 0.7799043\tbest: 0.7990431 (205)\ttotal: 1m 2s\tremaining: 33.1s\n",
            "654:\tlearn: 0.9349046\ttest: 0.7799043\tbest: 0.7990431 (205)\ttotal: 1m 2s\tremaining: 33.1s\n",
            "655:\tlearn: 0.9349046\ttest: 0.7799043\tbest: 0.7990431 (205)\ttotal: 1m 2s\tremaining: 33s\n",
            "656:\tlearn: 0.9360269\ttest: 0.7799043\tbest: 0.7990431 (205)\ttotal: 1m 2s\tremaining: 32.9s\n",
            "657:\tlearn: 0.9360269\ttest: 0.7799043\tbest: 0.7990431 (205)\ttotal: 1m 3s\tremaining: 32.8s\n",
            "658:\tlearn: 0.9360269\ttest: 0.7799043\tbest: 0.7990431 (205)\ttotal: 1m 3s\tremaining: 32.7s\n",
            "659:\tlearn: 0.9360269\ttest: 0.7799043\tbest: 0.7990431 (205)\ttotal: 1m 3s\tremaining: 32.6s\n",
            "660:\tlearn: 0.9360269\ttest: 0.7799043\tbest: 0.7990431 (205)\ttotal: 1m 3s\tremaining: 32.5s\n",
            "661:\tlearn: 0.9337823\ttest: 0.7799043\tbest: 0.7990431 (205)\ttotal: 1m 3s\tremaining: 32.3s\n",
            "662:\tlearn: 0.9349046\ttest: 0.7799043\tbest: 0.7990431 (205)\ttotal: 1m 3s\tremaining: 32.2s\n",
            "663:\tlearn: 0.9349046\ttest: 0.7799043\tbest: 0.7990431 (205)\ttotal: 1m 3s\tremaining: 32.1s\n",
            "664:\tlearn: 0.9349046\ttest: 0.7799043\tbest: 0.7990431 (205)\ttotal: 1m 3s\tremaining: 32s\n",
            "665:\tlearn: 0.9349046\ttest: 0.7799043\tbest: 0.7990431 (205)\ttotal: 1m 3s\tremaining: 31.9s\n",
            "666:\tlearn: 0.9337823\ttest: 0.7799043\tbest: 0.7990431 (205)\ttotal: 1m 3s\tremaining: 31.8s\n",
            "667:\tlearn: 0.9337823\ttest: 0.7799043\tbest: 0.7990431 (205)\ttotal: 1m 3s\tremaining: 31.7s\n",
            "668:\tlearn: 0.9326599\ttest: 0.7799043\tbest: 0.7990431 (205)\ttotal: 1m 3s\tremaining: 31.6s\n",
            "669:\tlearn: 0.9337823\ttest: 0.7799043\tbest: 0.7990431 (205)\ttotal: 1m 3s\tremaining: 31.5s\n",
            "670:\tlearn: 0.9349046\ttest: 0.7799043\tbest: 0.7990431 (205)\ttotal: 1m 4s\tremaining: 31.4s\n",
            "671:\tlearn: 0.9349046\ttest: 0.7799043\tbest: 0.7990431 (205)\ttotal: 1m 4s\tremaining: 31.3s\n",
            "672:\tlearn: 0.9349046\ttest: 0.7799043\tbest: 0.7990431 (205)\ttotal: 1m 4s\tremaining: 31.2s\n",
            "673:\tlearn: 0.9360269\ttest: 0.7799043\tbest: 0.7990431 (205)\ttotal: 1m 4s\tremaining: 31.1s\n",
            "674:\tlearn: 0.9360269\ttest: 0.7799043\tbest: 0.7990431 (205)\ttotal: 1m 4s\tremaining: 31s\n",
            "675:\tlearn: 0.9360269\ttest: 0.7799043\tbest: 0.7990431 (205)\ttotal: 1m 4s\tremaining: 30.9s\n",
            "676:\tlearn: 0.9360269\ttest: 0.7799043\tbest: 0.7990431 (205)\ttotal: 1m 4s\tremaining: 30.8s\n",
            "677:\tlearn: 0.9360269\ttest: 0.7799043\tbest: 0.7990431 (205)\ttotal: 1m 4s\tremaining: 30.7s\n",
            "678:\tlearn: 0.9371493\ttest: 0.7799043\tbest: 0.7990431 (205)\ttotal: 1m 4s\tremaining: 30.6s\n",
            "679:\tlearn: 0.9371493\ttest: 0.7799043\tbest: 0.7990431 (205)\ttotal: 1m 4s\tremaining: 30.5s\n",
            "680:\tlearn: 0.9371493\ttest: 0.7799043\tbest: 0.7990431 (205)\ttotal: 1m 4s\tremaining: 30.4s\n",
            "681:\tlearn: 0.9371493\ttest: 0.7799043\tbest: 0.7990431 (205)\ttotal: 1m 5s\tremaining: 30.3s\n",
            "682:\tlearn: 0.9360269\ttest: 0.7799043\tbest: 0.7990431 (205)\ttotal: 1m 5s\tremaining: 30.2s\n",
            "683:\tlearn: 0.9360269\ttest: 0.7799043\tbest: 0.7990431 (205)\ttotal: 1m 5s\tremaining: 30.1s\n",
            "684:\tlearn: 0.9360269\ttest: 0.7799043\tbest: 0.7990431 (205)\ttotal: 1m 5s\tremaining: 30.1s\n",
            "685:\tlearn: 0.9360269\ttest: 0.7799043\tbest: 0.7990431 (205)\ttotal: 1m 5s\tremaining: 29.9s\n",
            "686:\tlearn: 0.9371493\ttest: 0.7799043\tbest: 0.7990431 (205)\ttotal: 1m 5s\tremaining: 29.8s\n",
            "687:\tlearn: 0.9371493\ttest: 0.7799043\tbest: 0.7990431 (205)\ttotal: 1m 5s\tremaining: 29.7s\n",
            "688:\tlearn: 0.9371493\ttest: 0.7799043\tbest: 0.7990431 (205)\ttotal: 1m 5s\tremaining: 29.6s\n",
            "689:\tlearn: 0.9371493\ttest: 0.7799043\tbest: 0.7990431 (205)\ttotal: 1m 5s\tremaining: 29.5s\n",
            "690:\tlearn: 0.9371493\ttest: 0.7799043\tbest: 0.7990431 (205)\ttotal: 1m 5s\tremaining: 29.5s\n",
            "691:\tlearn: 0.9371493\ttest: 0.7799043\tbest: 0.7990431 (205)\ttotal: 1m 5s\tremaining: 29.4s\n",
            "692:\tlearn: 0.9371493\ttest: 0.7799043\tbest: 0.7990431 (205)\ttotal: 1m 6s\tremaining: 29.3s\n",
            "693:\tlearn: 0.9360269\ttest: 0.7775120\tbest: 0.7990431 (205)\ttotal: 1m 6s\tremaining: 29.2s\n",
            "694:\tlearn: 0.9360269\ttest: 0.7775120\tbest: 0.7990431 (205)\ttotal: 1m 6s\tremaining: 29.1s\n",
            "695:\tlearn: 0.9371493\ttest: 0.7775120\tbest: 0.7990431 (205)\ttotal: 1m 6s\tremaining: 29s\n",
            "696:\tlearn: 0.9371493\ttest: 0.7775120\tbest: 0.7990431 (205)\ttotal: 1m 6s\tremaining: 28.9s\n",
            "697:\tlearn: 0.9371493\ttest: 0.7775120\tbest: 0.7990431 (205)\ttotal: 1m 6s\tremaining: 28.8s\n",
            "698:\tlearn: 0.9371493\ttest: 0.7775120\tbest: 0.7990431 (205)\ttotal: 1m 6s\tremaining: 28.7s\n",
            "699:\tlearn: 0.9371493\ttest: 0.7775120\tbest: 0.7990431 (205)\ttotal: 1m 6s\tremaining: 28.6s\n",
            "700:\tlearn: 0.9360269\ttest: 0.7775120\tbest: 0.7990431 (205)\ttotal: 1m 6s\tremaining: 28.5s\n",
            "701:\tlearn: 0.9360269\ttest: 0.7775120\tbest: 0.7990431 (205)\ttotal: 1m 6s\tremaining: 28.4s\n",
            "702:\tlearn: 0.9360269\ttest: 0.7775120\tbest: 0.7990431 (205)\ttotal: 1m 6s\tremaining: 28.3s\n",
            "703:\tlearn: 0.9360269\ttest: 0.7775120\tbest: 0.7990431 (205)\ttotal: 1m 7s\tremaining: 28.2s\n",
            "704:\tlearn: 0.9360269\ttest: 0.7775120\tbest: 0.7990431 (205)\ttotal: 1m 7s\tremaining: 28.1s\n",
            "705:\tlearn: 0.9360269\ttest: 0.7775120\tbest: 0.7990431 (205)\ttotal: 1m 7s\tremaining: 28.1s\n",
            "706:\tlearn: 0.9360269\ttest: 0.7775120\tbest: 0.7990431 (205)\ttotal: 1m 7s\tremaining: 28s\n",
            "707:\tlearn: 0.9360269\ttest: 0.7775120\tbest: 0.7990431 (205)\ttotal: 1m 7s\tremaining: 27.9s\n",
            "708:\tlearn: 0.9360269\ttest: 0.7775120\tbest: 0.7990431 (205)\ttotal: 1m 7s\tremaining: 27.8s\n",
            "709:\tlearn: 0.9360269\ttest: 0.7775120\tbest: 0.7990431 (205)\ttotal: 1m 7s\tremaining: 27.7s\n",
            "710:\tlearn: 0.9360269\ttest: 0.7775120\tbest: 0.7990431 (205)\ttotal: 1m 7s\tremaining: 27.6s\n",
            "711:\tlearn: 0.9360269\ttest: 0.7775120\tbest: 0.7990431 (205)\ttotal: 1m 8s\tremaining: 27.5s\n",
            "712:\tlearn: 0.9371493\ttest: 0.7775120\tbest: 0.7990431 (205)\ttotal: 1m 8s\tremaining: 27.4s\n",
            "713:\tlearn: 0.9371493\ttest: 0.7775120\tbest: 0.7990431 (205)\ttotal: 1m 8s\tremaining: 27.3s\n",
            "714:\tlearn: 0.9371493\ttest: 0.7775120\tbest: 0.7990431 (205)\ttotal: 1m 8s\tremaining: 27.2s\n",
            "715:\tlearn: 0.9371493\ttest: 0.7775120\tbest: 0.7990431 (205)\ttotal: 1m 8s\tremaining: 27.1s\n",
            "716:\tlearn: 0.9371493\ttest: 0.7775120\tbest: 0.7990431 (205)\ttotal: 1m 8s\tremaining: 27s\n",
            "717:\tlearn: 0.9371493\ttest: 0.7775120\tbest: 0.7990431 (205)\ttotal: 1m 8s\tremaining: 26.9s\n",
            "718:\tlearn: 0.9382716\ttest: 0.7751196\tbest: 0.7990431 (205)\ttotal: 1m 8s\tremaining: 26.8s\n",
            "719:\tlearn: 0.9382716\ttest: 0.7751196\tbest: 0.7990431 (205)\ttotal: 1m 8s\tremaining: 26.7s\n",
            "720:\tlearn: 0.9382716\ttest: 0.7751196\tbest: 0.7990431 (205)\ttotal: 1m 8s\tremaining: 26.6s\n",
            "721:\tlearn: 0.9382716\ttest: 0.7775120\tbest: 0.7990431 (205)\ttotal: 1m 8s\tremaining: 26.5s\n",
            "722:\tlearn: 0.9382716\ttest: 0.7775120\tbest: 0.7990431 (205)\ttotal: 1m 8s\tremaining: 26.4s\n",
            "723:\tlearn: 0.9382716\ttest: 0.7775120\tbest: 0.7990431 (205)\ttotal: 1m 9s\tremaining: 26.3s\n",
            "724:\tlearn: 0.9382716\ttest: 0.7751196\tbest: 0.7990431 (205)\ttotal: 1m 9s\tremaining: 26.2s\n",
            "725:\tlearn: 0.9393939\ttest: 0.7751196\tbest: 0.7990431 (205)\ttotal: 1m 9s\tremaining: 26.1s\n",
            "726:\tlearn: 0.9393939\ttest: 0.7775120\tbest: 0.7990431 (205)\ttotal: 1m 9s\tremaining: 26s\n",
            "727:\tlearn: 0.9393939\ttest: 0.7775120\tbest: 0.7990431 (205)\ttotal: 1m 9s\tremaining: 25.9s\n",
            "728:\tlearn: 0.9393939\ttest: 0.7751196\tbest: 0.7990431 (205)\ttotal: 1m 9s\tremaining: 25.8s\n",
            "729:\tlearn: 0.9393939\ttest: 0.7751196\tbest: 0.7990431 (205)\ttotal: 1m 9s\tremaining: 25.7s\n",
            "730:\tlearn: 0.9393939\ttest: 0.7751196\tbest: 0.7990431 (205)\ttotal: 1m 9s\tremaining: 25.7s\n",
            "731:\tlearn: 0.9393939\ttest: 0.7751196\tbest: 0.7990431 (205)\ttotal: 1m 9s\tremaining: 25.6s\n",
            "732:\tlearn: 0.9393939\ttest: 0.7751196\tbest: 0.7990431 (205)\ttotal: 1m 10s\tremaining: 25.5s\n",
            "733:\tlearn: 0.9393939\ttest: 0.7751196\tbest: 0.7990431 (205)\ttotal: 1m 10s\tremaining: 25.4s\n",
            "734:\tlearn: 0.9393939\ttest: 0.7751196\tbest: 0.7990431 (205)\ttotal: 1m 10s\tremaining: 25.3s\n",
            "735:\tlearn: 0.9393939\ttest: 0.7775120\tbest: 0.7990431 (205)\ttotal: 1m 10s\tremaining: 25.2s\n",
            "736:\tlearn: 0.9393939\ttest: 0.7775120\tbest: 0.7990431 (205)\ttotal: 1m 10s\tremaining: 25.1s\n",
            "737:\tlearn: 0.9393939\ttest: 0.7775120\tbest: 0.7990431 (205)\ttotal: 1m 10s\tremaining: 25s\n",
            "738:\tlearn: 0.9393939\ttest: 0.7775120\tbest: 0.7990431 (205)\ttotal: 1m 10s\tremaining: 24.9s\n",
            "739:\tlearn: 0.9393939\ttest: 0.7799043\tbest: 0.7990431 (205)\ttotal: 1m 10s\tremaining: 24.8s\n",
            "740:\tlearn: 0.9393939\ttest: 0.7822967\tbest: 0.7990431 (205)\ttotal: 1m 10s\tremaining: 24.7s\n",
            "741:\tlearn: 0.9393939\ttest: 0.7822967\tbest: 0.7990431 (205)\ttotal: 1m 10s\tremaining: 24.6s\n",
            "742:\tlearn: 0.9393939\ttest: 0.7822967\tbest: 0.7990431 (205)\ttotal: 1m 10s\tremaining: 24.5s\n",
            "743:\tlearn: 0.9393939\ttest: 0.7822967\tbest: 0.7990431 (205)\ttotal: 1m 10s\tremaining: 24.4s\n",
            "744:\tlearn: 0.9393939\ttest: 0.7822967\tbest: 0.7990431 (205)\ttotal: 1m 11s\tremaining: 24.3s\n",
            "745:\tlearn: 0.9393939\ttest: 0.7822967\tbest: 0.7990431 (205)\ttotal: 1m 11s\tremaining: 24.2s\n",
            "746:\tlearn: 0.9393939\ttest: 0.7822967\tbest: 0.7990431 (205)\ttotal: 1m 11s\tremaining: 24.1s\n",
            "747:\tlearn: 0.9393939\ttest: 0.7822967\tbest: 0.7990431 (205)\ttotal: 1m 11s\tremaining: 24s\n",
            "748:\tlearn: 0.9393939\ttest: 0.7822967\tbest: 0.7990431 (205)\ttotal: 1m 11s\tremaining: 23.9s\n",
            "749:\tlearn: 0.9393939\ttest: 0.7799043\tbest: 0.7990431 (205)\ttotal: 1m 11s\tremaining: 23.8s\n",
            "750:\tlearn: 0.9393939\ttest: 0.7799043\tbest: 0.7990431 (205)\ttotal: 1m 11s\tremaining: 23.7s\n",
            "751:\tlearn: 0.9393939\ttest: 0.7799043\tbest: 0.7990431 (205)\ttotal: 1m 11s\tremaining: 23.6s\n",
            "752:\tlearn: 0.9393939\ttest: 0.7799043\tbest: 0.7990431 (205)\ttotal: 1m 11s\tremaining: 23.5s\n",
            "753:\tlearn: 0.9393939\ttest: 0.7799043\tbest: 0.7990431 (205)\ttotal: 1m 11s\tremaining: 23.4s\n",
            "754:\tlearn: 0.9393939\ttest: 0.7799043\tbest: 0.7990431 (205)\ttotal: 1m 11s\tremaining: 23.3s\n",
            "755:\tlearn: 0.9393939\ttest: 0.7822967\tbest: 0.7990431 (205)\ttotal: 1m 11s\tremaining: 23.2s\n",
            "756:\tlearn: 0.9393939\ttest: 0.7822967\tbest: 0.7990431 (205)\ttotal: 1m 11s\tremaining: 23.1s\n",
            "757:\tlearn: 0.9393939\ttest: 0.7822967\tbest: 0.7990431 (205)\ttotal: 1m 12s\tremaining: 23s\n",
            "758:\tlearn: 0.9393939\ttest: 0.7822967\tbest: 0.7990431 (205)\ttotal: 1m 12s\tremaining: 22.9s\n",
            "759:\tlearn: 0.9393939\ttest: 0.7822967\tbest: 0.7990431 (205)\ttotal: 1m 12s\tremaining: 22.9s\n",
            "760:\tlearn: 0.9393939\ttest: 0.7822967\tbest: 0.7990431 (205)\ttotal: 1m 12s\tremaining: 22.8s\n",
            "761:\tlearn: 0.9393939\ttest: 0.7822967\tbest: 0.7990431 (205)\ttotal: 1m 12s\tremaining: 22.7s\n",
            "762:\tlearn: 0.9393939\ttest: 0.7822967\tbest: 0.7990431 (205)\ttotal: 1m 12s\tremaining: 22.6s\n",
            "763:\tlearn: 0.9393939\ttest: 0.7822967\tbest: 0.7990431 (205)\ttotal: 1m 12s\tremaining: 22.5s\n",
            "764:\tlearn: 0.9393939\ttest: 0.7822967\tbest: 0.7990431 (205)\ttotal: 1m 12s\tremaining: 22.4s\n",
            "765:\tlearn: 0.9393939\ttest: 0.7822967\tbest: 0.7990431 (205)\ttotal: 1m 12s\tremaining: 22.3s\n",
            "766:\tlearn: 0.9393939\ttest: 0.7822967\tbest: 0.7990431 (205)\ttotal: 1m 12s\tremaining: 22.2s\n",
            "767:\tlearn: 0.9393939\ttest: 0.7822967\tbest: 0.7990431 (205)\ttotal: 1m 13s\tremaining: 22.1s\n",
            "768:\tlearn: 0.9393939\ttest: 0.7822967\tbest: 0.7990431 (205)\ttotal: 1m 13s\tremaining: 22s\n",
            "769:\tlearn: 0.9393939\ttest: 0.7799043\tbest: 0.7990431 (205)\ttotal: 1m 13s\tremaining: 21.9s\n",
            "770:\tlearn: 0.9393939\ttest: 0.7799043\tbest: 0.7990431 (205)\ttotal: 1m 13s\tremaining: 21.8s\n",
            "771:\tlearn: 0.9393939\ttest: 0.7799043\tbest: 0.7990431 (205)\ttotal: 1m 13s\tremaining: 21.7s\n",
            "772:\tlearn: 0.9393939\ttest: 0.7799043\tbest: 0.7990431 (205)\ttotal: 1m 13s\tremaining: 21.6s\n",
            "773:\tlearn: 0.9393939\ttest: 0.7799043\tbest: 0.7990431 (205)\ttotal: 1m 13s\tremaining: 21.5s\n",
            "774:\tlearn: 0.9393939\ttest: 0.7799043\tbest: 0.7990431 (205)\ttotal: 1m 13s\tremaining: 21.4s\n",
            "775:\tlearn: 0.9393939\ttest: 0.7799043\tbest: 0.7990431 (205)\ttotal: 1m 13s\tremaining: 21.3s\n",
            "776:\tlearn: 0.9393939\ttest: 0.7799043\tbest: 0.7990431 (205)\ttotal: 1m 13s\tremaining: 21.2s\n",
            "777:\tlearn: 0.9393939\ttest: 0.7799043\tbest: 0.7990431 (205)\ttotal: 1m 13s\tremaining: 21.1s\n",
            "778:\tlearn: 0.9393939\ttest: 0.7799043\tbest: 0.7990431 (205)\ttotal: 1m 13s\tremaining: 21s\n",
            "779:\tlearn: 0.9393939\ttest: 0.7799043\tbest: 0.7990431 (205)\ttotal: 1m 13s\tremaining: 20.9s\n",
            "780:\tlearn: 0.9393939\ttest: 0.7822967\tbest: 0.7990431 (205)\ttotal: 1m 14s\tremaining: 20.8s\n",
            "781:\tlearn: 0.9393939\ttest: 0.7775120\tbest: 0.7990431 (205)\ttotal: 1m 14s\tremaining: 20.7s\n",
            "782:\tlearn: 0.9393939\ttest: 0.7775120\tbest: 0.7990431 (205)\ttotal: 1m 14s\tremaining: 20.6s\n",
            "783:\tlearn: 0.9393939\ttest: 0.7775120\tbest: 0.7990431 (205)\ttotal: 1m 14s\tremaining: 20.5s\n",
            "784:\tlearn: 0.9393939\ttest: 0.7775120\tbest: 0.7990431 (205)\ttotal: 1m 14s\tremaining: 20.4s\n",
            "785:\tlearn: 0.9393939\ttest: 0.7775120\tbest: 0.7990431 (205)\ttotal: 1m 14s\tremaining: 20.3s\n",
            "786:\tlearn: 0.9405163\ttest: 0.7775120\tbest: 0.7990431 (205)\ttotal: 1m 14s\tremaining: 20.2s\n",
            "787:\tlearn: 0.9405163\ttest: 0.7775120\tbest: 0.7990431 (205)\ttotal: 1m 14s\tremaining: 20.1s\n",
            "788:\tlearn: 0.9393939\ttest: 0.7775120\tbest: 0.7990431 (205)\ttotal: 1m 14s\tremaining: 20s\n",
            "789:\tlearn: 0.9393939\ttest: 0.7775120\tbest: 0.7990431 (205)\ttotal: 1m 15s\tremaining: 19.9s\n",
            "790:\tlearn: 0.9405163\ttest: 0.7775120\tbest: 0.7990431 (205)\ttotal: 1m 15s\tremaining: 19.8s\n",
            "791:\tlearn: 0.9405163\ttest: 0.7775120\tbest: 0.7990431 (205)\ttotal: 1m 15s\tremaining: 19.7s\n",
            "792:\tlearn: 0.9405163\ttest: 0.7775120\tbest: 0.7990431 (205)\ttotal: 1m 15s\tremaining: 19.6s\n",
            "793:\tlearn: 0.9405163\ttest: 0.7775120\tbest: 0.7990431 (205)\ttotal: 1m 15s\tremaining: 19.5s\n",
            "794:\tlearn: 0.9405163\ttest: 0.7775120\tbest: 0.7990431 (205)\ttotal: 1m 15s\tremaining: 19.4s\n",
            "795:\tlearn: 0.9405163\ttest: 0.7775120\tbest: 0.7990431 (205)\ttotal: 1m 15s\tremaining: 19.3s\n",
            "796:\tlearn: 0.9405163\ttest: 0.7775120\tbest: 0.7990431 (205)\ttotal: 1m 15s\tremaining: 19.2s\n",
            "797:\tlearn: 0.9405163\ttest: 0.7775120\tbest: 0.7990431 (205)\ttotal: 1m 15s\tremaining: 19.1s\n",
            "798:\tlearn: 0.9405163\ttest: 0.7775120\tbest: 0.7990431 (205)\ttotal: 1m 15s\tremaining: 19s\n",
            "799:\tlearn: 0.9405163\ttest: 0.7775120\tbest: 0.7990431 (205)\ttotal: 1m 15s\tremaining: 18.9s\n",
            "800:\tlearn: 0.9405163\ttest: 0.7775120\tbest: 0.7990431 (205)\ttotal: 1m 15s\tremaining: 18.8s\n",
            "801:\tlearn: 0.9405163\ttest: 0.7775120\tbest: 0.7990431 (205)\ttotal: 1m 15s\tremaining: 18.7s\n",
            "802:\tlearn: 0.9393939\ttest: 0.7775120\tbest: 0.7990431 (205)\ttotal: 1m 15s\tremaining: 18.6s\n",
            "803:\tlearn: 0.9405163\ttest: 0.7775120\tbest: 0.7990431 (205)\ttotal: 1m 16s\tremaining: 18.5s\n",
            "804:\tlearn: 0.9405163\ttest: 0.7775120\tbest: 0.7990431 (205)\ttotal: 1m 16s\tremaining: 18.4s\n",
            "805:\tlearn: 0.9405163\ttest: 0.7799043\tbest: 0.7990431 (205)\ttotal: 1m 16s\tremaining: 18.3s\n",
            "806:\tlearn: 0.9405163\ttest: 0.7799043\tbest: 0.7990431 (205)\ttotal: 1m 16s\tremaining: 18.2s\n",
            "807:\tlearn: 0.9405163\ttest: 0.7799043\tbest: 0.7990431 (205)\ttotal: 1m 16s\tremaining: 18.1s\n",
            "808:\tlearn: 0.9405163\ttest: 0.7799043\tbest: 0.7990431 (205)\ttotal: 1m 16s\tremaining: 18s\n",
            "809:\tlearn: 0.9405163\ttest: 0.7799043\tbest: 0.7990431 (205)\ttotal: 1m 16s\tremaining: 17.9s\n",
            "810:\tlearn: 0.9405163\ttest: 0.7775120\tbest: 0.7990431 (205)\ttotal: 1m 16s\tremaining: 17.8s\n",
            "811:\tlearn: 0.9405163\ttest: 0.7775120\tbest: 0.7990431 (205)\ttotal: 1m 16s\tremaining: 17.8s\n",
            "812:\tlearn: 0.9405163\ttest: 0.7799043\tbest: 0.7990431 (205)\ttotal: 1m 16s\tremaining: 17.7s\n",
            "813:\tlearn: 0.9405163\ttest: 0.7799043\tbest: 0.7990431 (205)\ttotal: 1m 16s\tremaining: 17.6s\n",
            "814:\tlearn: 0.9405163\ttest: 0.7799043\tbest: 0.7990431 (205)\ttotal: 1m 17s\tremaining: 17.5s\n",
            "815:\tlearn: 0.9405163\ttest: 0.7799043\tbest: 0.7990431 (205)\ttotal: 1m 17s\tremaining: 17.4s\n",
            "816:\tlearn: 0.9405163\ttest: 0.7775120\tbest: 0.7990431 (205)\ttotal: 1m 17s\tremaining: 17.3s\n",
            "817:\tlearn: 0.9405163\ttest: 0.7775120\tbest: 0.7990431 (205)\ttotal: 1m 17s\tremaining: 17.2s\n",
            "818:\tlearn: 0.9405163\ttest: 0.7775120\tbest: 0.7990431 (205)\ttotal: 1m 17s\tremaining: 17.1s\n",
            "819:\tlearn: 0.9405163\ttest: 0.7775120\tbest: 0.7990431 (205)\ttotal: 1m 17s\tremaining: 17s\n",
            "820:\tlearn: 0.9416386\ttest: 0.7775120\tbest: 0.7990431 (205)\ttotal: 1m 17s\tremaining: 16.9s\n",
            "821:\tlearn: 0.9416386\ttest: 0.7775120\tbest: 0.7990431 (205)\ttotal: 1m 17s\tremaining: 16.8s\n",
            "822:\tlearn: 0.9416386\ttest: 0.7775120\tbest: 0.7990431 (205)\ttotal: 1m 17s\tremaining: 16.7s\n",
            "823:\tlearn: 0.9416386\ttest: 0.7775120\tbest: 0.7990431 (205)\ttotal: 1m 17s\tremaining: 16.6s\n",
            "824:\tlearn: 0.9416386\ttest: 0.7775120\tbest: 0.7990431 (205)\ttotal: 1m 17s\tremaining: 16.5s\n",
            "825:\tlearn: 0.9416386\ttest: 0.7799043\tbest: 0.7990431 (205)\ttotal: 1m 18s\tremaining: 16.4s\n",
            "826:\tlearn: 0.9405163\ttest: 0.7799043\tbest: 0.7990431 (205)\ttotal: 1m 18s\tremaining: 16.3s\n",
            "827:\tlearn: 0.9405163\ttest: 0.7799043\tbest: 0.7990431 (205)\ttotal: 1m 18s\tremaining: 16.2s\n",
            "828:\tlearn: 0.9405163\ttest: 0.7799043\tbest: 0.7990431 (205)\ttotal: 1m 18s\tremaining: 16.1s\n",
            "829:\tlearn: 0.9416386\ttest: 0.7775120\tbest: 0.7990431 (205)\ttotal: 1m 18s\tremaining: 16s\n",
            "830:\tlearn: 0.9416386\ttest: 0.7775120\tbest: 0.7990431 (205)\ttotal: 1m 18s\tremaining: 15.9s\n",
            "831:\tlearn: 0.9427609\ttest: 0.7751196\tbest: 0.7990431 (205)\ttotal: 1m 18s\tremaining: 15.8s\n",
            "832:\tlearn: 0.9427609\ttest: 0.7751196\tbest: 0.7990431 (205)\ttotal: 1m 18s\tremaining: 15.8s\n",
            "833:\tlearn: 0.9416386\ttest: 0.7751196\tbest: 0.7990431 (205)\ttotal: 1m 18s\tremaining: 15.7s\n",
            "834:\tlearn: 0.9416386\ttest: 0.7775120\tbest: 0.7990431 (205)\ttotal: 1m 18s\tremaining: 15.6s\n",
            "835:\tlearn: 0.9416386\ttest: 0.7775120\tbest: 0.7990431 (205)\ttotal: 1m 18s\tremaining: 15.5s\n",
            "836:\tlearn: 0.9416386\ttest: 0.7775120\tbest: 0.7990431 (205)\ttotal: 1m 18s\tremaining: 15.4s\n",
            "837:\tlearn: 0.9416386\ttest: 0.7775120\tbest: 0.7990431 (205)\ttotal: 1m 18s\tremaining: 15.3s\n",
            "838:\tlearn: 0.9416386\ttest: 0.7775120\tbest: 0.7990431 (205)\ttotal: 1m 19s\tremaining: 15.2s\n",
            "839:\tlearn: 0.9416386\ttest: 0.7775120\tbest: 0.7990431 (205)\ttotal: 1m 19s\tremaining: 15.1s\n",
            "840:\tlearn: 0.9416386\ttest: 0.7775120\tbest: 0.7990431 (205)\ttotal: 1m 19s\tremaining: 15s\n",
            "841:\tlearn: 0.9427609\ttest: 0.7775120\tbest: 0.7990431 (205)\ttotal: 1m 19s\tremaining: 14.9s\n",
            "842:\tlearn: 0.9427609\ttest: 0.7775120\tbest: 0.7990431 (205)\ttotal: 1m 19s\tremaining: 14.8s\n",
            "843:\tlearn: 0.9427609\ttest: 0.7775120\tbest: 0.7990431 (205)\ttotal: 1m 19s\tremaining: 14.7s\n",
            "844:\tlearn: 0.9427609\ttest: 0.7775120\tbest: 0.7990431 (205)\ttotal: 1m 19s\tremaining: 14.6s\n",
            "845:\tlearn: 0.9427609\ttest: 0.7775120\tbest: 0.7990431 (205)\ttotal: 1m 19s\tremaining: 14.5s\n",
            "846:\tlearn: 0.9416386\ttest: 0.7775120\tbest: 0.7990431 (205)\ttotal: 1m 19s\tremaining: 14.4s\n",
            "847:\tlearn: 0.9427609\ttest: 0.7775120\tbest: 0.7990431 (205)\ttotal: 1m 20s\tremaining: 14.3s\n",
            "848:\tlearn: 0.9427609\ttest: 0.7775120\tbest: 0.7990431 (205)\ttotal: 1m 20s\tremaining: 14.2s\n",
            "849:\tlearn: 0.9427609\ttest: 0.7775120\tbest: 0.7990431 (205)\ttotal: 1m 20s\tremaining: 14.1s\n",
            "850:\tlearn: 0.9427609\ttest: 0.7775120\tbest: 0.7990431 (205)\ttotal: 1m 20s\tremaining: 14.1s\n",
            "851:\tlearn: 0.9427609\ttest: 0.7775120\tbest: 0.7990431 (205)\ttotal: 1m 20s\tremaining: 14s\n",
            "852:\tlearn: 0.9438833\ttest: 0.7775120\tbest: 0.7990431 (205)\ttotal: 1m 20s\tremaining: 13.9s\n",
            "853:\tlearn: 0.9438833\ttest: 0.7775120\tbest: 0.7990431 (205)\ttotal: 1m 20s\tremaining: 13.8s\n",
            "854:\tlearn: 0.9438833\ttest: 0.7775120\tbest: 0.7990431 (205)\ttotal: 1m 20s\tremaining: 13.7s\n",
            "855:\tlearn: 0.9438833\ttest: 0.7775120\tbest: 0.7990431 (205)\ttotal: 1m 20s\tremaining: 13.6s\n",
            "856:\tlearn: 0.9438833\ttest: 0.7775120\tbest: 0.7990431 (205)\ttotal: 1m 20s\tremaining: 13.5s\n",
            "857:\tlearn: 0.9438833\ttest: 0.7775120\tbest: 0.7990431 (205)\ttotal: 1m 20s\tremaining: 13.4s\n",
            "858:\tlearn: 0.9438833\ttest: 0.7775120\tbest: 0.7990431 (205)\ttotal: 1m 20s\tremaining: 13.3s\n",
            "859:\tlearn: 0.9438833\ttest: 0.7775120\tbest: 0.7990431 (205)\ttotal: 1m 20s\tremaining: 13.2s\n",
            "860:\tlearn: 0.9438833\ttest: 0.7775120\tbest: 0.7990431 (205)\ttotal: 1m 21s\tremaining: 13.1s\n",
            "861:\tlearn: 0.9450056\ttest: 0.7775120\tbest: 0.7990431 (205)\ttotal: 1m 21s\tremaining: 13s\n",
            "862:\tlearn: 0.9450056\ttest: 0.7751196\tbest: 0.7990431 (205)\ttotal: 1m 21s\tremaining: 12.9s\n",
            "863:\tlearn: 0.9450056\ttest: 0.7775120\tbest: 0.7990431 (205)\ttotal: 1m 21s\tremaining: 12.8s\n",
            "864:\tlearn: 0.9450056\ttest: 0.7775120\tbest: 0.7990431 (205)\ttotal: 1m 21s\tremaining: 12.7s\n",
            "865:\tlearn: 0.9450056\ttest: 0.7751196\tbest: 0.7990431 (205)\ttotal: 1m 21s\tremaining: 12.6s\n",
            "866:\tlearn: 0.9450056\ttest: 0.7751196\tbest: 0.7990431 (205)\ttotal: 1m 21s\tremaining: 12.5s\n",
            "867:\tlearn: 0.9450056\ttest: 0.7775120\tbest: 0.7990431 (205)\ttotal: 1m 21s\tremaining: 12.4s\n",
            "868:\tlearn: 0.9450056\ttest: 0.7751196\tbest: 0.7990431 (205)\ttotal: 1m 21s\tremaining: 12.3s\n",
            "869:\tlearn: 0.9450056\ttest: 0.7751196\tbest: 0.7990431 (205)\ttotal: 1m 21s\tremaining: 12.2s\n",
            "870:\tlearn: 0.9450056\ttest: 0.7751196\tbest: 0.7990431 (205)\ttotal: 1m 22s\tremaining: 12.2s\n",
            "871:\tlearn: 0.9450056\ttest: 0.7775120\tbest: 0.7990431 (205)\ttotal: 1m 22s\tremaining: 12.1s\n",
            "872:\tlearn: 0.9450056\ttest: 0.7775120\tbest: 0.7990431 (205)\ttotal: 1m 22s\tremaining: 12s\n",
            "873:\tlearn: 0.9450056\ttest: 0.7775120\tbest: 0.7990431 (205)\ttotal: 1m 22s\tremaining: 11.9s\n",
            "874:\tlearn: 0.9450056\ttest: 0.7775120\tbest: 0.7990431 (205)\ttotal: 1m 22s\tremaining: 11.8s\n",
            "875:\tlearn: 0.9450056\ttest: 0.7775120\tbest: 0.7990431 (205)\ttotal: 1m 22s\tremaining: 11.7s\n",
            "876:\tlearn: 0.9450056\ttest: 0.7775120\tbest: 0.7990431 (205)\ttotal: 1m 22s\tremaining: 11.6s\n",
            "877:\tlearn: 0.9450056\ttest: 0.7775120\tbest: 0.7990431 (205)\ttotal: 1m 22s\tremaining: 11.5s\n",
            "878:\tlearn: 0.9450056\ttest: 0.7775120\tbest: 0.7990431 (205)\ttotal: 1m 22s\tremaining: 11.4s\n",
            "879:\tlearn: 0.9450056\ttest: 0.7775120\tbest: 0.7990431 (205)\ttotal: 1m 22s\tremaining: 11.3s\n",
            "880:\tlearn: 0.9450056\ttest: 0.7775120\tbest: 0.7990431 (205)\ttotal: 1m 22s\tremaining: 11.2s\n",
            "881:\tlearn: 0.9450056\ttest: 0.7775120\tbest: 0.7990431 (205)\ttotal: 1m 22s\tremaining: 11.1s\n",
            "882:\tlearn: 0.9450056\ttest: 0.7775120\tbest: 0.7990431 (205)\ttotal: 1m 22s\tremaining: 11s\n",
            "883:\tlearn: 0.9450056\ttest: 0.7775120\tbest: 0.7990431 (205)\ttotal: 1m 23s\tremaining: 10.9s\n",
            "884:\tlearn: 0.9450056\ttest: 0.7775120\tbest: 0.7990431 (205)\ttotal: 1m 23s\tremaining: 10.8s\n",
            "885:\tlearn: 0.9450056\ttest: 0.7775120\tbest: 0.7990431 (205)\ttotal: 1m 23s\tremaining: 10.7s\n",
            "886:\tlearn: 0.9450056\ttest: 0.7775120\tbest: 0.7990431 (205)\ttotal: 1m 23s\tremaining: 10.6s\n",
            "887:\tlearn: 0.9450056\ttest: 0.7775120\tbest: 0.7990431 (205)\ttotal: 1m 23s\tremaining: 10.5s\n",
            "888:\tlearn: 0.9450056\ttest: 0.7775120\tbest: 0.7990431 (205)\ttotal: 1m 23s\tremaining: 10.4s\n",
            "889:\tlearn: 0.9450056\ttest: 0.7775120\tbest: 0.7990431 (205)\ttotal: 1m 23s\tremaining: 10.3s\n",
            "890:\tlearn: 0.9450056\ttest: 0.7775120\tbest: 0.7990431 (205)\ttotal: 1m 23s\tremaining: 10.2s\n",
            "891:\tlearn: 0.9450056\ttest: 0.7775120\tbest: 0.7990431 (205)\ttotal: 1m 23s\tremaining: 10.1s\n",
            "892:\tlearn: 0.9450056\ttest: 0.7775120\tbest: 0.7990431 (205)\ttotal: 1m 23s\tremaining: 10s\n",
            "893:\tlearn: 0.9450056\ttest: 0.7775120\tbest: 0.7990431 (205)\ttotal: 1m 23s\tremaining: 9.94s\n",
            "894:\tlearn: 0.9450056\ttest: 0.7775120\tbest: 0.7990431 (205)\ttotal: 1m 23s\tremaining: 9.84s\n",
            "895:\tlearn: 0.9450056\ttest: 0.7775120\tbest: 0.7990431 (205)\ttotal: 1m 24s\tremaining: 9.75s\n",
            "896:\tlearn: 0.9450056\ttest: 0.7775120\tbest: 0.7990431 (205)\ttotal: 1m 24s\tremaining: 9.67s\n",
            "897:\tlearn: 0.9450056\ttest: 0.7775120\tbest: 0.7990431 (205)\ttotal: 1m 24s\tremaining: 9.58s\n",
            "898:\tlearn: 0.9450056\ttest: 0.7775120\tbest: 0.7990431 (205)\ttotal: 1m 24s\tremaining: 9.49s\n",
            "899:\tlearn: 0.9461279\ttest: 0.7775120\tbest: 0.7990431 (205)\ttotal: 1m 24s\tremaining: 9.39s\n",
            "900:\tlearn: 0.9461279\ttest: 0.7775120\tbest: 0.7990431 (205)\ttotal: 1m 24s\tremaining: 9.3s\n",
            "901:\tlearn: 0.9461279\ttest: 0.7775120\tbest: 0.7990431 (205)\ttotal: 1m 24s\tremaining: 9.21s\n",
            "902:\tlearn: 0.9461279\ttest: 0.7775120\tbest: 0.7990431 (205)\ttotal: 1m 24s\tremaining: 9.11s\n",
            "903:\tlearn: 0.9461279\ttest: 0.7775120\tbest: 0.7990431 (205)\ttotal: 1m 24s\tremaining: 9.01s\n",
            "904:\tlearn: 0.9461279\ttest: 0.7775120\tbest: 0.7990431 (205)\ttotal: 1m 24s\tremaining: 8.92s\n",
            "905:\tlearn: 0.9461279\ttest: 0.7775120\tbest: 0.7990431 (205)\ttotal: 1m 25s\tremaining: 8.82s\n",
            "906:\tlearn: 0.9461279\ttest: 0.7775120\tbest: 0.7990431 (205)\ttotal: 1m 25s\tremaining: 8.73s\n",
            "907:\tlearn: 0.9450056\ttest: 0.7775120\tbest: 0.7990431 (205)\ttotal: 1m 25s\tremaining: 8.63s\n",
            "908:\tlearn: 0.9450056\ttest: 0.7775120\tbest: 0.7990431 (205)\ttotal: 1m 25s\tremaining: 8.54s\n",
            "909:\tlearn: 0.9450056\ttest: 0.7775120\tbest: 0.7990431 (205)\ttotal: 1m 25s\tremaining: 8.44s\n",
            "910:\tlearn: 0.9450056\ttest: 0.7775120\tbest: 0.7990431 (205)\ttotal: 1m 25s\tremaining: 8.34s\n",
            "911:\tlearn: 0.9450056\ttest: 0.7775120\tbest: 0.7990431 (205)\ttotal: 1m 25s\tremaining: 8.25s\n",
            "912:\tlearn: 0.9461279\ttest: 0.7775120\tbest: 0.7990431 (205)\ttotal: 1m 25s\tremaining: 8.15s\n",
            "913:\tlearn: 0.9461279\ttest: 0.7775120\tbest: 0.7990431 (205)\ttotal: 1m 25s\tremaining: 8.06s\n",
            "914:\tlearn: 0.9461279\ttest: 0.7775120\tbest: 0.7990431 (205)\ttotal: 1m 25s\tremaining: 7.96s\n",
            "915:\tlearn: 0.9461279\ttest: 0.7775120\tbest: 0.7990431 (205)\ttotal: 1m 25s\tremaining: 7.87s\n",
            "916:\tlearn: 0.9461279\ttest: 0.7775120\tbest: 0.7990431 (205)\ttotal: 1m 25s\tremaining: 7.77s\n",
            "917:\tlearn: 0.9450056\ttest: 0.7775120\tbest: 0.7990431 (205)\ttotal: 1m 25s\tremaining: 7.67s\n",
            "918:\tlearn: 0.9450056\ttest: 0.7775120\tbest: 0.7990431 (205)\ttotal: 1m 25s\tremaining: 7.58s\n",
            "919:\tlearn: 0.9450056\ttest: 0.7775120\tbest: 0.7990431 (205)\ttotal: 1m 26s\tremaining: 7.48s\n",
            "920:\tlearn: 0.9450056\ttest: 0.7775120\tbest: 0.7990431 (205)\ttotal: 1m 26s\tremaining: 7.39s\n",
            "921:\tlearn: 0.9450056\ttest: 0.7775120\tbest: 0.7990431 (205)\ttotal: 1m 26s\tremaining: 7.3s\n",
            "922:\tlearn: 0.9450056\ttest: 0.7775120\tbest: 0.7990431 (205)\ttotal: 1m 26s\tremaining: 7.2s\n",
            "923:\tlearn: 0.9450056\ttest: 0.7775120\tbest: 0.7990431 (205)\ttotal: 1m 26s\tremaining: 7.11s\n",
            "924:\tlearn: 0.9450056\ttest: 0.7775120\tbest: 0.7990431 (205)\ttotal: 1m 26s\tremaining: 7.03s\n",
            "925:\tlearn: 0.9450056\ttest: 0.7775120\tbest: 0.7990431 (205)\ttotal: 1m 26s\tremaining: 6.94s\n",
            "926:\tlearn: 0.9450056\ttest: 0.7775120\tbest: 0.7990431 (205)\ttotal: 1m 26s\tremaining: 6.84s\n",
            "927:\tlearn: 0.9450056\ttest: 0.7775120\tbest: 0.7990431 (205)\ttotal: 1m 26s\tremaining: 6.75s\n",
            "928:\tlearn: 0.9450056\ttest: 0.7775120\tbest: 0.7990431 (205)\ttotal: 1m 27s\tremaining: 6.65s\n",
            "929:\tlearn: 0.9461279\ttest: 0.7751196\tbest: 0.7990431 (205)\ttotal: 1m 27s\tremaining: 6.56s\n",
            "930:\tlearn: 0.9450056\ttest: 0.7775120\tbest: 0.7990431 (205)\ttotal: 1m 27s\tremaining: 6.46s\n",
            "931:\tlearn: 0.9450056\ttest: 0.7775120\tbest: 0.7990431 (205)\ttotal: 1m 27s\tremaining: 6.37s\n",
            "932:\tlearn: 0.9450056\ttest: 0.7775120\tbest: 0.7990431 (205)\ttotal: 1m 27s\tremaining: 6.27s\n",
            "933:\tlearn: 0.9450056\ttest: 0.7775120\tbest: 0.7990431 (205)\ttotal: 1m 27s\tremaining: 6.18s\n",
            "934:\tlearn: 0.9450056\ttest: 0.7775120\tbest: 0.7990431 (205)\ttotal: 1m 27s\tremaining: 6.09s\n",
            "935:\tlearn: 0.9450056\ttest: 0.7775120\tbest: 0.7990431 (205)\ttotal: 1m 27s\tremaining: 5.99s\n",
            "936:\tlearn: 0.9461279\ttest: 0.7775120\tbest: 0.7990431 (205)\ttotal: 1m 27s\tremaining: 5.9s\n",
            "937:\tlearn: 0.9461279\ttest: 0.7775120\tbest: 0.7990431 (205)\ttotal: 1m 27s\tremaining: 5.8s\n",
            "938:\tlearn: 0.9472503\ttest: 0.7727273\tbest: 0.7990431 (205)\ttotal: 1m 27s\tremaining: 5.71s\n",
            "939:\tlearn: 0.9472503\ttest: 0.7727273\tbest: 0.7990431 (205)\ttotal: 1m 27s\tremaining: 5.61s\n",
            "940:\tlearn: 0.9472503\ttest: 0.7727273\tbest: 0.7990431 (205)\ttotal: 1m 28s\tremaining: 5.52s\n",
            "941:\tlearn: 0.9472503\ttest: 0.7727273\tbest: 0.7990431 (205)\ttotal: 1m 28s\tremaining: 5.42s\n",
            "942:\tlearn: 0.9472503\ttest: 0.7727273\tbest: 0.7990431 (205)\ttotal: 1m 28s\tremaining: 5.33s\n",
            "943:\tlearn: 0.9472503\ttest: 0.7727273\tbest: 0.7990431 (205)\ttotal: 1m 28s\tremaining: 5.23s\n",
            "944:\tlearn: 0.9461279\ttest: 0.7727273\tbest: 0.7990431 (205)\ttotal: 1m 28s\tremaining: 5.14s\n",
            "945:\tlearn: 0.9461279\ttest: 0.7727273\tbest: 0.7990431 (205)\ttotal: 1m 28s\tremaining: 5.04s\n",
            "946:\tlearn: 0.9461279\ttest: 0.7727273\tbest: 0.7990431 (205)\ttotal: 1m 28s\tremaining: 4.95s\n",
            "947:\tlearn: 0.9461279\ttest: 0.7727273\tbest: 0.7990431 (205)\ttotal: 1m 28s\tremaining: 4.86s\n",
            "948:\tlearn: 0.9461279\ttest: 0.7727273\tbest: 0.7990431 (205)\ttotal: 1m 28s\tremaining: 4.76s\n",
            "949:\tlearn: 0.9461279\ttest: 0.7727273\tbest: 0.7990431 (205)\ttotal: 1m 28s\tremaining: 4.67s\n",
            "950:\tlearn: 0.9461279\ttest: 0.7727273\tbest: 0.7990431 (205)\ttotal: 1m 28s\tremaining: 4.57s\n",
            "951:\tlearn: 0.9461279\ttest: 0.7727273\tbest: 0.7990431 (205)\ttotal: 1m 28s\tremaining: 4.49s\n",
            "952:\tlearn: 0.9472503\ttest: 0.7727273\tbest: 0.7990431 (205)\ttotal: 1m 29s\tremaining: 4.4s\n",
            "953:\tlearn: 0.9472503\ttest: 0.7727273\tbest: 0.7990431 (205)\ttotal: 1m 29s\tremaining: 4.3s\n",
            "954:\tlearn: 0.9461279\ttest: 0.7727273\tbest: 0.7990431 (205)\ttotal: 1m 29s\tremaining: 4.21s\n",
            "955:\tlearn: 0.9461279\ttest: 0.7727273\tbest: 0.7990431 (205)\ttotal: 1m 29s\tremaining: 4.11s\n",
            "956:\tlearn: 0.9461279\ttest: 0.7727273\tbest: 0.7990431 (205)\ttotal: 1m 29s\tremaining: 4.02s\n",
            "957:\tlearn: 0.9461279\ttest: 0.7727273\tbest: 0.7990431 (205)\ttotal: 1m 29s\tremaining: 3.92s\n",
            "958:\tlearn: 0.9483726\ttest: 0.7727273\tbest: 0.7990431 (205)\ttotal: 1m 29s\tremaining: 3.83s\n",
            "959:\tlearn: 0.9483726\ttest: 0.7727273\tbest: 0.7990431 (205)\ttotal: 1m 29s\tremaining: 3.74s\n",
            "960:\tlearn: 0.9494949\ttest: 0.7727273\tbest: 0.7990431 (205)\ttotal: 1m 29s\tremaining: 3.64s\n",
            "961:\tlearn: 0.9483726\ttest: 0.7727273\tbest: 0.7990431 (205)\ttotal: 1m 29s\tremaining: 3.55s\n",
            "962:\tlearn: 0.9483726\ttest: 0.7727273\tbest: 0.7990431 (205)\ttotal: 1m 29s\tremaining: 3.46s\n",
            "963:\tlearn: 0.9483726\ttest: 0.7727273\tbest: 0.7990431 (205)\ttotal: 1m 30s\tremaining: 3.36s\n",
            "964:\tlearn: 0.9494949\ttest: 0.7727273\tbest: 0.7990431 (205)\ttotal: 1m 30s\tremaining: 3.27s\n",
            "965:\tlearn: 0.9494949\ttest: 0.7727273\tbest: 0.7990431 (205)\ttotal: 1m 30s\tremaining: 3.17s\n",
            "966:\tlearn: 0.9494949\ttest: 0.7727273\tbest: 0.7990431 (205)\ttotal: 1m 30s\tremaining: 3.08s\n",
            "967:\tlearn: 0.9494949\ttest: 0.7727273\tbest: 0.7990431 (205)\ttotal: 1m 30s\tremaining: 2.98s\n",
            "968:\tlearn: 0.9483726\ttest: 0.7727273\tbest: 0.7990431 (205)\ttotal: 1m 30s\tremaining: 2.89s\n",
            "969:\tlearn: 0.9483726\ttest: 0.7727273\tbest: 0.7990431 (205)\ttotal: 1m 30s\tremaining: 2.8s\n",
            "970:\tlearn: 0.9483726\ttest: 0.7727273\tbest: 0.7990431 (205)\ttotal: 1m 30s\tremaining: 2.7s\n",
            "971:\tlearn: 0.9483726\ttest: 0.7727273\tbest: 0.7990431 (205)\ttotal: 1m 30s\tremaining: 2.61s\n",
            "972:\tlearn: 0.9483726\ttest: 0.7727273\tbest: 0.7990431 (205)\ttotal: 1m 30s\tremaining: 2.52s\n",
            "973:\tlearn: 0.9483726\ttest: 0.7727273\tbest: 0.7990431 (205)\ttotal: 1m 30s\tremaining: 2.42s\n",
            "974:\tlearn: 0.9494949\ttest: 0.7727273\tbest: 0.7990431 (205)\ttotal: 1m 30s\tremaining: 2.33s\n",
            "975:\tlearn: 0.9494949\ttest: 0.7703349\tbest: 0.7990431 (205)\ttotal: 1m 30s\tremaining: 2.23s\n",
            "976:\tlearn: 0.9494949\ttest: 0.7703349\tbest: 0.7990431 (205)\ttotal: 1m 30s\tremaining: 2.14s\n",
            "977:\tlearn: 0.9494949\ttest: 0.7703349\tbest: 0.7990431 (205)\ttotal: 1m 31s\tremaining: 2.05s\n",
            "978:\tlearn: 0.9494949\ttest: 0.7703349\tbest: 0.7990431 (205)\ttotal: 1m 31s\tremaining: 1.95s\n",
            "979:\tlearn: 0.9494949\ttest: 0.7703349\tbest: 0.7990431 (205)\ttotal: 1m 31s\tremaining: 1.86s\n",
            "980:\tlearn: 0.9494949\ttest: 0.7703349\tbest: 0.7990431 (205)\ttotal: 1m 31s\tremaining: 1.77s\n",
            "981:\tlearn: 0.9494949\ttest: 0.7703349\tbest: 0.7990431 (205)\ttotal: 1m 31s\tremaining: 1.68s\n",
            "982:\tlearn: 0.9506173\ttest: 0.7703349\tbest: 0.7990431 (205)\ttotal: 1m 31s\tremaining: 1.58s\n",
            "983:\tlearn: 0.9506173\ttest: 0.7703349\tbest: 0.7990431 (205)\ttotal: 1m 31s\tremaining: 1.49s\n",
            "984:\tlearn: 0.9506173\ttest: 0.7703349\tbest: 0.7990431 (205)\ttotal: 1m 31s\tremaining: 1.4s\n",
            "985:\tlearn: 0.9506173\ttest: 0.7703349\tbest: 0.7990431 (205)\ttotal: 1m 31s\tremaining: 1.3s\n",
            "986:\tlearn: 0.9506173\ttest: 0.7703349\tbest: 0.7990431 (205)\ttotal: 1m 32s\tremaining: 1.21s\n",
            "987:\tlearn: 0.9506173\ttest: 0.7703349\tbest: 0.7990431 (205)\ttotal: 1m 32s\tremaining: 1.12s\n",
            "988:\tlearn: 0.9506173\ttest: 0.7703349\tbest: 0.7990431 (205)\ttotal: 1m 32s\tremaining: 1.02s\n",
            "989:\tlearn: 0.9517396\ttest: 0.7703349\tbest: 0.7990431 (205)\ttotal: 1m 32s\tremaining: 932ms\n",
            "990:\tlearn: 0.9517396\ttest: 0.7703349\tbest: 0.7990431 (205)\ttotal: 1m 32s\tremaining: 838ms\n",
            "991:\tlearn: 0.9517396\ttest: 0.7703349\tbest: 0.7990431 (205)\ttotal: 1m 32s\tremaining: 745ms\n",
            "992:\tlearn: 0.9517396\ttest: 0.7703349\tbest: 0.7990431 (205)\ttotal: 1m 32s\tremaining: 652ms\n",
            "993:\tlearn: 0.9517396\ttest: 0.7703349\tbest: 0.7990431 (205)\ttotal: 1m 32s\tremaining: 559ms\n",
            "994:\tlearn: 0.9517396\ttest: 0.7703349\tbest: 0.7990431 (205)\ttotal: 1m 32s\tremaining: 465ms\n",
            "995:\tlearn: 0.9539843\ttest: 0.7703349\tbest: 0.7990431 (205)\ttotal: 1m 32s\tremaining: 372ms\n",
            "996:\tlearn: 0.9539843\ttest: 0.7703349\tbest: 0.7990431 (205)\ttotal: 1m 32s\tremaining: 279ms\n",
            "997:\tlearn: 0.9539843\ttest: 0.7679426\tbest: 0.7990431 (205)\ttotal: 1m 32s\tremaining: 186ms\n",
            "998:\tlearn: 0.9539843\ttest: 0.7679426\tbest: 0.7990431 (205)\ttotal: 1m 32s\tremaining: 93ms\n",
            "999:\tlearn: 0.9539843\ttest: 0.7679426\tbest: 0.7990431 (205)\ttotal: 1m 32s\tremaining: 0us\n",
            "\n",
            "bestTest = 0.7990430622\n",
            "bestIteration = 205\n",
            "\n",
            "Shrink model to first 206 iterations.\n"
          ]
        },
        {
          "data": {
            "text/html": [
              "<style type=\"text/css\">\n",
              "#T_56338_row4_col0, #T_56338_row4_col1, #T_56338_row5_col2, #T_56338_row5_col3 {\n",
              "  background-color: green;\n",
              "}\n",
              "</style>\n",
              "<table id=\"T_56338\">\n",
              "  <thead>\n",
              "    <tr>\n",
              "      <th class=\"blank level0\" >&nbsp;</th>\n",
              "      <th id=\"T_56338_level0_col0\" class=\"col_heading level0 col0\" >Model</th>\n",
              "      <th id=\"T_56338_level0_col1\" class=\"col_heading level0 col1\" >OVERALL ACCURACY FOR TRAIN DATASET</th>\n",
              "      <th id=\"T_56338_level0_col2\" class=\"col_heading level0 col2\" >ROC_AUC FOR X_TEST WITH DEFAULT PARAMS</th>\n",
              "      <th id=\"T_56338_level0_col3\" class=\"col_heading level0 col3\" >ACCURACY FOR X_TEST WITH DEFAULT PARAMS</th>\n",
              "    </tr>\n",
              "  </thead>\n",
              "  <tbody>\n",
              "    <tr>\n",
              "      <th id=\"T_56338_level0_row0\" class=\"row_heading level0 row0\" >0</th>\n",
              "      <td id=\"T_56338_row0_col0\" class=\"data row0 col0\" >DT</td>\n",
              "      <td id=\"T_56338_row0_col1\" class=\"data row0 col1\" >0.790123</td>\n",
              "      <td id=\"T_56338_row0_col2\" class=\"data row0 col2\" >0.710723</td>\n",
              "      <td id=\"T_56338_row0_col3\" class=\"data row0 col3\" >0.712919</td>\n",
              "    </tr>\n",
              "    <tr>\n",
              "      <th id=\"T_56338_level0_row1\" class=\"row_heading level0 row1\" >1</th>\n",
              "      <td id=\"T_56338_row1_col0\" class=\"data row1 col0\" >RF</td>\n",
              "      <td id=\"T_56338_row1_col1\" class=\"data row1 col1\" >0.808081</td>\n",
              "      <td id=\"T_56338_row1_col2\" class=\"data row1 col2\" >0.799769</td>\n",
              "      <td id=\"T_56338_row1_col3\" class=\"data row1 col3\" >0.758373</td>\n",
              "    </tr>\n",
              "    <tr>\n",
              "      <th id=\"T_56338_level0_row2\" class=\"row_heading level0 row2\" >2</th>\n",
              "      <td id=\"T_56338_row2_col0\" class=\"data row2 col0\" >LR</td>\n",
              "      <td id=\"T_56338_row2_col1\" class=\"data row2 col1\" >0.791246</td>\n",
              "      <td id=\"T_56338_row2_col2\" class=\"data row2 col2\" >0.811916</td>\n",
              "      <td id=\"T_56338_row2_col3\" class=\"data row2 col3\" >0.765550</td>\n",
              "    </tr>\n",
              "    <tr>\n",
              "      <th id=\"T_56338_level0_row3\" class=\"row_heading level0 row3\" >3</th>\n",
              "      <td id=\"T_56338_row3_col0\" class=\"data row3 col0\" >KNB</td>\n",
              "      <td id=\"T_56338_row3_col1\" class=\"data row3 col1\" >0.800224</td>\n",
              "      <td id=\"T_56338_row3_col2\" class=\"data row3 col2\" >0.796775</td>\n",
              "      <td id=\"T_56338_row3_col3\" class=\"data row3 col3\" >0.717703</td>\n",
              "    </tr>\n",
              "    <tr>\n",
              "      <th id=\"T_56338_level0_row4\" class=\"row_heading level0 row4\" >4</th>\n",
              "      <td id=\"T_56338_row4_col0\" class=\"data row4 col0\" >SVC</td>\n",
              "      <td id=\"T_56338_row4_col1\" class=\"data row4 col1\" >0.823793</td>\n",
              "      <td id=\"T_56338_row4_col2\" class=\"data row4 col2\" >0.810236</td>\n",
              "      <td id=\"T_56338_row4_col3\" class=\"data row4 col3\" >0.779904</td>\n",
              "    </tr>\n",
              "    <tr>\n",
              "      <th id=\"T_56338_level0_row5\" class=\"row_heading level0 row5\" >5</th>\n",
              "      <td id=\"T_56338_row5_col0\" class=\"data row5 col0\" >CAT</td>\n",
              "      <td id=\"T_56338_row5_col1\" class=\"data row5 col1\" >0.814097</td>\n",
              "      <td id=\"T_56338_row5_col2\" class=\"data row5 col2\" >0.828201</td>\n",
              "      <td id=\"T_56338_row5_col3\" class=\"data row5 col3\" >0.799043</td>\n",
              "    </tr>\n",
              "  </tbody>\n",
              "</table>\n"
            ],
            "text/plain": [
              "<pandas.io.formats.style.Styler at 0x2917d7755d0>"
            ]
          },
          "metadata": {},
          "output_type": "display_data"
        }
      ],
      "source": [
        "compare_models(train, test, X_train, y_train, X_test, y_test)"
      ]
    },
    {
      "cell_type": "markdown",
      "metadata": {},
      "source": [
        "As we can see, CatBoost and SVM are the best models for this problem. We will use CatBoost as our base model for the moment."
      ]
    },
    {
      "cell_type": "markdown",
      "metadata": {
        "id": "9-86TicZGkEd"
      },
      "source": [
        "#### Feature engineering"
      ]
    },
    {
      "cell_type": "markdown",
      "metadata": {
        "id": "xuzAWvDYGkEd"
      },
      "source": [
        "..."
      ]
    },
    {
      "cell_type": "markdown",
      "metadata": {
        "id": "y8UIBv3RGkEg"
      },
      "source": [
        "#### Data Preprocessing Function"
      ]
    },
    {
      "cell_type": "code",
      "execution_count": 206,
      "metadata": {
        "id": "ofRZLJZ7GkEg"
      },
      "outputs": [],
      "source": [
        "def preprocess_data(data):\n",
        "\n",
        "    data.drop(['Name', 'Ticket', 'Cabin'], axis=1, inplace=True)\n",
        "\n",
        "    data['Age'].fillna(data['Age'].median(), inplace=True)\n",
        "    data['Embarked'].fillna(data['Embarked'].mode()[0], inplace=True)\n",
        "    data['Fare'].fillna(data['Fare'].median(), inplace=True)\n",
        "    data['Sex'] = data['Sex'].map({'female': 1, 'male': 0})\n",
        "    data = pd.get_dummies(data, columns=['Embarked'])\n",
        "\n",
        "    return data"
      ]
    },
    {
      "cell_type": "markdown",
      "metadata": {
        "id": "PVAG-YMLGkEg"
      },
      "source": [
        "### Prepare the Data"
      ]
    },
    {
      "cell_type": "code",
      "execution_count": 207,
      "metadata": {
        "colab": {
          "base_uri": "https://localhost:8080/"
        },
        "id": "rjZe67TnGkEg",
        "outputId": "1005357d-837e-4179-fb62-b1bda9a692a4"
      },
      "outputs": [
        {
          "data": {
            "text/plain": [
              "(891, 891)"
            ]
          },
          "execution_count": 207,
          "metadata": {},
          "output_type": "execute_result"
        }
      ],
      "source": [
        "train = pd.read_csv(\"train.csv\", index_col=0)\n",
        "train = preprocess_data(train)\n",
        "\n",
        "y_train = train['Survived']\n",
        "X_train = train.drop('Survived', axis=1)\n",
        "\n",
        "len(X_train), len(y_train)"
      ]
    },
    {
      "cell_type": "code",
      "execution_count": 208,
      "metadata": {
        "colab": {
          "base_uri": "https://localhost:8080/"
        },
        "id": "4zmT0xvuGkEh",
        "outputId": "495770f7-00b2-44bb-db46-9ac5731bc8dc"
      },
      "outputs": [
        {
          "data": {
            "text/plain": [
              "(418, 418)"
            ]
          },
          "execution_count": 208,
          "metadata": {},
          "output_type": "execute_result"
        }
      ],
      "source": [
        "test = pd.read_csv('test_with_survived.csv', index_col=0)\n",
        "test = preprocess_data(test)\n",
        "\n",
        "y_test = test['Survived']\n",
        "X_test = test.drop([\"Survived\"], axis=1)\n",
        "\n",
        "len(X_test), len(y_test)"
      ]
    },
    {
      "cell_type": "markdown",
      "metadata": {
        "id": "V-SAev0zGkEi"
      },
      "source": [
        "### Model"
      ]
    },
    {
      "cell_type": "markdown",
      "metadata": {
        "id": "L9e4i0obGkEi"
      },
      "source": [
        "We will use catboost, therefore we need to indicate the categorical features."
      ]
    },
    {
      "cell_type": "code",
      "execution_count": 209,
      "metadata": {
        "colab": {
          "base_uri": "https://localhost:8080/"
        },
        "id": "FlYmauxpGkEi",
        "outputId": "06d534a7-5b77-4044-a07f-387328b0cfea"
      },
      "outputs": [
        {
          "data": {
            "text/plain": [
              "array([0, 1, 3, 4, 6, 7, 8], dtype=int64)"
            ]
          },
          "execution_count": 209,
          "metadata": {},
          "output_type": "execute_result"
        }
      ],
      "source": [
        "cat_features = np.where(X_train.dtypes != float)[0]\n",
        "cat_features"
      ]
    },
    {
      "cell_type": "markdown",
      "metadata": {
        "id": "VCq-jQh0GkEi"
      },
      "source": [
        "Create the Model"
      ]
    },
    {
      "cell_type": "code",
      "execution_count": 210,
      "metadata": {
        "colab": {
          "base_uri": "https://localhost:8080/"
        },
        "id": "tswuBmc3GkEj",
        "outputId": "82b345ac-0aeb-4549-87a2-57193f9c7f48"
      },
      "outputs": [
        {
          "data": {
            "text/plain": [
              "0.7990430622009569"
            ]
          },
          "execution_count": 210,
          "metadata": {},
          "output_type": "execute_result"
        }
      ],
      "source": [
        "# fit the model\n",
        "model = CatBoostClassifier(loss_function='Logloss', eval_metric='Accuracy', verbose=False, use_best_model=True, random_seed=42, cat_features=cat_features)\n",
        "model.fit(X_train, y_train, eval_set=(X_test, y_test))\n",
        "\n",
        "# make predictions\n",
        "y_pred = model.predict(X_test)\n",
        "\n",
        "# evaluate predictions\n",
        "accuracy = accuracy_score(y_test, y_pred)\n",
        "accuracy # 0.7990430622009569"
      ]
    },
    {
      "cell_type": "code",
      "execution_count": 211,
      "metadata": {
        "colab": {
          "base_uri": "https://localhost:8080/"
        },
        "id": "h4xDCB2RGkEj",
        "outputId": "404303c8-fa49-4401-c0a4-fc59683f2ddd"
      },
      "outputs": [
        {
          "name": "stdout",
          "output_type": "stream",
          "text": [
            "              precision    recall  f1-score   support\n",
            "\n",
            "           0       0.81      0.88      0.85       260\n",
            "           1       0.77      0.66      0.71       158\n",
            "\n",
            "    accuracy                           0.80       418\n",
            "   macro avg       0.79      0.77      0.78       418\n",
            "weighted avg       0.80      0.80      0.80       418\n",
            "\n"
          ]
        }
      ],
      "source": [
        "print(classification_report(y_test, y_pred))"
      ]
    },
    {
      "cell_type": "code",
      "execution_count": 212,
      "metadata": {
        "colab": {
          "base_uri": "https://localhost:8080/",
          "height": 430
        },
        "id": "oqLYRSc2GkEp",
        "outputId": "e4c34860-1c89-4b31-c829-64ffe9f5f1d6"
      },
      "outputs": [
        {
          "data": {
            "image/png": "[encoded data removed]",
            "text/plain": [
              "<Figure size 400x400 with 2 Axes>"
            ]
          },
          "metadata": {},
          "output_type": "display_data"
        }
      ],
      "source": [
        "plt.figure(figsize = (4,4))\n",
        "cm = sns.heatmap(confusion_matrix(y_test, y_pred), fmt='g', annot=True)\n",
        "cm.set(title='Confusion Matrix')\n",
        "cm.set(xlabel='Predicted', ylabel='Actual')\n",
        "plt.show()"
      ]
    },
    {
      "cell_type": "code",
      "execution_count": 213,
      "metadata": {
        "colab": {
          "base_uri": "https://localhost:8080/",
          "height": 414
        },
        "id": "Wh2ST6W7GkEq",
        "outputId": "bb6648bb-ee39-4d3b-c31e-fc9813d324bf"
      },
      "outputs": [
        {
          "data": {
            "text/html": [
              "<div>\n",
              "<style scoped>\n",
              "    .dataframe tbody tr th:only-of-type {\n",
              "        vertical-align: middle;\n",
              "    }\n",
              "\n",
              "    .dataframe tbody tr th {\n",
              "        vertical-align: top;\n",
              "    }\n",
              "\n",
              "    .dataframe thead th {\n",
              "        text-align: right;\n",
              "    }\n",
              "</style>\n",
              "<table border=\"1\" class=\"dataframe\">\n",
              "  <thead>\n",
              "    <tr style=\"text-align: right;\">\n",
              "      <th></th>\n",
              "      <th>Feature Id</th>\n",
              "      <th>Importances</th>\n",
              "    </tr>\n",
              "  </thead>\n",
              "  <tbody>\n",
              "    <tr>\n",
              "      <th>0</th>\n",
              "      <td>Sex</td>\n",
              "      <td>42.971406</td>\n",
              "    </tr>\n",
              "    <tr>\n",
              "      <th>1</th>\n",
              "      <td>Pclass</td>\n",
              "      <td>18.585748</td>\n",
              "    </tr>\n",
              "    <tr>\n",
              "      <th>2</th>\n",
              "      <td>Age</td>\n",
              "      <td>11.570046</td>\n",
              "    </tr>\n",
              "    <tr>\n",
              "      <th>3</th>\n",
              "      <td>Fare</td>\n",
              "      <td>9.734781</td>\n",
              "    </tr>\n",
              "    <tr>\n",
              "      <th>4</th>\n",
              "      <td>SibSp</td>\n",
              "      <td>7.140632</td>\n",
              "    </tr>\n",
              "    <tr>\n",
              "      <th>5</th>\n",
              "      <td>Parch</td>\n",
              "      <td>6.359841</td>\n",
              "    </tr>\n",
              "    <tr>\n",
              "      <th>6</th>\n",
              "      <td>Embarked_S</td>\n",
              "      <td>1.829718</td>\n",
              "    </tr>\n",
              "    <tr>\n",
              "      <th>7</th>\n",
              "      <td>Embarked_C</td>\n",
              "      <td>1.089721</td>\n",
              "    </tr>\n",
              "    <tr>\n",
              "      <th>8</th>\n",
              "      <td>Embarked_Q</td>\n",
              "      <td>0.718109</td>\n",
              "    </tr>\n",
              "  </tbody>\n",
              "</table>\n",
              "</div>"
            ],
            "text/plain": [
              "   Feature Id  Importances\n",
              "0         Sex    42.971406\n",
              "1      Pclass    18.585748\n",
              "2         Age    11.570046\n",
              "3        Fare     9.734781\n",
              "4       SibSp     7.140632\n",
              "5       Parch     6.359841\n",
              "6  Embarked_S     1.829718\n",
              "7  Embarked_C     1.089721\n",
              "8  Embarked_Q     0.718109"
            ]
          },
          "execution_count": 213,
          "metadata": {},
          "output_type": "execute_result"
        }
      ],
      "source": [
        "# get the feature importance\n",
        "feature_importance = model.get_feature_importance(prettified=True)\n",
        "feature_importance"
      ]
    },
    {
      "cell_type": "markdown",
      "metadata": {
        "id": "zsG5h-e_GkEq"
      },
      "source": [
        "Hyperparameter Tuning"
      ]
    },
    {
      "cell_type": "markdown",
      "metadata": {
        "id": "DfwyWN1cGkEq"
      },
      "source": [
        "We are going to find the best parameters for the model using GridSearchCV. Also, we are going to use Cross Validation to avoid overfitting."
      ]
    },
    {
      "cell_type": "code",
      "execution_count": null,
      "metadata": {
        "colab": {
          "base_uri": "https://localhost:8080/",
          "height": 147
        },
        "id": "F4imyrmJGkEq",
        "outputId": "2a1c9aed-c0a9-439f-831f-6b435b941e69"
      },
      "outputs": [
        {
          "data": {
            "text/plain": [
              "\"\\ncat_for_search = CatBoostClassifier(loss_function='Logloss',\\n                                    eval_metric='Accuracy',\\n                                    verbose=False,\\n                                    random_state=42)\\n\\nparams = {\\n    'depth': [4, 6, 8, 10],\\n    'learning_rate': [0.01, 0.05, 0.1, 0.2],\\n    'iterations': [100, 200, 300, 500],\\n    'l2_leaf_reg': [1, 3, 5, 7],\\n}\\n\\ngrid = cat_for_search.grid_search(params, Pool(X_train, y_train, cat_features=cat_features), shuffle=True, cv=5, verbose=False,  plot=False)\\n\\nbest_model = CatBoostClassifier(depth=grid['params']['depth'],\\n                                loss_function='Logloss',\\n                                eval_metric='Accuracy',\\n                                use_best_model=True,\\n                                random_seed=42,\\n                                verbose=False)\\n\\nbest_model.fit(X_train, y_train, cat_features=cat_features, eval_set = (X_test, y_test))\\n\\naccuracy_score(y_test, best_model.predict(X_test))\\n\""
            ]
          },
          "execution_count": 91,
          "metadata": {},
          "output_type": "execute_result"
        }
      ],
      "source": [
        "'''\n",
        "cat_for_search = CatBoostClassifier(loss_function='Logloss',\n",
        "                                    eval_metric='Accuracy',\n",
        "                                    verbose=False,\n",
        "                                    random_state=42)\n",
        "\n",
        "params = {\n",
        "    'depth': [4, 6, 8, 10],\n",
        "    'learning_rate': [0.01, 0.05, 0.1, 0.2],\n",
        "    'iterations': [100, 200, 300, 500],\n",
        "    'l2_leaf_reg': [1, 3, 5, 7],\n",
        "}\n",
        "\n",
        "grid = cat_for_search.grid_search(params, Pool(X_train, y_train, cat_features=cat_features), shuffle=True, cv=5, verbose=False,  plot=False)\n",
        "\n",
        "best_model = CatBoostClassifier(depth=grid['params']['depth'],\n",
        "                                loss_function='Logloss',\n",
        "                                eval_metric='Accuracy',\n",
        "                                use_best_model=True,\n",
        "                                random_seed=42,\n",
        "                                verbose=False)\n",
        "\n",
        "best_model.fit(X_train, y_train, cat_features=cat_features, eval_set = (X_test, y_test))\n",
        "\n",
        "accuracy_score(y_test, best_model.predict(X_test))\n",
        "'''"
      ]
    }
  ],
  "metadata": {
    "colab": {
      "provenance": []
    },
    "kernelspec": {
      "display_name": "Python 3",
      "language": "python",
      "name": "python3"
    },
    "language_info": {
      "codemirror_mode": {
        "name": "ipython",
        "version": 3
      },
      "file_extension": ".py",
      "mimetype": "text/x-python",
      "name": "python",
      "nbconvert_exporter": "python",
      "pygments_lexer": "ipython3",
      "version": "3.10.11"
    }
  },
  "nbformat": 4,
  "nbformat_minor": 0
}
