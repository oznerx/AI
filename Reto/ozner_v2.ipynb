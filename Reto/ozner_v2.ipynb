{
 "cells": [
  {
   "cell_type": "markdown",
   "metadata": {},
   "source": [
    "Import libraries"
   ]
  },
  {
   "cell_type": "code",
   "execution_count": 21,
   "metadata": {},
   "outputs": [],
   "source": [
    "import pandas as pd\n",
    "from sklearn.metrics import accuracy_score\n",
    "from catboost import CatBoostClassifier\n",
    "import numpy as np\n",
    "from catboost import Pool\n",
    "from sklearn.model_selection import GridSearchCV\n",
    "import matplotlib.pyplot as plt\n",
    "import seaborn as sns\n",
    "from sklearn.metrics import confusion_matrix, classification_report\n",
    "import regex as re"
   ]
  },
  {
   "cell_type": "markdown",
   "metadata": {},
   "source": [
    "Exploratory Analysis"
   ]
  },
  {
   "cell_type": "markdown",
   "metadata": {},
   "source": [
    "ETL"
   ]
  },
  {
   "cell_type": "code",
   "execution_count": 22,
   "metadata": {},
   "outputs": [],
   "source": [
    "def get_title(name):\n",
    "    title_search = re.search(' ([A-Za-z]+)\\.', name)\n",
    "    # If the title exists, extract and return it.\n",
    "    if title_search:\n",
    "        return title_search.group(1)\n",
    "    return \"\"\n",
    "\n",
    "def preprocess_data(data):\n",
    "\n",
    "    data['Title'] = data['Name'].apply(get_title)\n",
    "    # Clean the variable Title.\n",
    "    data['Title'] = data['Title'].replace(['Lady', 'Countess','Capt', 'Col',\n",
    "    'Don', 'Dr', 'Major', 'Rev', 'Sir', 'Jonkheer', 'Dona'], 'noble')\n",
    "    data['Title'] = data['Title'].replace('Mlle', 'Miss')\n",
    "    data['Title'] = data['Title'].replace('Ms', 'Mrs')\n",
    "    data['Title'] = data['Title'].replace('Mme', 'Mrs')\n",
    "    data['noble'] = data['Title'].apply(lambda x: 1  if x =='noble'  else 0)\n",
    "\n",
    "    data['Age'].fillna(data['Age'].median(), inplace=True)\n",
    "    data['Embarked'].fillna(data['Embarked'].mode()[0], inplace=True)\n",
    "    data['Fare'].fillna(data['Fare'].median(), inplace=True)\n",
    "\n",
    "\n",
    "    # Divide Fare in 10 levels\n",
    "    n = 10\n",
    "    data['Fare_level'] = pd.cut(data['Fare'], n, labels=np.arange(1,n+1))\n",
    "    #data['Fare_range'] = pd.cut(data['Fare'], n)\n",
    "\n",
    "    # get the last cabin if exists\n",
    "    data['Last_cabin'] = data['Cabin'].apply(lambda x: str(x).split()[-1] if pd.notnull(x) else 'N')\n",
    "    # get the Cabin_label of the last cabin\n",
    "    pattern = r'([A-Za-z])'\n",
    "    data['Cabin_label'] = data['Last_cabin'].apply(lambda x: re.search(pattern, str(x)).group(1) if x != 'N' else 'N')\n",
    "    # Get the number of the last cabin if exists\n",
    "    pattern = r'(\\d+)'\n",
    "    data['Cabin_number'] = data['Last_cabin'].apply(lambda x: re.search(pattern, str(x)) if x != 'N' else -1)\n",
    "    # Get the number of distinct cabins reserved by the passenger.\n",
    "    data['Cabin_count'] = data['Cabin'].apply(lambda x: len(str(x).split()) if pd.notnull(x) else 0)\n",
    "    # drop not used columns and columns with NaN values.\n",
    "    data.drop(columns = ['Cabin','Last_cabin', 'Cabin_number'], inplace = True)\n",
    "\n",
    "\n",
    "    data.loc[data['Age'] <= 13, 'Age_group'] = 0 # kids\n",
    "    data.loc[(data['Age'] > 13) & (data['Age'] <= 30), 'Age_group'] = 1 # young\n",
    "    data.loc[(data['Age'] > 30) & (data['Age'] <= 45), 'Age_group'] = 2 # mature1\n",
    "    data.loc[(data['Age'] > 45) & (data['Age'] <= 60), 'Age_group'] = 3 # old\n",
    "    data.loc[(data['Age'] > 60) & (data['Age'] <= 100), 'Age_group'] = 4 # very old\n",
    "\n",
    "    data['Companions'] = data['Ticket'].duplicated(keep=False).astype(int) * data.groupby('Ticket')['Ticket'].transform('count') -1 \n",
    "    data.loc[data['Companions'] == -1, 'Companions'] = 0\n",
    "\n",
    "    data.drop(['Name', 'Ticket'], axis=1, inplace=True)\n",
    "\n",
    "    data['Sex'] = data['Sex'].map({'female': 1, 'male': 0})\n",
    "    data = pd.get_dummies(data, columns=['Embarked'])\n",
    "    data['FamilySize'] = data['SibSp'] + data['Parch']\n",
    "    return data"
   ]
  },
  {
   "cell_type": "code",
   "execution_count": 23,
   "metadata": {},
   "outputs": [
    {
     "data": {
      "text/plain": [
       "(891, 891)"
      ]
     },
     "execution_count": 23,
     "metadata": {},
     "output_type": "execute_result"
    }
   ],
   "source": [
    "train = pd.read_csv(\"train.csv\", index_col=0)\n",
    "train = preprocess_data(train)\n",
    "\n",
    "y_train = train['Survived']\n",
    "X_train = train.drop('Survived', axis=1)\n",
    "\n",
    "len(X_train), len(y_train)"
   ]
  },
  {
   "cell_type": "code",
   "execution_count": 24,
   "metadata": {},
   "outputs": [
    {
     "data": {
      "text/plain": [
       "(418, 418)"
      ]
     },
     "execution_count": 24,
     "metadata": {},
     "output_type": "execute_result"
    }
   ],
   "source": [
    "test = pd.read_csv('test_with_survived.csv', index_col=0)\n",
    "test = preprocess_data(test)\n",
    "\n",
    "y_test = test['Survived']\n",
    "X_test = test.drop([\"Survived\"], axis=1)\n",
    "\n",
    "len(X_test), len(y_test)"
   ]
  },
  {
   "cell_type": "code",
   "execution_count": 25,
   "metadata": {},
   "outputs": [
    {
     "data": {
      "text/plain": [
       "array([ 0,  1,  3,  4,  6,  7,  8,  9, 10, 12, 13, 14, 15, 16],\n",
       "      dtype=int64)"
      ]
     },
     "execution_count": 25,
     "metadata": {},
     "output_type": "execute_result"
    }
   ],
   "source": [
    "cat_features = np.where(X_train.dtypes != float)[0]\n",
    "cat_features"
   ]
  },
  {
   "cell_type": "code",
   "execution_count": 26,
   "metadata": {},
   "outputs": [
    {
     "data": {
      "text/html": [
       "<div>\n",
       "<style scoped>\n",
       "    .dataframe tbody tr th:only-of-type {\n",
       "        vertical-align: middle;\n",
       "    }\n",
       "\n",
       "    .dataframe tbody tr th {\n",
       "        vertical-align: top;\n",
       "    }\n",
       "\n",
       "    .dataframe thead th {\n",
       "        text-align: right;\n",
       "    }\n",
       "</style>\n",
       "<table border=\"1\" class=\"dataframe\">\n",
       "  <thead>\n",
       "    <tr style=\"text-align: right;\">\n",
       "      <th></th>\n",
       "      <th>Pclass</th>\n",
       "      <th>Sex</th>\n",
       "      <th>Age</th>\n",
       "      <th>SibSp</th>\n",
       "      <th>Parch</th>\n",
       "      <th>Fare</th>\n",
       "      <th>Title</th>\n",
       "      <th>noble</th>\n",
       "      <th>Fare_level</th>\n",
       "      <th>Cabin_label</th>\n",
       "      <th>Cabin_count</th>\n",
       "      <th>Age_group</th>\n",
       "      <th>Companions</th>\n",
       "      <th>Embarked_C</th>\n",
       "      <th>Embarked_Q</th>\n",
       "      <th>Embarked_S</th>\n",
       "      <th>FamilySize</th>\n",
       "    </tr>\n",
       "    <tr>\n",
       "      <th>PassengerId</th>\n",
       "      <th></th>\n",
       "      <th></th>\n",
       "      <th></th>\n",
       "      <th></th>\n",
       "      <th></th>\n",
       "      <th></th>\n",
       "      <th></th>\n",
       "      <th></th>\n",
       "      <th></th>\n",
       "      <th></th>\n",
       "      <th></th>\n",
       "      <th></th>\n",
       "      <th></th>\n",
       "      <th></th>\n",
       "      <th></th>\n",
       "      <th></th>\n",
       "      <th></th>\n",
       "    </tr>\n",
       "  </thead>\n",
       "  <tbody>\n",
       "    <tr>\n",
       "      <th>1</th>\n",
       "      <td>3</td>\n",
       "      <td>0</td>\n",
       "      <td>22.0</td>\n",
       "      <td>1</td>\n",
       "      <td>0</td>\n",
       "      <td>7.2500</td>\n",
       "      <td>Mr</td>\n",
       "      <td>0</td>\n",
       "      <td>1</td>\n",
       "      <td>N</td>\n",
       "      <td>0</td>\n",
       "      <td>1.0</td>\n",
       "      <td>0</td>\n",
       "      <td>0</td>\n",
       "      <td>0</td>\n",
       "      <td>1</td>\n",
       "      <td>1</td>\n",
       "    </tr>\n",
       "    <tr>\n",
       "      <th>2</th>\n",
       "      <td>1</td>\n",
       "      <td>1</td>\n",
       "      <td>38.0</td>\n",
       "      <td>1</td>\n",
       "      <td>0</td>\n",
       "      <td>71.2833</td>\n",
       "      <td>Mrs</td>\n",
       "      <td>0</td>\n",
       "      <td>2</td>\n",
       "      <td>C</td>\n",
       "      <td>1</td>\n",
       "      <td>2.0</td>\n",
       "      <td>0</td>\n",
       "      <td>1</td>\n",
       "      <td>0</td>\n",
       "      <td>0</td>\n",
       "      <td>1</td>\n",
       "    </tr>\n",
       "    <tr>\n",
       "      <th>3</th>\n",
       "      <td>3</td>\n",
       "      <td>1</td>\n",
       "      <td>26.0</td>\n",
       "      <td>0</td>\n",
       "      <td>0</td>\n",
       "      <td>7.9250</td>\n",
       "      <td>Miss</td>\n",
       "      <td>0</td>\n",
       "      <td>1</td>\n",
       "      <td>N</td>\n",
       "      <td>0</td>\n",
       "      <td>1.0</td>\n",
       "      <td>0</td>\n",
       "      <td>0</td>\n",
       "      <td>0</td>\n",
       "      <td>1</td>\n",
       "      <td>0</td>\n",
       "    </tr>\n",
       "    <tr>\n",
       "      <th>4</th>\n",
       "      <td>1</td>\n",
       "      <td>1</td>\n",
       "      <td>35.0</td>\n",
       "      <td>1</td>\n",
       "      <td>0</td>\n",
       "      <td>53.1000</td>\n",
       "      <td>Mrs</td>\n",
       "      <td>0</td>\n",
       "      <td>2</td>\n",
       "      <td>C</td>\n",
       "      <td>1</td>\n",
       "      <td>2.0</td>\n",
       "      <td>1</td>\n",
       "      <td>0</td>\n",
       "      <td>0</td>\n",
       "      <td>1</td>\n",
       "      <td>1</td>\n",
       "    </tr>\n",
       "    <tr>\n",
       "      <th>5</th>\n",
       "      <td>3</td>\n",
       "      <td>0</td>\n",
       "      <td>35.0</td>\n",
       "      <td>0</td>\n",
       "      <td>0</td>\n",
       "      <td>8.0500</td>\n",
       "      <td>Mr</td>\n",
       "      <td>0</td>\n",
       "      <td>1</td>\n",
       "      <td>N</td>\n",
       "      <td>0</td>\n",
       "      <td>2.0</td>\n",
       "      <td>0</td>\n",
       "      <td>0</td>\n",
       "      <td>0</td>\n",
       "      <td>1</td>\n",
       "      <td>0</td>\n",
       "    </tr>\n",
       "  </tbody>\n",
       "</table>\n",
       "</div>"
      ],
      "text/plain": [
       "             Pclass  Sex   Age  SibSp  Parch     Fare Title  noble Fare_level  \\\n",
       "PassengerId                                                                     \n",
       "1                 3    0  22.0      1      0   7.2500    Mr      0          1   \n",
       "2                 1    1  38.0      1      0  71.2833   Mrs      0          2   \n",
       "3                 3    1  26.0      0      0   7.9250  Miss      0          1   \n",
       "4                 1    1  35.0      1      0  53.1000   Mrs      0          2   \n",
       "5                 3    0  35.0      0      0   8.0500    Mr      0          1   \n",
       "\n",
       "            Cabin_label  Cabin_count  Age_group  Companions  Embarked_C  \\\n",
       "PassengerId                                                               \n",
       "1                     N            0        1.0           0           0   \n",
       "2                     C            1        2.0           0           1   \n",
       "3                     N            0        1.0           0           0   \n",
       "4                     C            1        2.0           1           0   \n",
       "5                     N            0        2.0           0           0   \n",
       "\n",
       "             Embarked_Q  Embarked_S  FamilySize  \n",
       "PassengerId                                      \n",
       "1                     0           1           1  \n",
       "2                     0           0           1  \n",
       "3                     0           1           0  \n",
       "4                     0           1           1  \n",
       "5                     0           1           0  "
      ]
     },
     "execution_count": 26,
     "metadata": {},
     "output_type": "execute_result"
    }
   ],
   "source": [
    "X_train.head()"
   ]
  },
  {
   "cell_type": "markdown",
   "metadata": {},
   "source": [
    "Create a Model"
   ]
  },
  {
   "cell_type": "code",
   "execution_count": 28,
   "metadata": {},
   "outputs": [
    {
     "data": {
      "text/plain": [
       "0.7894736842105263"
      ]
     },
     "execution_count": 28,
     "metadata": {},
     "output_type": "execute_result"
    }
   ],
   "source": [
    "# fit the model\n",
    "model = CatBoostClassifier(loss_function='Logloss', eval_metric='Accuracy', verbose=False, use_best_model=True, random_seed=42, cat_features=cat_features)\n",
    "model.fit(X_train, y_train, eval_set=(X_test, y_test))\n",
    "\n",
    "# make predictions\n",
    "y_pred = model.predict(X_test)\n",
    "\n",
    "# evaluate predictions\n",
    "accuracy = accuracy_score(y_test, y_pred)\n",
    "accuracy # 0.7990430622009569, 0.794"
   ]
  },
  {
   "cell_type": "code",
   "execution_count": 29,
   "metadata": {},
   "outputs": [
    {
     "name": "stdout",
     "output_type": "stream",
     "text": [
      "              precision    recall  f1-score   support\n",
      "\n",
      "           0       0.83      0.83      0.83       260\n",
      "           1       0.72      0.72      0.72       158\n",
      "\n",
      "    accuracy                           0.79       418\n",
      "   macro avg       0.78      0.78      0.78       418\n",
      "weighted avg       0.79      0.79      0.79       418\n",
      "\n"
     ]
    }
   ],
   "source": [
    "print(classification_report(y_test, y_pred))"
   ]
  },
  {
   "cell_type": "code",
   "execution_count": 30,
   "metadata": {},
   "outputs": [
    {
     "data": {
      "image/png": "[encoded data removed]",
      "text/plain": [
       "<Figure size 400x400 with 2 Axes>"
      ]
     },
     "metadata": {},
     "output_type": "display_data"
    }
   ],
   "source": [
    "plt.figure(figsize = (4,4))\n",
    "cm = sns.heatmap(confusion_matrix(y_test, y_pred), fmt='g', annot=True)\n",
    "cm.set(title='Confusion Matrix')\n",
    "cm.set(xlabel='Predicted', ylabel='Actual')\n",
    "plt.show()"
   ]
  },
  {
   "cell_type": "markdown",
   "metadata": {},
   "source": [
    "Hyperparameter Tuning"
   ]
  },
  {
   "cell_type": "markdown",
   "metadata": {},
   "source": [
    "We are going to find the best parameters for the model using GridSearchCV. Also, we are going to use Cross Validation to avoid overfitting."
   ]
  },
  {
   "cell_type": "code",
   "execution_count": 31,
   "metadata": {},
   "outputs": [
    {
     "data": {
      "text/plain": [
       "\"\\n\\ngrid = cat_for_search.grid_search(params, Pool(X_train, y_train, cat_features=cat_features), shuffle=True, cv=5, verbose=False,  plot=False)\\n\\nbest_model = CatBoostClassifier(depth=grid['params']['depth'],\\n                                loss_function='Logloss',\\n                                eval_metric='Accuracy',\\n                                use_best_model=True,\\n                                random_seed=42,\\n                                verbose=False)\\n\\nbest_model.fit(X_train, y_train, cat_features=cat_features, eval_set = (X_test, y_test))\\n\\naccuracy_score(y_test, best_model.predict(X_test))\\n\""
      ]
     },
     "execution_count": 31,
     "metadata": {},
     "output_type": "execute_result"
    }
   ],
   "source": [
    "'''\n",
    "cat_for_search = CatBoostClassifier(loss_function='Logloss',\n",
    "                                    eval_metric='Accuracy',\n",
    "                                    verbose=False,\n",
    "                                    random_state=42)\n",
    "\n",
    "params = {'depth': [2,3,4,5,6,7,8,9,10]}\n",
    "\n",
    "'''\n",
    "params = {\n",
    "    'depth': [4, 6, 8, 10],\n",
    "    'learning_rate': [0.01, 0.05, 0.1, 0.2],\n",
    "    'iterations': [100, 200, 300, 500],\n",
    "    'l2_leaf_reg': [1, 3, 5, 7],\n",
    "}\n",
    "'''\n",
    "\n",
    "grid = cat_for_search.grid_search(params, Pool(X_train, y_train, cat_features=cat_features), shuffle=True, cv=5, verbose=False,  plot=False)\n",
    "\n",
    "best_model = CatBoostClassifier(depth=grid['params']['depth'],\n",
    "                                loss_function='Logloss',\n",
    "                                eval_metric='Accuracy',\n",
    "                                use_best_model=True,\n",
    "                                random_seed=42,\n",
    "                                verbose=False)\n",
    "\n",
    "best_model.fit(X_train, y_train, cat_features=cat_features, eval_set = (X_test, y_test))\n",
    "\n",
    "accuracy_score(y_test, best_model.predict(X_test))\n",
    "'''"
   ]
  }
 ],
 "metadata": {
  "kernelspec": {
   "display_name": "Python 3",
   "language": "python",
   "name": "python3"
  },
  "language_info": {
   "codemirror_mode": {
    "name": "ipython",
    "version": 3
   },
   "file_extension": ".py",
   "mimetype": "text/x-python",
   "name": "python",
   "nbconvert_exporter": "python",
   "pygments_lexer": "ipython3",
   "version": "3.10.11"
  }
 },
 "nbformat": 4,
 "nbformat_minor": 2
}
